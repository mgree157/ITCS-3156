{
 "cells": [
  {
   "cell_type": "markdown",
   "metadata": {},
   "source": [
    "# The Perceptron\n"
   ]
  },
  {
   "cell_type": "code",
   "execution_count": 1,
   "metadata": {},
   "outputs": [],
   "source": [
    "import numpy as np\n",
    "import pandas as pd\n",
    "import matplotlib.pyplot as plt"
   ]
  },
  {
   "cell_type": "markdown",
   "metadata": {},
   "source": [
    "## Table of Notation\n",
    "\n",
    "$\n",
    "\\newcommand{\\xv}{\\mathbf{x}}\n",
    "\\newcommand{\\wv}{\\mathbf{w}}\n",
    "\\newcommand{\\yv}{\\mathbf{y}}\n",
    "\\newcommand{\\tv}{\\mathbf{t}}\n",
    "\\newcommand{\\zv}{\\mathbf{z}}\n",
    "\\newcommand{\\uv}{\\mathbf{u}}\n",
    "\\newcommand{\\vv}{\\mathbf{v}}\n",
    "\\newcommand{\\bv}{\\mathbf{b}}\n",
    "\\newcommand{\\av}{\\mathbf{a}}\n",
    "\\newcommand{\\Chi}{\\mathcal{X}}\n",
    "\\newcommand{\\R}{\\rm I\\!R}\n",
    "\\newcommand{\\sign}{\\text{sign}}\n",
    "\\newcommand{\\Ym}{\\mathbf{Y}}\n",
    "\\newcommand{\\Tm}{\\mathbf{T}}\n",
    "\\newcommand{\\Xm}{\\mathbf{X}}\n",
    "\\newcommand{\\Wm}{\\mathbf{W}}\n",
    "\\newcommand{\\Zm}{\\mathbf{Z}}\n",
    "\\newcommand{\\Um}{\\mathbf{U}}\n",
    "\\newcommand{\\Vm}{\\mathbf{V}}\n",
    "\\newcommand{\\Am}{\\mathbf{A}}\n",
    "\\newcommand{\\Im}{\\mathbf{I}}\n",
    "\\newcommand{\\muv}{\\boldsymbol\\mu}\n",
    "\\newcommand{\\Sigmav}{\\boldsymbol\\Sigma}\n",
    "\\newcommand{\\Lambdav}{\\boldsymbol\\Lambda}\n",
    "\\newcommand{\\xspace}{\\mathcal{X}}\n",
    "\\newcommand{\\yspace}{\\mathcal{Y}}\n",
    "$\n",
    "\n",
    "| Symbol                | Meaning                       | Symbol                                              | Meaning                        |\n",
    "|-----------------------|-------------------------------|-----------------------------------------------------|--------------------------------|\n",
    "| $D$                   | dataset                       | $h$<br>$f$                                          | hypothesis function            |\n",
    "| $\\Xm$                 | input matrix                  | $x_{i,j}$                                           | $i$th row and $j$th column     |\n",
    "| $\\xv$<br>$\\vec{x}$    | feature/input vector          | $x_i$                                               | $i$th element                  |\n",
    "| $\\Ym$<br>$\\Tm$        | labels/targets matrix         | $\\yv$<br>$\\tv$                                      | labels/targets vector          |\n",
    "| $N$                   | number of features or columns | $M$                                                 | number of data samples or rows |\n",
    "| $n$                   | feature or column index       | $m$                                                 | data sample or row index |\n",
    "| $(\\xv, \\yv)$          | training sample               | $(\\xv', \\yv')$                                      | testing sample                 |\n",
    "|      $\\Im$                 | identity matrix                               | $\\hat{\\yv}$<br>$f(\\xv {;} \\wv)$<br>$h(\\xv {;} \\wv)$ | predictions                    |\n",
    "| $b$                   | bias or y-intercept term      | $w$<br>$\\wv$<br>$\\Wm$                               | wights                         |\n",
    "| $E$                   | error                         | $SSE$                                               | sum of squared error function  |\n",
    "| $MSE$                 | mean squared error   | $\\lambda$ | reguarlization term\n",
    "| $||\\cdot||$| norm | $\\nabla$ | gradient (nabla)   \n",
    "| $\\alpha$  |  learning rate (alpha)  | $T$ |  Threshold   \n",
    "|$z$<br>$\\zv$ |  value before applying activation function   | |  "
   ]
  },
  {
   "cell_type": "markdown",
   "metadata": {},
   "source": [
    "## Review\n",
    "\n",
    "### Classification\n",
    "<center><img src=\"https://static.javatpoint.com/tutorial/machine-learning/images/classification-algorithm-in-machine-learning.png\"></center>\n",
    "\n",
    "\n",
    "Recall that for classification, the goal is to predict some discrete labels, otherwise known as classes.  Thus, if we have 3 classes, the corresponding labels could be $y \\in \\{0, 1, 2\\}$. Further, the predictions will follow suit by attempting to predict the same discrete values $\\hat{y} = \\{0, 1, 2\\}$. \n",
    "\n",
    "In this module, we are going to focus on *binary classification*. Binary classification entails that the dataset has only two class. For example, let's say we have two classes: A and B. The goal is to then predict a given data sample as either A or B. This is an example of a binary classifier whose labels could be $y \\in \\{0,1\\}$ and the predictions would also then be $\\hat{y} \\in \\{0,1\\}$. Here we can say class A corresponds to the label 0, $y=0$, and class B corresponds to the label of 1, $y=1$.\n",
    "\n",
    "\n",
    "By learning to predict a given class label, we can think of the model as trying to “separate” the data as seen in the above image. With simple 2D and 3D datasets we can actually use the weights to draw decision boundaries just like this!"
   ]
  },
  {
   "cell_type": "markdown",
   "metadata": {},
   "source": [
    "\n",
    "\n",
    "### Linear Models\n",
    "Further, recall, a model can make a prediction by taking the dot product of the weights $\\wv$ and input features $\\Xm$. Here $\\Xm$ is a matrix, and  $\\wv$ is a column vector, meaning we are computing the predictions for **MULTIPLE** data samples at once and thus the output would be a **vector** $\\hat{\\yv}$. \n",
    "\n",
    "$$ \\hat{\\yv} = \\Xm \\wv $$\n",
    "\n",
    "In the above equation, $\\hat{\\yv} = [\\hat{y}_0; \\hat{y}_1; \\dots; \\hat{y}_M]$ is a vector which holds the predicted real valued (continuous) outputs each of the $m$ data samples such that $\\hat{\\yv} \\in \\mathbb{R}^M$.\n",
    "\n",
    "\n",
    "Instead, if a feature vector $\\xv$ is given as a column vector, then we would compute predictions for a **SINGLE** data sample and thus the output would be a **scalar** $\\hat{y}$. \n",
    "\n",
    "$$ \\hat{y} = \\wv^\\top \\xv $$\n",
    "\n",
    "In the above equation, $\\hat{y}$ is a scalar which holds the predicted real valued (continuous) output $\\hat{y} \\in \\mathbb{R}$.\n",
    "\n",
    "Further, recall that we should always assume the first column of $\\Xm$ contains the bias column (columns of ones) such that $\\Xm \\wv = \\Xm \\wv + \\bv$ is true. The same is true for $\\xv$ whose first element is the bias term (i.e., a 1) such that  $\\wv^\\top \\xv = \\wv^\\top \\xv +b$ is true. We move the bias term inside $\\Xm$ and $\\xv$ so that our equations are cleaner. **Moving forward, if the bias is not included inside $\\Xm$ or $\\xv$ it will be explicitly stated!**\n",
    "\n",
    "The question is then the following: how can we use a linear model with continuous outputs for classification such that we predict discrete labels like $\\{0, 1\\}$? "
   ]
  },
  {
   "cell_type": "markdown",
   "metadata": {},
   "source": [
    "## Linear Regression to Classification\n",
    "The answer is actually relatively simple, we need to discretize the values of  $\\hat{\\yv}$. To do so, we often use what are called [*activation functions*](https://en.wikipedia.org/wiki/Activation_function) which simply convert inputs into new values using a function. The most naive activation function we can apply is a thresholding function, which turns continuous values into discrete values. \n",
    "\n",
    "Thus, given a threshold $T$, if the output $\\hat{y}$ is greater than the threshold $T$ we assume it belongs to the 1st class. If the output value $\\hat{y}$ is less than or equal to threshold $T$ it then belongs to 2nd class (or vice versa).  For binary classification, we often use the two discrete values such as [0, 1] or [-1, 1] as the class labels.\n",
    "\n",
    "Mathematically, we write a thresholding function using an *indicator function* defined as follows:\n",
    "\n",
    "$$\n",
    "\\hat{y}=\\begin{cases}\n",
    "1  \\quad &\\text{if} \\, \\wv^\\top \\xv - T > 0 \\\\\n",
    "0  \\quad &\\text{else} \\tag{1} \\\\\n",
    "\\end{cases}\n",
    "$$\n",
    "\n",
    "The intuition for $\\wv^\\top \\xv - T > 0$ is that any prediction $\\wv^\\top \\xv$ minus the threshold $T$ must be a positive number if the prediction is larger than the threshold $\\wv^\\top \\xv > T$. Likewise, any prediction $\\wv^\\top \\xv$ minus the threshold $T$ that is negative can then be assumed to less than the threshold $\\wv^\\top \\xv < T$. Remember, this is just basic subtraction rules, a larger number minus a smaller number is positive while a smaller number minus a larger number is negative!\n",
    "\n",
    "As such, we could write the same indicator function as given below.\n",
    "\n",
    "$$\n",
    "\\hat{y}=\\begin{cases}\n",
    "1  \\quad &\\text{if} \\, \\wv^\\top \\xv  > T \\\\\n",
    "0  \\quad &\\text{else} \\tag{2} \\\\\n",
    "\\end{cases}\n",
    "$$\n",
    "\n",
    "**However, Eq. 1 is much more convenient than Eq. 2 because we can essentially treat the threshold $T$ the same as bias $b$ in the linear regression equation $\\hat{y} = \\wv^\\top \\xv + b$**. In Eq. 2 we would have to manually set a threshold, whereas in Eq. 1 we can treat the threshold $T$ the same as the bias $b$ such that we leave finding the best threshold or bias up to the model. In doing so, the model automatically learns the best threshold (just like how linear regression models learn the best bias or y-intercept term)!\n",
    "\n",
    "With these ideas in mind, we can now look at the perceptron algorithm!"
   ]
  },
  {
   "cell_type": "markdown",
   "metadata": {},
   "source": [
    "# Rosenblatt's Perceptron Algorithm\n",
    "\n",
    "## General Structure\n",
    "\n",
    "The perceptron algorithm was originally developed back in 1957 by Frank Rosenblatt. It is one of the first artificial neural networks architectures. Meaning, the perceptron attempts to replicate a biological neuron in the most naive manner. \n",
    "\n",
    "Below, is an example of what a biological neuron looks like. The basic idea here is as follows:\n",
    "1. The dendrites take in inputs from other neurons. \n",
    "2. The inputs from the dendrites are summed in the cell body until a threshold is exceeded.\n",
    "3. Once this threshold is exceeded, the cell fires, sending a signal all the down the axon to the axon terminals. \n",
    "4. The axon terminals then distribute the output of the cell to other neurons.\n",
    "\n",
    "<center><img src=\"https://upload.wikimedia.org/wikipedia/commons/4/44/Neuron3.png\" width=500 height=500></center>\n",
    "\n",
    "Now, the perceptron algorithm applies these ideas summing the inputs, thresholding, and then outputting information in the most basic fashion as depicted in the below image. In summary, the below image depicts the below steps, where the predictions $y$ in the image is equivalent to $\\hat{y}$ in our notation.\n",
    "\n",
    "<center><img src=\"http://neuron.eng.wayne.edu/tarek/MITbook/chap3/img00001.gif\"></center>\n",
    "\n",
    "1. First, just like in linear modeling, we take the dot product of our input features $\\xv$ and weights $\\wv$ (with a bias/threshold term added). Recall that taking the dot product is the same as multiplying each feature by the corresponding weight and summing! This gives us a continuous value, we will refer to as $z$ when using a single data sample $\\xv$. When using ALL or a mini-batch of our data $\\Xm$, the output would be a vector of continuous values $\\zv$.\n",
    "\n",
    "$$\n",
    "z = \\wv^\\top \\xv\n",
    "$$\n",
    "\n",
    "2. Next, an *activation function* is applied to our continuous values $z$. In particular, the perceptron uses thresholding function called the $\\sign$ function which squashes the continuous values into discrete values of [-1, 1] giving us our prediction $\\hat{y}$.\n",
    "\n",
    "$$\n",
    "\\hat{y} = \\sign(z)\n",
    "$$\n",
    "\n",
    "\n",
    "\n",
    "Welp, given the idea of the perceptron, we can see that almost all the steps are the same as we have seen in linear regression already - except for applying the activation function. Let's look at how this $\\sign$ activation function works briefly."
   ]
  },
  {
   "cell_type": "markdown",
   "metadata": {},
   "source": [
    "### Activation Function\n",
    "\n",
    "**The most important thing about the perceptron is that the $\\sign$ function requires the class labels of [-1, 1] instead of [0, 1].** In coming weeks we will see how to make the perceptron into a more robust algorithm that also uses the class labels of [0, 1].\n",
    "\n",
    "So why do we need the class labels [-1, 1] specifically? Well, this is because the $\\sign$ function simply takes the sign (- or +) of the continuous valued output. By doing so, it converts all continuous outputs into discrete outputs of [-1, 1].  \n",
    "\n",
    "How do we write the $\\sign$ function in more mathematical terms? Well, we can write it just like the $\\{0, 1\\}$ indicator function we defined in Eq. $1$. \n",
    "\n",
    "However now, we will now use the labels [-1, 1].\n",
    "\n",
    "$$\n",
    "\\hat{y}=\\begin{cases}\n",
    "1  \\quad &\\text{if} \\, \\wv^\\top \\xv - T > 0 \\\\\n",
    "-1  \\quad &\\text{else} \\\\\n",
    "\\end{cases}\n",
    "$$\n",
    "\n",
    "Also recall that the threshold $T$ is actually akin the the bias term $b$ which we used in previously in linear regression modeling. This because the bias $b$ and threshold $T$ act in the exact same manner in our equation. Remember that if we remove the bias term from the weights $\\wv$ then we have $\\wv^\\top \\xv + b$. Next, notice this is the same equation as  $\\wv^\\top \\xv - T$ except there is a minus sign. Thus, we can treat the two equations as the same if $b = -T$. Note that in practice, the sign of the bias function doesn't matter! That's it, the reasoning for treating the threshold and bias as the same thing is as simple as that. We can rewrite our sign function definition again as follows:\n",
    "$$\n",
    "\\hat{y}=\\begin{cases}\n",
    "1  \\quad &\\text{if} \\, \\wv^\\top \\xv + b > 0 \\\\\n",
    "-1  \\quad &\\text{else} \\\\\n",
    "\\end{cases}\n",
    "$$\n",
    "Now we can reintegrate the bias $b$  (i.e., threshold $T$) back into our weight matrix to compress the notation to the following:\n",
    "$$\n",
    "\\hat{y}=\\begin{cases}\n",
    "1  \\quad &\\text{if} \\, \\wv^\\top \\xv > 0 \\\\\n",
    "-1  \\quad &\\text{else} \\\\\n",
    "\\end{cases}\n",
    "$$\n",
    "\n",
    "\n",
    "Thus, our final definition of the $\\sign$ function is as follows:\n",
    "\n",
    "$$\n",
    "\\hat{y}=\\begin{cases}\n",
    "1  \\quad &\\text{if} \\, \\wv^\\top \\xv > 0 \\\\\n",
    "-1  \\quad &\\text{else} \\\\\n",
    "\\end{cases}\n",
    "$$\n",
    "\n",
    "Visually, the $\\sign$ function looks like the below plot. You might be wondering, what happens if our prediction is exactly zero such that $z = \\wv^\\top \\xv = 0$? Does it get assigned the label 1 or-1? Welp, this tie is actually arbitrary, but typically we just assign any continuous predictions $z$ of 0 to have a label of -1. \n",
    "\n",
    "<!-- Furthermore, notice that this function is not differentiable at zero! This will become important shortly. -->"
   ]
  },
  {
   "cell_type": "markdown",
   "metadata": {},
   "source": [
    "#### Sign Function Code\n",
    "\n",
    "\n",
    "Below is code showing off how the sign function works."
   ]
  },
  {
   "cell_type": "code",
   "execution_count": 2,
   "metadata": {},
   "outputs": [],
   "source": [
    "x = np.linspace(-10, 10)\n",
    "y = np.sign(x)"
   ]
  },
  {
   "cell_type": "markdown",
   "metadata": {},
   "source": [
    "Random inputs `x`."
   ]
  },
  {
   "cell_type": "code",
   "execution_count": 3,
   "metadata": {},
   "outputs": [
    {
     "data": {
      "text/plain": [
       "array([-10.        ,  -9.59183673,  -9.18367347,  -8.7755102 ,\n",
       "        -8.36734694,  -7.95918367,  -7.55102041,  -7.14285714,\n",
       "        -6.73469388,  -6.32653061,  -5.91836735,  -5.51020408,\n",
       "        -5.10204082,  -4.69387755,  -4.28571429,  -3.87755102,\n",
       "        -3.46938776,  -3.06122449,  -2.65306122,  -2.24489796,\n",
       "        -1.83673469,  -1.42857143,  -1.02040816,  -0.6122449 ,\n",
       "        -0.20408163,   0.20408163,   0.6122449 ,   1.02040816,\n",
       "         1.42857143,   1.83673469,   2.24489796,   2.65306122,\n",
       "         3.06122449,   3.46938776,   3.87755102,   4.28571429,\n",
       "         4.69387755,   5.10204082,   5.51020408,   5.91836735,\n",
       "         6.32653061,   6.73469388,   7.14285714,   7.55102041,\n",
       "         7.95918367,   8.36734694,   8.7755102 ,   9.18367347,\n",
       "         9.59183673,  10.        ])"
      ]
     },
     "execution_count": 3,
     "metadata": {},
     "output_type": "execute_result"
    }
   ],
   "source": [
    "x"
   ]
  },
  {
   "cell_type": "markdown",
   "metadata": {},
   "source": [
    "Values of inputs `x` after being transformed by the $\\sign$ activation function."
   ]
  },
  {
   "cell_type": "code",
   "execution_count": 4,
   "metadata": {},
   "outputs": [
    {
     "data": {
      "text/plain": [
       "array([-1., -1., -1., -1., -1., -1., -1., -1., -1., -1., -1., -1., -1.,\n",
       "       -1., -1., -1., -1., -1., -1., -1., -1., -1., -1., -1., -1.,  1.,\n",
       "        1.,  1.,  1.,  1.,  1.,  1.,  1.,  1.,  1.,  1.,  1.,  1.,  1.,\n",
       "        1.,  1.,  1.,  1.,  1.,  1.,  1.,  1.,  1.,  1.,  1.])"
      ]
     },
     "execution_count": 4,
     "metadata": {},
     "output_type": "execute_result"
    }
   ],
   "source": [
    "np.sign(x)"
   ]
  },
  {
   "cell_type": "code",
   "execution_count": 5,
   "metadata": {},
   "outputs": [
    {
     "data": {
      "image/png": "[encoded data removed]",
      "text/plain": [
       "<Figure size 640x480 with 1 Axes>"
      ]
     },
     "metadata": {},
     "output_type": "display_data"
    }
   ],
   "source": [
    "plt.plot(x, y)\n",
    "plt.axis('tight')\n",
    "plt.title('The Sign Activation Function')\n",
    "plt.show()"
   ]
  },
  {
   "cell_type": "markdown",
   "metadata": {},
   "source": [
    "## The Perceptron Learning Rule\n",
    "So how then do we learn the weights for the perceptron algorithm? What error function do we even use? We could formulate the Perceptron's error function as *minimizing* the number of misclassified data samples (i.e., predicting the wrong label for a given data sample) given as follows:\n",
    "\n",
    "$$\n",
    "\\begin{align}\n",
    "J(\\wv) &= \\min_\\wv - \\sum_{m=0}^\\mathcal{M} \\Big(\\sign(\\wv^\\top \\xv_m)y_m) \\\\\n",
    "&= \\min_\\wv - \\sum_{m=0}^\\mathcal{M} \\Big(\\hat{y}y_m \\Big)  \\\\\n",
    "\\end{align}\n",
    "$$\n",
    "\n",
    "where in this equation:\n",
    "- $\\mathcal{M}$ is the set of data samples in $X$ that are **misclassified**\n",
    "- $\\sign(\\wv^\\top \\xv_m)$ represents the prediction $\\hat{y}$ after multiplying and summing the inputs and weights and after applying the activation function, which is the $\\sign$ function. Thus, $\\sign(\\wv^\\top \\xv_m) = \\hat{y}$. \n",
    "\n",
    "We multiply by the label $y$ because if a sample is misclassified, then the sign of the label will not match the sign of prediction $\\hat{y}$. This means that $\\hat{y}y_m = -1$ is always true for misclassified samples. Below is a table of the possible ways a misclassification could happen.\n",
    "\n",
    "\n",
    "| $\\hat{y}$ | $y$ | $\\hat{y}$$y$|\n",
    "|---|---|:------|\n",
    "| -1 | 1 |-1|\n",
    "| 1 | -1 |-1|\n",
    "\n",
    "\n",
    "Thus, in the above error function, we are summing negative values and then taking the negative of the sum to compute the total number of samples misclassified. This is just a complex mathematical way of saying we want to minimize the number of misclassifications\n",
    "\n",
    "However, the issue with this error function is that it contains the $\\sign$ function. Recall, that the $\\sign$ function is **NOT differentiable at zero**. This means we can't apply any optimizations techniques that we have used so far to find the best weights for our training data.\n",
    "\n",
    "Luckily, Rosenblatt was able to come up with a very clever rule to update the weights **that is guaranteed to converge IF the data is linearly separable.** Let's take a look at this weight update learning rule."
   ]
  },
  {
   "cell_type": "markdown",
   "metadata": {},
   "source": [
    "### Weight Update\n",
    "Rosenblatt came up with the following **online learning** weight update rule that is applied ONLY when a data sample is misclassified:\n",
    "\n",
    "$$\n",
    "\\wv_{k+1} = \\wv_k + \\alpha y_m \\xv_m\n",
    "$$\n",
    "\n",
    "where in this equation:\n",
    "- $\\wv_{k+t}$ are the weights AFTER being updated. \n",
    "- $\\wv_{k}$ are the weights BEFORE being updated.\n",
    "- $k$ is just notation to help us distinguish the weights before being updated, and $k+1$ is used to help us distinguish the weights after being updated.\n",
    "- $\\alpha$ is the learning rate\n",
    "- $y_m$ is the label for the current data sample\n",
    "- $\\xv_m$ is the current data sample's feature vector.\n",
    "- $m$ is just used to indicate which data sample we are currently using for the update.\n",
    "\n",
    "Notice that this equation looks oddly like online gradient descent. However, keep in mind, we can NOT perform gradient descent since the error function is not differentiable. So how did Rosenblatt come up with this weight update? While we will not dive into the theoretical proof here, intuitively, we can break down this equation piece-by-piece and see why it works.\n",
    "\n",
    "To understand this equation, we need to look at what happens when the perceptron misclassifies a given data sample. Recall that there are only two ways to misclassify binary labels, which are given as follows:\n",
    "\n",
    "| $\\hat{y}$ | $y$ |\n",
    "|---|---|\n",
    "| -1 | 1 |\n",
    "| 1 | -1 |\n"
   ]
  },
  {
   "cell_type": "markdown",
   "metadata": {},
   "source": [
    "#### Case 1: Predicting -1 instead of 1\n",
    "In the first case, we predict a negative value $\\hat{y}=-1$ when we should have predicted positive $y=1$. Thus, we can say that the predicted value $z_m$ BEFORE applying the sign was some continuous value that was less than 0. \n",
    "$$\n",
    "z_m = \\wv_{k} ^\\top \\xv_m < 0.\n",
    "$$\n",
    "\n",
    "To fix this misclassification error, we want to update the weight $\\wv_{k}$ by **INCREASING** the predicted output $\\wv_{k} \\xv_m$. Thus, we want the new weights $w_{k+t}$ to predict a larger or non-negative value instead.\n",
    "\n",
    "$$\n",
    " \\wv_{k+1} ^\\top  \\xv_m >  \\wv_{k}^\\top  \\xv_m.\n",
    "$$\n",
    "\n",
    "We do this by using a very basic linear algebra rule: [vector addition/subtraction](https://www.khanacademy.org/math/linear-algebra/vectors-and-spaces/vectors/v/adding-vectors). Vector addition/subtraction says that when we add or subtract any two vectors, the sum or difference is a vector in the direction of both of the vectors. \n",
    "\n",
    "Geometrically speaking, adding the feature vector to the weight vector moves the weight vector's decision boundary in the direction of the feature vector $\\xv_m$, thus moving the decision boundary to be closer to correctly classifying $\\xv_m$. However, just like in gradient descent, we don't want to move our weights drastically. This is why we scale the feature vector $\\xv_m$ by the learning rate $\\alpha$.\n",
    "\n",
    "$$\n",
    "\\wv_{k+1} = \\wv_{k} + \\alpha \\xv_m\n",
    "$$"
   ]
  },
  {
   "cell_type": "markdown",
   "metadata": {},
   "source": [
    "\n",
    "#### Case 2: Predicting 1 instead of -1\n",
    "In the second case, we predict a positive value $\\hat{y}=1$ when we should have predicted a negative value $y=-1$. Thus, we can say that the predicted value $z_m$ BEFORE applying the sign was greater than 0. \n",
    "\n",
    "$$\n",
    "z_m = \\wv_{k}^\\top  \\xv_m > 0.\n",
    "$$\n",
    "\n",
    "To fix this misclassification error, we want to update the weight $\\wv_{k}$ by DECREASING the predicted output $\\wv_{k} \\xv_m$. Thus, we want our new weights $\\wv_{k+1}$ to predict a smaller or negative value instead.\n",
    "\n",
    "$$\n",
    " \\wv_{k+1}^\\top  \\xv_m <  \\wv_{k}^\\top  \\xv_m.\n",
    "$$\n",
    "\n",
    "Thus, geometrically, we want to move the weight vector's decision boundary in the direction of the feature vector $\\xv_m$. However, this time we want to **SUBTRACT** the feature vector $\\wv_m$ since we want the weights to predict a negative value.\n",
    "\n",
    "$$\n",
    "\\wv_{k+1} = \\wv_{k} - \\alpha \\xv_m\n",
    "$$\n",
    "\n"
   ]
  },
  {
   "cell_type": "markdown",
   "metadata": {},
   "source": [
    "\n",
    "#### Accounting for both cases\n",
    "To account for both instances of misclassification, we can use a simple trick. This trick is to simply multiply $ \\alpha \\xv_m$ by current data sample's label $y_m$ in our update. **Recall that we only apply this weight update for misclassified samples.** Thus, the label $y_m$ will change the addition sign to a minus if $y_m=-1$. Likewise, the label $y_m$ will keep the addition sign  if $y_m=1$.\n",
    "\n",
    "$$\n",
    "\\wv_{k+1} = \\wv_k + \\alpha y_m \\xv_m\n",
    "$$\n",
    "\n",
    "See the below GIF which visually represents everything we just went over!\n",
    "\n",
    "- **green line** represents the decision boundary determined by the weights.\n",
    "    - The **green line with an arrow with a circle on the end** represents the direction of the weight vector. To determine the decision boundary, we take a line perpendicular or *orthogonal* to the weight vector. \n",
    "- **yellow line with an arrow** represents the direction of the feature vector $\\xv_m$.\n",
    "- **red line with an arrow** represents the scaled direction of the vector $\\alpha y_m \\xv_m$.\n",
    "\n",
    "<center><img src=\"https://external-content.duckduckgo.com/iu/?u=https%3A%2F%2Fupload.wikimedia.org%2Fwikipedia%2Fcommons%2Fa%2Faa%2FPerceptron_training_without_bias.gif&f=1&nofb=1\" width=500 height=500></center>"
   ]
  },
  {
   "cell_type": "markdown",
   "metadata": {},
   "source": [
    "## Pseudocode\n",
    "\n",
    "\n",
    "<center><img src=\"https://live.staticflickr.com/65535/54016935523_0935456935_h.jpg\" width=\"1563\" height=\"756\" alt=\"The Perceptron Pseudocode\"/></center>"
   ]
  },
  {
   "cell_type": "markdown",
   "metadata": {},
   "source": [
    "## Properties and Issues\n",
    "\n",
    "### Linear Separable\n",
    "The perceptron is guaranteed to converge within a finite number of epochs or iterations only if the data is linearly separable. One issue is we typically do not know how many epochs are required even if the data is linearly separable. However, we can say that eventually a solution will be found that perfectly divides the two classes.\n",
    "\n",
    "When the data is not linearly separable, there is no guarantee on convergence. Thus, for training, we need to set the maximum number of iterations or epochs. Recall, 1 epoch equates to one pass over the dataset where each data sample is used to update the weights once. \n",
    "\n",
    "### Binary Classification\n",
    "The next major assumption that Perceptron's make is that the data has only 2 classes. The issue here being that most real-world problems require multi-classification where there are multiple classes!\n",
    "\n",
    "### Summary\n",
    "\n",
    "The major issues with the perceptron is that most real-world datasets are not linear, and most aren't even linearly separable. Furthermore, the real-world datasets do not typically have only 2 classes. All these assumptions make it, so Rosenblatt's perceptron is rarely used today. That being said, there are changes that can be made to the perceptron to make it much more robust."
   ]
  },
  {
   "cell_type": "markdown",
   "metadata": {},
   "source": [
    "## Training Rosenblatt's Perceptron\n",
    "\n",
    "Below are examples of training done on separable and non-separable linear data. To do so, we use Sklearn's `Perceptron` class and the `plot_decision_boundry()` (defined below) to visualize the decision boundary. "
   ]
  },
  {
   "cell_type": "code",
   "execution_count": 6,
   "metadata": {},
   "outputs": [],
   "source": [
    "from sklearn.linear_model import Perceptron"
   ]
  },
  {
   "cell_type": "code",
   "execution_count": 7,
   "metadata": {},
   "outputs": [],
   "source": [
    "def plot_decision_boundry(X, y, w):\n",
    "    line_X = np.linspace(np.min(X[:, 1]), np.max(X[:, 1]), len(X)).reshape(-1,1)\n",
    "\n",
    "    slope = -(w[0] / w[2]) / (w[0] / w[1])\n",
    "    y_intercept = -w[0]/ w[2]\n",
    "\n",
    "    decision_boundry = slope * line_X + y_intercept\n",
    " \n",
    "    class1 = np.where(y == -1)[0]\n",
    "    class2 = np.where(y == 1)[0]\n",
    "    plt.plot(X[class1, 1], X[class1, 2], 'or', label='class1')\n",
    "    plt.plot(X[class2, 1], X[class2, 2], 'xb', label='class2')\n",
    "    plt.plot(line_X, decision_boundry)\n",
    "    plt.ylim(np.min(X[:, 2])-1, np.max(X[:, 2])+1)\n",
    "    plt.xlim(np.min(X[:, 1])-1, np.max(X[:, 1])+1)\n",
    "    plt.legend()"
   ]
  },
  {
   "cell_type": "markdown",
   "metadata": {},
   "source": [
    "### Linear Separable Data"
   ]
  },
  {
   "cell_type": "code",
   "execution_count": 8,
   "metadata": {
    "scrolled": true
   },
   "outputs": [
    {
     "data": {
      "image/png": "[encoded data removed]",
      "text/plain": [
       "<Figure size 640x480 with 1 Axes>"
      ]
     },
     "metadata": {},
     "output_type": "display_data"
    }
   ],
   "source": [
    "def separable_data():\n",
    "    mu1 = [-1, -1]\n",
    "    cov1 = np.eye(2)\n",
    "\n",
    "    mu2 = [4,4]\n",
    "    cov2 = np.eye(2) * 3\n",
    "    rng = np.random.RandomState(42)\n",
    "    class1 = rng.multivariate_normal(mu1, cov1, 50)\n",
    "    class2 = rng.multivariate_normal(mu2, cov2, 50)\n",
    "    \n",
    "    y = np.ones(len(class1)+len(class2))\n",
    "    y[:len(y)//2] = -1\n",
    "\n",
    "    return class1, class2, y\n",
    "\n",
    "def plot_separable_data():\n",
    "    class1, class2, _ = separable_data()\n",
    "    data = np.vstack([class1, class2])\n",
    "    plt.plot(class1[:, 0], class1[:, 1], 'or', label='class1')\n",
    "    plt.plot(class2[:, 0], class2[:, 1], 'xb', label='class2')\n",
    "    \n",
    "    plt.xlim([np.min(data[:, 0])-1, np.max(data[:, 0])+1])\n",
    "    plt.ylim([np.min(data[:, 1])-1, np.max(data[:, 1])+1])\n",
    "    plt.legend()\n",
    "    plt.show()\n",
    "    \n",
    "plot_separable_data();"
   ]
  },
  {
   "cell_type": "markdown",
   "metadata": {},
   "source": [
    "Run the below code and watch as the decision boundary (given by the blue line) as it quickly finds a boundary that easily separates the two classes. Note that `class1` has the label -1 and `class2` has the label 1."
   ]
  },
  {
   "cell_type": "code",
   "execution_count": 9,
   "metadata": {},
   "outputs": [
    {
     "data": {
      "image/png": "[encoded data removed]",
      "text/plain": [
       "<Figure size 640x480 with 1 Axes>"
      ]
     },
     "metadata": {},
     "output_type": "display_data"
    }
   ],
   "source": [
    "class1, class2, y = separable_data()\n",
    "X = np.vstack((class1, class2)) # Combine class data\n",
    "X1 = np.hstack([np.ones((len(X), 1)), X]) # Add bias\n",
    "\n",
    "perceptron = Perceptron(\n",
    "    penalty=None,\n",
    "    fit_intercept=False,\n",
    "    warm_start=True,\n",
    "    eta0=.5,\n",
    "    random_state=42,\n",
    "    max_iter=10,\n",
    ")\n",
    "perceptron.fit(X1, y)\n",
    "plot_decision_boundry(X1, y, perceptron.coef_.flatten())"
   ]
  },
  {
   "cell_type": "markdown",
   "metadata": {},
   "source": [
    "In the first plot above, we can see the learned decision boundary for of 1D data. Note, we can only visualize this decision boundary when our data is 1-dimensional!\n",
    "\n",
    "In the second plot below, we can see how our predictions map onto the sign function equation. Here the X-axis represent the data sample index and the y-index represents the output after applying the $\\text{sign}$ function to our predictions $\\text{sign}(\\hat{y})$. Recall, the first 50 samples all belong to the negative class (class 1) while the last 50 samples all belong to the positive class (class 2)."
   ]
  },
  {
   "cell_type": "code",
   "execution_count": 10,
   "metadata": {},
   "outputs": [
    {
     "data": {
      "image/png": "[encoded data removed]",
      "text/plain": [
       "<Figure size 640x480 with 1 Axes>"
      ]
     },
     "metadata": {},
     "output_type": "display_data"
    }
   ],
   "source": [
    "y_hat = perceptron.predict(X1)\n",
    "plt.plot(y)\n",
    "plt.plot(y_hat, 'x')\n",
    "plt.title(\"Predictions for Separable data\")\n",
    "plt.xlabel(\"X index\")\n",
    "plt.ylabel(\"class label prediction (y_hat)\")\n",
    "plt.show();"
   ]
  },
  {
   "cell_type": "markdown",
   "metadata": {},
   "source": [
    "### Linearly Non-Separable Data\n",
    "\n",
    "Below, we run the `Perceptron` class on linearly non-separable data."
   ]
  },
  {
   "cell_type": "code",
   "execution_count": 11,
   "metadata": {},
   "outputs": [
    {
     "data": {
      "image/png": "[encoded data removed]",
      "text/plain": [
       "<Figure size 640x480 with 1 Axes>"
      ]
     },
     "metadata": {},
     "output_type": "display_data"
    }
   ],
   "source": [
    "def nonseparable_data():\n",
    "    mu1 = [-1, -1]\n",
    "    cov1 = np.eye(2) * 3\n",
    "\n",
    "    mu2 = [3, 4]\n",
    "    cov2 = np.eye(2) * 5\n",
    "    rng = np.random.RandomState(42)\n",
    "    class1 = rng.multivariate_normal(mu1, cov1, 50)\n",
    "    class2 = rng.multivariate_normal(mu2, cov2, 50)\n",
    "    \n",
    "    y = np.ones(len(class1)+len(class2))\n",
    "    y[:len(y)//2] = -1\n",
    "\n",
    "    return class1, class2, y\n",
    "\n",
    "def plot_nonseparable_data():\n",
    "    class1, class2, y = nonseparable_data()\n",
    "    data = np.vstack([class1, class2])\n",
    "    plt.plot(class1[:, 0], class1[:, 1], 'or', label='class1')\n",
    "    plt.plot(class2[:, 0], class2[:, 1], 'xb', label='class2')\n",
    "    \n",
    "    plt.xlim([np.min(data[:, 0])-1, np.max(data[:, 0])+1])\n",
    "    plt.ylim([np.min(data[:, 1])-1, np.max(data[:, 1])+1])\n",
    "    plt.legend()\n",
    "    plt.show()\n",
    "plot_nonseparable_data()"
   ]
  },
  {
   "cell_type": "code",
   "execution_count": 12,
   "metadata": {},
   "outputs": [
    {
     "data": {
      "image/png": "[encoded data removed]",
      "text/plain": [
       "<Figure size 640x480 with 1 Axes>"
      ]
     },
     "metadata": {},
     "output_type": "display_data"
    }
   ],
   "source": [
    "class1, class2, y = nonseparable_data()\n",
    "X = np.vstack((class1, class2)) # Combine class data\n",
    "X1 = np.hstack([np.ones((len(X), 1)), X]) # Add bias\n",
    "\n",
    "perceptron =  Perceptron(\n",
    "    eta0=.5, # Learning rate\n",
    "    max_iter=10, # Number of epochs\n",
    "    penalty=None,\n",
    "    fit_intercept=False,\n",
    "    random_state=42,\n",
    ")\n",
    "perceptron.fit(X1, y)\n",
    "plot_decision_boundry(X1, y, perceptron.coef_.flatten())"
   ]
  },
  {
   "cell_type": "code",
   "execution_count": 13,
   "metadata": {},
   "outputs": [
    {
     "data": {
      "image/png": "[encoded data removed]",
      "text/plain": [
       "<Figure size 640x480 with 1 Axes>"
      ]
     },
     "metadata": {},
     "output_type": "display_data"
    }
   ],
   "source": [
    "y_hat = perceptron.predict(X1)\n",
    "plt.plot(y)\n",
    "plt.plot(y_hat, 'x')\n",
    "plt.title(\"Predictions for Non-separable data\")\n",
    "plt.xlabel(\"X index\")\n",
    "plt.ylabel(\"class label prediction (y_hat)\")\n",
    "plt.show();"
   ]
  },
  {
   "cell_type": "markdown",
   "metadata": {},
   "source": [
    "### How to quantify performance? \n",
    "The next question is as follows: how do we assess how well the algorithm classified the data (i.e., what performance metrics can we use)? While for 1-dimensional datasets, we can visually or qualitatively tell how the algorithm is doing by looking at the decision boundary. Is there a way we can quantify the performance, like we did in linear regression.\n",
    "\n",
    "One naive performance metric is to simply look at how many data samples we got wrong. One can do so using the following code. The first thing we need to do is find all the data samples where the predictions do not match their labels. We can do so using `np.where()` and passing the `y_hat != y` condition, which automatically checks if each element in `y_hat` equals the corresponding element in `y`. `np.where()` recall finds all the indexes that have elements equal to `True`."
   ]
  },
  {
   "cell_type": "code",
   "execution_count": 14,
   "metadata": {},
   "outputs": [
    {
     "data": {
      "text/plain": [
       "array([False,  True, False,  True, False, False, False, False, False,\n",
       "       False, False, False, False, False, False, False, False, False,\n",
       "       False, False, False, False, False, False, False, False, False,\n",
       "       False, False, False, False, False,  True, False, False, False,\n",
       "       False, False, False, False, False, False, False, False, False,\n",
       "       False, False, False, False, False, False, False, False, False,\n",
       "       False, False, False, False, False, False, False, False, False,\n",
       "       False, False, False, False, False, False, False, False, False,\n",
       "       False,  True, False, False, False, False, False, False, False,\n",
       "       False, False, False, False, False, False, False, False, False,\n",
       "       False, False, False, False, False, False, False, False, False,\n",
       "       False])"
      ]
     },
     "execution_count": 14,
     "metadata": {},
     "output_type": "execute_result"
    }
   ],
   "source": [
    "y_hat != y"
   ]
  },
  {
   "cell_type": "code",
   "execution_count": 15,
   "metadata": {},
   "outputs": [
    {
     "data": {
      "text/plain": [
       "array([ 1,  3, 32, 73])"
      ]
     },
     "execution_count": 15,
     "metadata": {},
     "output_type": "execute_result"
    }
   ],
   "source": [
    "misclassified_locs = np.where(y_hat != y)[0]\n",
    "misclassified_locs"
   ]
  },
  {
   "cell_type": "markdown",
   "metadata": {},
   "source": [
    "As we can see, we misclassified 4 data samples. Let's see which classes where misclassfied. Notice we misclassified 3 samples from class 1 `class1` (label -1) and 1 sample from `class2` class 2 (label 1)."
   ]
  },
  {
   "cell_type": "code",
   "execution_count": 16,
   "metadata": {},
   "outputs": [
    {
     "data": {
      "text/plain": [
       "array([-1., -1., -1.,  1.])"
      ]
     },
     "execution_count": 16,
     "metadata": {},
     "output_type": "execute_result"
    }
   ],
   "source": [
    "y[misclassified_locs]"
   ]
  },
  {
   "cell_type": "markdown",
   "metadata": {},
   "source": [
    "This is nice but there must be better metrics to give us a better understanding of our performance, right? Indeed there are!"
   ]
  },
  {
   "cell_type": "markdown",
   "metadata": {},
   "source": [
    "# Performance Measures and Metrics\n",
    "Choosing the right metric for evaluating classification data is crucial. Different classification metrics can tell you different things, some can even lead you to believe your model is performing better than it truly is!"
   ]
  },
  {
   "cell_type": "markdown",
   "metadata": {},
   "source": [
    "## Accuracy\n",
    "\n",
    "The most naive and common performance metric for evaluating classification data is *accuracy*. Accuracy reports the percentage of data samples that were CORRECTLY classification.  That is, when there are 1000 labels to classify, if 950 are correctly classified, we can say our model achieved 95% accuracy: \n",
    "\n",
    "$$\n",
    "   \\text{Accuracy} = \\frac{\\text{The number of correct classification}}{\\text{The number of samples}}.\n",
    "$$"
   ]
  },
  {
   "cell_type": "markdown",
   "metadata": {},
   "source": [
    "Below, we compute the accuracy for our `Perceptron` class instance received on the non-separable data. Here, we create a boolean array where the true values are the data samples predicted correctly, and the false values are the data samples predicted incorrectly."
   ]
  },
  {
   "cell_type": "code",
   "execution_count": 17,
   "metadata": {},
   "outputs": [
    {
     "data": {
      "text/plain": [
       "array([ True, False,  True, False,  True,  True,  True,  True,  True,\n",
       "        True,  True,  True,  True,  True,  True,  True,  True,  True,\n",
       "        True,  True,  True,  True,  True,  True,  True,  True,  True,\n",
       "        True,  True,  True,  True,  True, False,  True,  True,  True,\n",
       "        True,  True,  True,  True,  True,  True,  True,  True,  True,\n",
       "        True,  True,  True,  True,  True,  True,  True,  True,  True,\n",
       "        True,  True,  True,  True,  True,  True,  True,  True,  True,\n",
       "        True,  True,  True,  True,  True,  True,  True,  True,  True,\n",
       "        True, False,  True,  True,  True,  True,  True,  True,  True,\n",
       "        True,  True,  True,  True,  True,  True,  True,  True,  True,\n",
       "        True,  True,  True,  True,  True,  True,  True,  True,  True,\n",
       "        True])"
      ]
     },
     "execution_count": 17,
     "metadata": {},
     "output_type": "execute_result"
    }
   ],
   "source": [
    "y_hat == y"
   ]
  },
  {
   "cell_type": "markdown",
   "metadata": {},
   "source": [
    "Using `np.sum()` we can sum all the True values. By default, `np.sum()` will sum all values that are True!"
   ]
  },
  {
   "cell_type": "code",
   "execution_count": 18,
   "metadata": {},
   "outputs": [
    {
     "data": {
      "text/plain": [
       "np.int64(96)"
      ]
     },
     "execution_count": 18,
     "metadata": {},
     "output_type": "execute_result"
    }
   ],
   "source": [
    "np.sum(y_hat == y)"
   ]
  },
  {
   "cell_type": "code",
   "execution_count": 19,
   "metadata": {},
   "outputs": [],
   "source": [
    "total_correct = np.sum(y_hat == y)"
   ]
  },
  {
   "cell_type": "code",
   "execution_count": 20,
   "metadata": {},
   "outputs": [
    {
     "name": "stdout",
     "output_type": "stream",
     "text": [
      "96 / 100\n"
     ]
    },
    {
     "data": {
      "text/plain": [
       "np.float64(0.96)"
      ]
     },
     "execution_count": 20,
     "metadata": {},
     "output_type": "execute_result"
    }
   ],
   "source": [
    "print(f\"{total_correct} / {len(y)}\")\n",
    "accuracy = total_correct / len(y)\n",
    "accuracy"
   ]
  },
  {
   "cell_type": "markdown",
   "metadata": {},
   "source": [
    "Alternatively we can just use sklearn's `accuracy_score()` function."
   ]
  },
  {
   "cell_type": "code",
   "execution_count": 21,
   "metadata": {},
   "outputs": [
    {
     "data": {
      "text/plain": [
       "0.96"
      ]
     },
     "execution_count": 21,
     "metadata": {},
     "output_type": "execute_result"
    }
   ],
   "source": [
    "from sklearn.metrics import accuracy_score\n",
    "\n",
    "accuracy_score(y_true=y, y_pred=y_hat)"
   ]
  },
  {
   "cell_type": "markdown",
   "metadata": {},
   "source": [
    "### Issues\n",
    "\n",
    "However, accuracy can be deceiving when working with imbalanced datasets. For instance, let's say we have 1000 labels to classify. This is a binary classification problem, so each label can be either class 1 or class 2. Let's say that class 1 has 900 data samples and class 2 only has 100 data samples. \n",
    "\n",
    "Further, let's say the trained model correctly classifies 900 data samples correctly. The caveat here is that it only classified the class 1 data samples correctly and classified all the class 2 data samples incorrectly. The model achieved this by simply predicting the class 1 label for all data samples. While we may have an accuracy of 90%, the model has misclassified all the class 2 samples. This is not something we typically want, so we need to use a different metric to account for this! \n",
    "\n",
    "Let's look at some other metrics that can overcome this issue of data imbalance."
   ]
  },
  {
   "cell_type": "markdown",
   "metadata": {
    "collapsed": true,
    "jupyter": {
     "outputs_hidden": true
    }
   },
   "source": [
    "## Confusion Matrix\n",
    "\n",
    "<center><img src=\"http://www.andrewgurung.com/wp-content/uploads/2018/12/confusion_matrix.png\" width=500 height=500></center>\n",
    "\n",
    "\n",
    "Above is an example of a confusion matrix. A confusion matrix visualizes the performance of a model. Each row of the matrix represents the actual class values, while each column represents the predicted class values (i.e., ground truth).\n",
    "\n",
    "In the binary classification case, a confusion matrix has 4 cells and one class is referred to as the negative class and the other is referred to as the positive class. The negative class is typically the class with the label 0 or -1. The positive class is typically the class with the label 1.\n",
    "\n",
    "- True Negatives (TN): This is the number of *negative* class samples that were correctly classified.\n",
    "\n",
    "- True Positive (TP): This is the number of *positive* class samples that were correctly classified.\n",
    "\n",
    "- False Positive (FP): These are the number of *negative* class samples that were classified to be *positive* samples.\n",
    "\n",
    "- False Negatives (FN): This is the number of *positive* class samples that were classified to be *negative* samples.\n",
    "\n",
    "Using these four new metrics, we can also recompute the accuracy as follows:\n",
    "\n",
    "$$\n",
    "   \\text{Accuracy} = \\frac{\\text{TP} + \\text{TN}}{\\text{TP} + \\text{TN} + \\text{FN} + \\text{FP}}.\n",
    "$$"
   ]
  },
  {
   "cell_type": "markdown",
   "metadata": {},
   "source": [
    "We can use Sklean's `confusion_matrix()` function to compute the confusion matrix for our `Perceptron` class instance received on the non-separable data. Note that Sklean's `confusion_matrix()` returns a NumPy array"
   ]
  },
  {
   "cell_type": "code",
   "execution_count": 22,
   "metadata": {},
   "outputs": [
    {
     "data": {
      "text/plain": [
       "array([[47,  3],\n",
       "       [ 1, 49]])"
      ]
     },
     "execution_count": 22,
     "metadata": {},
     "output_type": "execute_result"
    }
   ],
   "source": [
    "from sklearn.metrics import confusion_matrix\n",
    "confusion_matrix(y_true=y, y_pred=y_hat)"
   ]
  },
  {
   "cell_type": "markdown",
   "metadata": {},
   "source": [
    "Further we wrap the output of  Sklean's `confusion_matrix()` to make it prettier and easier to read."
   ]
  },
  {
   "cell_type": "code",
   "execution_count": 23,
   "metadata": {},
   "outputs": [],
   "source": [
    "def pretty_confusion_matrix(y_hat, y):\n",
    "    cm = confusion_matrix(y_true=y, y_pred=y_hat)\n",
    "    return pd.DataFrame(cm, columns=['class1', 'class2'], index=['class1', 'class2'])"
   ]
  },
  {
   "cell_type": "code",
   "execution_count": 24,
   "metadata": {},
   "outputs": [
    {
     "data": {
      "text/html": [
       "<div>\n",
       "<style scoped>\n",
       "    .dataframe tbody tr th:only-of-type {\n",
       "        vertical-align: middle;\n",
       "    }\n",
       "\n",
       "    .dataframe tbody tr th {\n",
       "        vertical-align: top;\n",
       "    }\n",
       "\n",
       "    .dataframe thead th {\n",
       "        text-align: right;\n",
       "    }\n",
       "</style>\n",
       "<table border=\"1\" class=\"dataframe\">\n",
       "  <thead>\n",
       "    <tr style=\"text-align: right;\">\n",
       "      <th></th>\n",
       "      <th>class1</th>\n",
       "      <th>class2</th>\n",
       "    </tr>\n",
       "  </thead>\n",
       "  <tbody>\n",
       "    <tr>\n",
       "      <th>class1</th>\n",
       "      <td>47</td>\n",
       "      <td>3</td>\n",
       "    </tr>\n",
       "    <tr>\n",
       "      <th>class2</th>\n",
       "      <td>1</td>\n",
       "      <td>49</td>\n",
       "    </tr>\n",
       "  </tbody>\n",
       "</table>\n",
       "</div>"
      ],
      "text/plain": [
       "        class1  class2\n",
       "class1      47       3\n",
       "class2       1      49"
      ]
     },
     "execution_count": 24,
     "metadata": {},
     "output_type": "execute_result"
    }
   ],
   "source": [
    "pretty_confusion_matrix(y=y, y_hat=y_hat)"
   ]
  },
  {
   "cell_type": "markdown",
   "metadata": {},
   "source": [
    "Here our negative class is `class1` as its label is -1. Likewise, the positive class is `class1` as its label is 1.\n",
    "\n",
    "-  True Negatives (TN): The model predicted 47 of the negative class samples correctly.\n",
    "\n",
    "- True Positive (TP):The model predicted 49 of the positive class samples correctly.\n",
    "\n",
    "- False Positive (FP): The model predicted 3 samples of the negative class `class1` as the positive class `class2`.\n",
    "\n",
    "- False Negatives (FN): The model predicted 1 sample of the positive class `class2` as the negative class `class1`.\n"
   ]
  },
  {
   "cell_type": "markdown",
   "metadata": {},
   "source": [
    "\n",
    "## Precision, Recall, and Specificity\n",
    "\n",
    "Further, we can use the confusion matrix to compute new metric scores. The following metric scores are common scores used from values given to us by the confusion matrix.\n",
    "\n",
    "The [wiki](https://en.wikipedia.org/wiki/Sensitivity_and_specificity) has a great breakdown of these scores and many more. Note that the wiki reverses the placement of true negatives and true positives in the confusion matrix, but the same ideas still apply.\n",
    "\n",
    "\n",
    "- **Positive predictive value (PPV)** (also called precision): The accuracy of positive predictions. In other words, PPV computes the ratio between the positive predictions that were correct over the total number of positive predictions made.\n",
    "\n",
    "$$\n",
    "\\text{PPV} = \\frac{\\text{TP}}{\\text{TP} + \\text{FP}}\n",
    "$$\n",
    "\n",
    "- **True Positive Rate (TPR)** (also called sensitivity or recall): TPR computes the ratio between the number of positive predictions that were correct over the total number of actual (i.e., *true*) positive class samples. This is a good measure to use for imbalanced datasets if your positive class is the minority class (i.e., the positive class has fewer data samples than the negative class)!\n",
    "\n",
    "$$\n",
    "\\text{TPR} = \\frac{\\text{TP}}{\\text{TP} + \\text{FN}}\n",
    "$$\n",
    "\n",
    "- **True Negative Rate (TNR)** (specificity): The accuracy of negative predictions. In other words, TNR computes the ratio between the number of negative predictions that were correct over the total number of actual (i.e., *true*) negative class samples. This is a good measure to use for imbalanced datasets if your negative class is the minority class (i.e., the negative class has fewer data samples than the positive class)!\n",
    "\n",
    "$$\n",
    "\\text{TNR} = \\frac{\\text{TN}}{\\text{TN} + \\text{FP}}\n",
    "$$"
   ]
  },
  {
   "cell_type": "code",
   "execution_count": 26,
   "metadata": {},
   "outputs": [
    {
     "name": "stdout",
     "output_type": "stream",
     "text": [
      "True negative (TN): 47\n",
      "False positive (FP): 3\n",
      "False negative (FN): 1\n",
      "True positive (TP): 49\n"
     ]
    }
   ],
   "source": [
    "tn, fp, fn, tp = confusion_matrix(y_true=y, y_pred=y_hat).ravel()\n",
    "\n",
    "print(f\"True negative (TN): {tn}\")\n",
    "print(f\"False positive (FP): {fp}\")\n",
    "print(f\"False negative (FN): {fn}\")\n",
    "print(f\"True positive (TP): {tp}\")"
   ]
  },
  {
   "cell_type": "markdown",
   "metadata": {},
   "source": [
    "Below we can see the accuracy, like before, is 96%."
   ]
  },
  {
   "cell_type": "code",
   "execution_count": 27,
   "metadata": {},
   "outputs": [
    {
     "data": {
      "text/plain": [
       "0.96"
      ]
     },
     "execution_count": 27,
     "metadata": {},
     "output_type": "execute_result"
    }
   ],
   "source": [
    "accuracy_score(y_true=y, y_pred=y_hat)"
   ]
  },
  {
   "cell_type": "markdown",
   "metadata": {},
   "source": [
    "Now we can see the precision or PPV score is lower than the accuracy because we have a higher number of false positives. Thus, out of all the positive predictions, the model got 94% of predicted positive samples correctly.\n",
    "\n",
    "$$\n",
    "\\text{PPV} = \\frac{\\text{49}}{\\text{49} + \\text{3}}\n",
    "$$\n"
   ]
  },
  {
   "cell_type": "markdown",
   "metadata": {},
   "source": [
    "Notice recall or TPR is higher than accuracy because we are just looking at the positive data samples, and we correctly predicted almost all the positive class data samples except for 1! Thus, out of all the actual or true positive samples, the model predicted 98% of them correctly.\n",
    "\n",
    "$$\n",
    "\\text{TPR} = \\frac{\\text{49}}{\\text{49} + \\text{1}}\n",
    "$$"
   ]
  },
  {
   "cell_type": "markdown",
   "metadata": {},
   "source": [
    "Once again, specificity or TNR is lower than both accuracy and recall for two reasons. It is lower than accuracy because we have a larger number of false positives. Additionally, it is lower than recall because we predicted less negative class samples as being correct! Thus, out of all the actual negative samples, our model predicted ~94% of them correctly.\n",
    "\n",
    "$$\n",
    "\\text{TNR} = \\frac{\\text{47}}{\\text{47} + \\text{3}}\n",
    "$$"
   ]
  },
  {
   "cell_type": "markdown",
   "metadata": {},
   "source": [
    "# Formulating Multiclass Classification as Binary Classification\n",
    "\n",
    "Recall that Rosenblatt's perceptron only works for binary classification problems. So what do we do if we have a multi-classification problem? We have two choices when answering this question.\n",
    "\n",
    "1. One-vs-one: The first choice is to select only 2 classes from the data. Here, we can assign either class to be the positive or negative class.\n",
    "\n",
    "2. One-vs-all: The second choice is to perform one-vs-all classification. This entails selecting one class to as the \"positive\" class, and then setting the rest of the classes to be the \"negative\" class. See the below image for a visual example.\n",
    "\n",
    "<center><img src=\"https://miro.medium.com/max/1400/1*RElrybCZ4WPsUfRwDl7fqA.png\" width=400 height=400></center>"
   ]
  },
  {
   "cell_type": "markdown",
   "metadata": {},
   "source": [
    "## Code Example\n",
    "How might we go about converting the labels for a multi-classification problem into a binary classification problem? It is actually quite easy. Let's take a look at a coding example for doing so.\n",
    "\n",
    "Below we define some fake labels 1, 2, 3, and 4 for a 4-way classification problem denoted as `fake_y`."
   ]
  },
  {
   "cell_type": "code",
   "execution_count": 31,
   "metadata": {},
   "outputs": [
    {
     "name": "stdout",
     "output_type": "stream",
     "text": [
      "fake_y shape: (100,)\n"
     ]
    },
    {
     "data": {
      "text/plain": [
       "array([1., 1., 1., 1., 1., 1., 1., 1., 1., 1., 1., 1., 1., 1., 1., 1., 1.,\n",
       "       1., 1., 1., 1., 1., 1., 1., 1., 2., 2., 2., 2., 2., 2., 2., 2., 2.,\n",
       "       2., 2., 2., 2., 2., 2., 2., 2., 2., 2., 2., 2., 2., 2., 2., 2., 3.,\n",
       "       3., 3., 3., 3., 3., 3., 3., 3., 3., 3., 3., 3., 3., 3., 3., 3., 3.,\n",
       "       3., 3., 3., 3., 3., 3., 3., 4., 4., 4., 4., 4., 4., 4., 4., 4., 4.,\n",
       "       4., 4., 4., 4., 4., 4., 4., 4., 4., 4., 4., 4., 4., 4., 4.])"
      ]
     },
     "execution_count": 31,
     "metadata": {},
     "output_type": "execute_result"
    }
   ],
   "source": [
    "fake_y = np.empty([100,])\n",
    "fake_y[:25] = 1\n",
    "fake_y[25:50] = 2\n",
    "fake_y[50:75] = 3\n",
    "fake_y[75:] = 4\n",
    "\n",
    "print(f\"fake_y shape: {fake_y.shape}\")\n",
    "fake_y"
   ]
  },
  {
   "cell_type": "markdown",
   "metadata": {},
   "source": [
    "The first thing we need to decide is which classes will belong to the positive class and which will belong to the negative class. For this example, we will say the positive class will be class 3 (i.e., label 3) and all remaining class will be the negative class. To find all labels equal to 3, we use the `np.isin()` function, which returns a boolean array where true corresponds to which element is equal to 3. "
   ]
  },
  {
   "cell_type": "code",
   "execution_count": 32,
   "metadata": {},
   "outputs": [
    {
     "data": {
      "text/plain": [
       "array([False, False, False, False, False, False, False, False, False,\n",
       "       False, False, False, False, False, False, False, False, False,\n",
       "       False, False, False, False, False, False, False, False, False,\n",
       "       False, False, False, False, False, False, False, False, False,\n",
       "       False, False, False, False, False, False, False, False, False,\n",
       "       False, False, False, False, False,  True,  True,  True,  True,\n",
       "        True,  True,  True,  True,  True,  True,  True,  True,  True,\n",
       "        True,  True,  True,  True,  True,  True,  True,  True,  True,\n",
       "        True,  True,  True, False, False, False, False, False, False,\n",
       "       False, False, False, False, False, False, False, False, False,\n",
       "       False, False, False, False, False, False, False, False, False,\n",
       "       False])"
      ]
     },
     "execution_count": 32,
     "metadata": {},
     "output_type": "execute_result"
    }
   ],
   "source": [
    "pos_locs = np.isin(fake_y, [3])\n",
    "pos_locs"
   ]
  },
  {
   "cell_type": "markdown",
   "metadata": {},
   "source": [
    "Next, we do the same thing for the negative class labels. Except, this time, we pass the labels 1, 2, and 4."
   ]
  },
  {
   "cell_type": "code",
   "execution_count": 33,
   "metadata": {},
   "outputs": [
    {
     "data": {
      "text/plain": [
       "array([ True,  True,  True,  True,  True,  True,  True,  True,  True,\n",
       "        True,  True,  True,  True,  True,  True,  True,  True,  True,\n",
       "        True,  True,  True,  True,  True,  True,  True,  True,  True,\n",
       "        True,  True,  True,  True,  True,  True,  True,  True,  True,\n",
       "        True,  True,  True,  True,  True,  True,  True,  True,  True,\n",
       "        True,  True,  True,  True,  True, False, False, False, False,\n",
       "       False, False, False, False, False, False, False, False, False,\n",
       "       False, False, False, False, False, False, False, False, False,\n",
       "       False, False, False,  True,  True,  True,  True,  True,  True,\n",
       "        True,  True,  True,  True,  True,  True,  True,  True,  True,\n",
       "        True,  True,  True,  True,  True,  True,  True,  True,  True,\n",
       "        True])"
      ]
     },
     "execution_count": 33,
     "metadata": {},
     "output_type": "execute_result"
    }
   ],
   "source": [
    "neg_locs = np.isin(fake_y, [1, 2, 4])\n",
    "neg_locs"
   ]
  },
  {
   "cell_type": "markdown",
   "metadata": {},
   "source": [
    "Now that we have the positive and negative class locations, we can get the corresponding values and change their labels. To do so, we simply index `y` by `pos_locs` and `neg_locs` and then we change their values to either 1 for the positive class or -1 for the negative class. **Additionally, you would need to index the data (e.g., `X`) at the same `pos_locs` and `neg_locs` to grab the corresponding positive and negative samples.**"
   ]
  },
  {
   "cell_type": "code",
   "execution_count": 34,
   "metadata": {},
   "outputs": [
    {
     "data": {
      "text/plain": [
       "(array([1., 1., 1., 1., 1., 1., 1., 1., 1., 1., 1., 1., 1., 1., 1., 1., 1.,\n",
       "        1., 1., 1., 1., 1., 1., 1., 1.]),\n",
       " array([-1., -1., -1., -1., -1., -1., -1., -1., -1., -1., -1., -1., -1.,\n",
       "        -1., -1., -1., -1., -1., -1., -1., -1., -1., -1., -1., -1., -1.,\n",
       "        -1., -1., -1., -1., -1., -1., -1., -1., -1., -1., -1., -1., -1.,\n",
       "        -1., -1., -1., -1., -1., -1., -1., -1., -1., -1., -1., -1., -1.,\n",
       "        -1., -1., -1., -1., -1., -1., -1., -1., -1., -1., -1., -1., -1.,\n",
       "        -1., -1., -1., -1., -1., -1., -1., -1., -1., -1.]))"
      ]
     },
     "execution_count": 34,
     "metadata": {},
     "output_type": "execute_result"
    }
   ],
   "source": [
    "y_pos = y[pos_locs]\n",
    "y_pos[:] = 1\n",
    "y_neg = y[neg_locs]\n",
    "y_neg[:] = -1\n",
    "\n",
    "y_pos, y_neg"
   ]
  },
  {
   "cell_type": "markdown",
   "metadata": {},
   "source": [
    "Finally, we can stack the positive labels `y_pos` and negative labels `y_neg` back together to form a new array. **Likewise, you would need to stack the indexed data for the positive and negative samples back together in the same order as the labels.**"
   ]
  },
  {
   "cell_type": "code",
   "execution_count": 35,
   "metadata": {},
   "outputs": [
    {
     "data": {
      "text/plain": [
       "array([ 1.,  1.,  1.,  1.,  1.,  1.,  1.,  1.,  1.,  1.,  1.,  1.,  1.,\n",
       "        1.,  1.,  1.,  1.,  1.,  1.,  1.,  1.,  1.,  1.,  1.,  1., -1.,\n",
       "       -1., -1., -1., -1., -1., -1., -1., -1., -1., -1., -1., -1., -1.,\n",
       "       -1., -1., -1., -1., -1., -1., -1., -1., -1., -1., -1., -1., -1.,\n",
       "       -1., -1., -1., -1., -1., -1., -1., -1., -1., -1., -1., -1., -1.,\n",
       "       -1., -1., -1., -1., -1., -1., -1., -1., -1., -1., -1., -1., -1.,\n",
       "       -1., -1., -1., -1., -1., -1., -1., -1., -1., -1., -1., -1., -1.,\n",
       "       -1., -1., -1., -1., -1., -1., -1., -1., -1.])"
      ]
     },
     "execution_count": 35,
     "metadata": {},
     "output_type": "execute_result"
    }
   ],
   "source": [
    "y_new = np.hstack([y_pos, y_neg])\n",
    "y_new"
   ]
  }
 ],
 "metadata": {
  "kernelspec": {
   "display_name": "Python 3 (ipykernel)",
   "language": "python",
   "name": "python3"
  },
  "language_info": {
   "codemirror_mode": {
    "name": "ipython",
    "version": 3
   },
   "file_extension": ".py",
   "mimetype": "text/x-python",
   "name": "python",
   "nbconvert_exporter": "python",
   "pygments_lexer": "ipython3",
   "version": "3.9.19"
  },
  "toc": {
   "base_numbering": 1,
   "nav_menu": {},
   "number_sections": true,
   "sideBar": true,
   "skip_h1_title": false,
   "title_cell": "Table of Contents",
   "title_sidebar": "Contents",
   "toc_cell": false,
   "toc_position": {
    "height": "calc(100% - 180px)",
    "left": "10px",
    "top": "150px",
    "width": "165px"
   },
   "toc_section_display": true,
   "toc_window_display": true
  }
 },
 "nbformat": 4,
 "nbformat_minor": 4
}
