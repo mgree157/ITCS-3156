{
 "cells": [
  {
   "cell_type": "markdown",
   "id": "0dbc6343",
   "metadata": {},
   "source": [
    "\n",
    "\n",
    "# Homework: Naive Bayes \n",
    "\n",
    "$\\newcommand{\\xv}{\\mathbf{x}}\n",
    " \\newcommand{\\wv}{\\mathbf{w}}\n",
    " \\newcommand{\\yv}{\\mathbf{y}}\n",
    " \\newcommand{\\zv}{\\mathbf{z}}\n",
    " \\newcommand{\\uv}{\\mathbf{u}}\n",
    " \\newcommand{\\vv}{\\mathbf{v}}\n",
    " \\newcommand{\\tv}{\\mathbf{t}}\n",
    " \\newcommand{\\Chi}{\\mathcal{X}}\n",
    " \\newcommand{\\R}{\\rm I\\!R}\n",
    " \\newcommand{\\sign}{\\text{sign}}\n",
    " \\newcommand{\\Tm}{\\mathbf{T}}\n",
    " \\newcommand{\\Xm}{\\mathbf{X}}\n",
    " \\newcommand{\\Zm}{\\mathbf{Z}}\n",
    " \\newcommand{\\Im}{\\mathbf{I}}\n",
    " \\newcommand{\\Um}{\\mathbf{U}}\n",
    " \\newcommand{\\Vm}{\\mathbf{V}} \n",
    " \\newcommand{\\muv}{\\boldsymbol\\mu}\n",
    " \\newcommand{\\Sigmav}{\\boldsymbol\\Sigma}\n",
    " \\newcommand{\\Lambdav}{\\boldsymbol\\Lambda}\n",
    "$"
   ]
  },
  {
   "cell_type": "markdown",
   "id": "e54b5d9e",
   "metadata": {
    "jp-MarkdownHeadingCollapsed": true
   },
   "source": [
    "## Name: <span style=\"color:blue\"> Myles Green </span>"
   ]
  },
  {
   "cell_type": "markdown",
   "id": "fab7a6cb-7a26-41a3-8f8b-f871a74f9bb5",
   "metadata": {},
   "source": [
    "## Utils "
   ]
  },
  {
   "cell_type": "code",
   "execution_count": 32,
   "id": "cbb43c77-6511-4ee2-9ad8-8674ee967427",
   "metadata": {},
   "outputs": [],
   "source": [
    "from typing import List, Dict, Tuple, Callable, Union\n",
    "import os\n",
    "import gc\n",
    "import traceback\n",
    "import warnings\n",
    "from pdb import set_trace\n",
    "\n",
    "import sklearn\n",
    "import numpy as np\n",
    "import pandas as pd\n",
    "import seaborn as sns\n",
    "import matplotlib.pyplot as plt"
   ]
  },
  {
   "cell_type": "code",
   "execution_count": 1,
   "id": "b04fd4af-bb67-4824-bdfd-3036da0518c8",
   "metadata": {
    "deletable": false,
    "editable": false,
    "nbgrader": {
     "cell_type": "code",
     "checksum": "148b607d47be1518c76e8766368b84f6",
     "grade": true,
     "grade_id": "cell-aaef7519ddb82f04",
     "locked": true,
     "points": 0,
     "schema_version": 3,
     "solution": false,
     "task": false
    }
   },
   "outputs": [],
   "source": [
    "class TodoCheckFailed(Exception):\n",
    "    pass\n",
    "\n",
    "def todo_check(asserts, mute=False, success_msg=\"\", **kwargs):\n",
    "    locals().update(kwargs)\n",
    "    failed_err = \"You passed {}/{} and FAILED the following code checks:\\n{}\"\n",
    "    failed = \"\"\n",
    "    n_failed = 0\n",
    "    for check, (condi, err) in enumerate(asserts):\n",
    "        exc_failed = False\n",
    "        if isinstance(condi, str):\n",
    "            try:\n",
    "                passed = eval(condi)\n",
    "            except Exception:\n",
    "                exc_failed = True\n",
    "                n_failed += 1\n",
    "                failed += f\"\\nCheck [{check+1}]: Failed to execute check [{check+1}] due to the following error...\\n{traceback.format_exc()}\"\n",
    "        elif isinstance(condi, bool):\n",
    "            passed = condi\n",
    "        else:\n",
    "            raise ValueError(\"asserts must be a list of strings or bools\")\n",
    "\n",
    "        if not exc_failed and not passed:\n",
    "            n_failed += 1\n",
    "            failed += f\"\\nCheck [{check+1}]: Failed\\n\\tTip: {err}\\n\"\n",
    "\n",
    "    if len(failed) != 0:\n",
    "        passed = len(asserts) - n_failed\n",
    "        err = failed_err.format(passed, len(asserts), failed)\n",
    "        raise TodoCheckFailed(err.format(failed))\n",
    "    if not mute: print(f\"Your code PASSED all the code checks! {success_msg}\")"
   ]
  },
  {
   "cell_type": "markdown",
   "id": "56c3320f-1c41-487a-a3f4-b02cc0726314",
   "metadata": {
    "jp-MarkdownHeadingCollapsed": true
   },
   "source": [
    "## Instructions\n",
    "In this assignment, you will practice using the Gaussian Naive Bayes algorithm. To do so, you will be working with the Iris dataset and multi-classification. \n",
    "\n",
    "\n",
    "Your job is to read through the assignment and fill in any code segments that are marked by `TODO` headers and comments. Some TODOs will have a `todo_check()` function which will give you a rough estimate of whether your code is functioning as excepted. Other's might not have these checks, like visualization TODOs. Regardless,  all the correct outputs are given below each code cell. It might be useful to copy the contents of certain TODO cells into a new cell so you can try to match the desired output with the output produced by your own code! For visualization TODOs, you simply have to have a plot that looks similar. You can change aspects such as color, titles, or x/y-axis labels if you so wish.\n",
    "\n",
    "At any point, if you feel lost concerning how to program a specific TODO, take some time and visit the official documentation for each library and read about the methods/functions that you need to use.\n",
    "\n",
    "## Submission\n",
    "\n",
    "1. Save the notebook.\n",
    "2. Enter your name in the appropriate markdown cell provided at the top of the notebook.\n",
    "3. Select `Kernel` -> `Restart Kernel and Run All Cells`. This will restart the kernel and run all cells. Make sure everything runs without errors and double-check the outputs are as you desire!\n",
    "4. Submit the `.ipynb` notebook on Canvas.\n"
   ]
  },
  {
   "cell_type": "markdown",
   "id": "11041d88-25a6-4185-bbb3-32bf7d13fd85",
   "metadata": {},
   "source": [
    "# Naive Bayes"
   ]
  },
  {
   "cell_type": "markdown",
   "id": "c00bb827-698e-4a11-a8f7-08ca444cc20f",
   "metadata": {
    "jp-MarkdownHeadingCollapsed": true
   },
   "source": [
    "## Iris Dataset\n",
    "<center><img src=\"https://storage.googleapis.com/kaggle-datasets-images/17860/23404/efadfebe925588a27d94d61be1d376d3/dataset-cover.jpg?t=2018-03-22-16-10-55\"></center>\n",
    "\n",
    "\n",
    "This assignment will have you tackle the famous Iris flower classification problem, where the goal is to classify three different species of Iris flowers. The Iris flower dataset is a frequently used dataset when first being introduced to classification in machine learning. [Kaggles](https://www.kaggle.com/arshid/iris-flower-dataset)  description of the dataset is as follows:\n",
    "\n",
    "> The Iris flower data set is a multivariate data set introduced by the British statistician and biologist Ronald Fisher in his 1936 paper. The use of multiple measurements in taxonomic problems. It is sometimes called Anderson's Iris dataset because Edgar Anderson collected the data to quantify the morphologic variation of Iris flowers of 3 related species. The dataset consists of 50 samples from each of three species of Iris (Iris Setosa, Iris virginica, and Iris versicolor). 4 features were measured from each sample: the length and the width of the sepals and petals, in centimeters.\n",
    "\n",
    "\n",
    "Recall the four features of sepal length, sepal width, petal length, and petal width are given in centimeters (cm) and correspond to the below image.\n",
    "\n",
    "<center><img src=\"https://external-content.duckduckgo.com/iu/?u=https%3A%2F%2Fmiro.medium.com%2Fmax%2F1400%2F0*_WfmSKzMX-u_xVyc.png&f=1&nofb=1\"></center>\n",
    "\n",
    "Finally, recall the labels are as follows: label 0 corresponds to 'setosa', label 1 corresponds to 'versicolor', and label 2 corresponds to 'virginica' as the class labels in `iris.target` correspond to the index of `iris.target_names`. \n",
    "\n",
    "Thus, the goal of this data is a 3-way multi-classification problem where you must classify each data sample either as an Iris setosa, Iris virginica or Iris versicolor. "
   ]
  },
  {
   "cell_type": "markdown",
   "id": "85a2dd3e",
   "metadata": {},
   "source": [
    "## Loading the data"
   ]
  },
  {
   "cell_type": "markdown",
   "id": "01f4b3f2",
   "metadata": {},
   "source": [
    "#### TODO 1 (5 points): Data Loading\n",
    "Complete the TODO by loading the Iris dataset using Sklearn.\n",
    "\n",
    "1. Load the Iris dataset by calling Sklearn's `load_iris()` function and pass the parameter the returns the data as a pandas DataFrame. Store the output into `iris`."
   ]
  },
  {
   "cell_type": "code",
   "execution_count": 2,
   "id": "cb575f8e",
   "metadata": {
    "deletable": false,
    "nbgrader": {
     "cell_type": "code",
     "checksum": "1eccf2e4055cdf1f384f595e4d245357",
     "grade": false,
     "grade_id": "cell-afe5b4ab8f391be7",
     "locked": false,
     "schema_version": 3,
     "solution": true,
     "task": false
    }
   },
   "outputs": [],
   "source": [
    "# TODO 1\n",
    "iris = None\n",
    "from sklearn.datasets import load_iris\n",
    "iris = load_iris(as_frame=True)"
   ]
  },
  {
   "cell_type": "code",
   "execution_count": 3,
   "id": "de483fb6-e5be-4b20-863b-3d649f7d2a88",
   "metadata": {
    "deletable": false,
    "editable": false,
    "nbgrader": {
     "cell_type": "code",
     "checksum": "f0c4d174f4a5cae633350cec08c2b838",
     "grade": true,
     "grade_id": "cell-54da5025c2b0c69b",
     "locked": true,
     "points": 5,
     "schema_version": 3,
     "solution": false,
     "task": false
    }
   },
   "outputs": [
    {
     "ename": "NameError",
     "evalue": "name 'traceback' is not defined",
     "output_type": "error",
     "traceback": [
      "\u001b[0;31m---------------------------------------------------------------------------\u001b[0m",
      "\u001b[0;31mNameError\u001b[0m                                 Traceback (most recent call last)",
      "Cell \u001b[0;32mIn[1], line 13\u001b[0m, in \u001b[0;36mtodo_check\u001b[0;34m(asserts, mute, success_msg, **kwargs)\u001b[0m\n\u001b[1;32m     12\u001b[0m \u001b[38;5;28;01mtry\u001b[39;00m:\n\u001b[0;32m---> 13\u001b[0m     passed \u001b[38;5;241m=\u001b[39m \u001b[38;5;28;43meval\u001b[39;49m\u001b[43m(\u001b[49m\u001b[43mcondi\u001b[49m\u001b[43m)\u001b[49m\n\u001b[1;32m     14\u001b[0m \u001b[38;5;28;01mexcept\u001b[39;00m \u001b[38;5;167;01mException\u001b[39;00m:\n",
      "File \u001b[0;32m<string>:1\u001b[0m\n",
      "\u001b[0;31mNameError\u001b[0m: name 'sklearn' is not defined",
      "\nDuring handling of the above exception, another exception occurred:\n",
      "\u001b[0;31mNameError\u001b[0m                                 Traceback (most recent call last)",
      "Cell \u001b[0;32mIn[3], line 1\u001b[0m\n\u001b[0;32m----> 1\u001b[0m \u001b[43mtodo_check\u001b[49m\u001b[43m(\u001b[49m\u001b[43m[\u001b[49m\n\u001b[1;32m      2\u001b[0m \u001b[43m    \u001b[49m\u001b[43m(\u001b[49m\u001b[38;5;124;43m\"\u001b[39;49m\u001b[38;5;124;43misinstance(iris, sklearn.utils.Bunch)\u001b[39;49m\u001b[38;5;124;43m\"\u001b[39;49m\u001b[43m,\u001b[49m\u001b[43m \u001b[49m\u001b[38;5;124;43m\"\u001b[39;49m\u001b[38;5;124;43m'\u001b[39;49m\u001b[38;5;124;43miris\u001b[39;49m\u001b[38;5;124;43m'\u001b[39;49m\u001b[38;5;124;43m is not of type Bunch\u001b[39;49m\u001b[38;5;124;43m\"\u001b[39;49m\u001b[43m)\u001b[49m\u001b[43m,\u001b[49m\n\u001b[1;32m      3\u001b[0m \u001b[43m    \u001b[49m\u001b[43m(\u001b[49m\u001b[38;5;124;43m\"\u001b[39;49m\u001b[38;5;124;43misinstance(iris.data, pd.DataFrame)\u001b[39;49m\u001b[38;5;124;43m\"\u001b[39;49m\u001b[43m,\u001b[49m\u001b[43m \u001b[49m\u001b[38;5;124;43m\"\u001b[39;49m\u001b[38;5;124;43miris.data is not a Pandas DataFrame. Make sure to pass the correct argument to load_iris().\u001b[39;49m\u001b[38;5;124;43m\"\u001b[39;49m\u001b[43m)\u001b[49m\u001b[43m,\u001b[49m\n\u001b[1;32m      4\u001b[0m \u001b[43m    \u001b[49m\u001b[43m(\u001b[49m\u001b[38;5;124;43m\"\u001b[39;49m\u001b[38;5;124;43misinstance(iris.target, pd.Series)\u001b[39;49m\u001b[38;5;124;43m\"\u001b[39;49m\u001b[43m,\u001b[49m\u001b[43m \u001b[49m\u001b[38;5;124;43m\"\u001b[39;49m\u001b[38;5;124;43miris.target is not a Pandas series. Make sure to pass the correct argument to load_iris().\u001b[39;49m\u001b[38;5;124;43m\"\u001b[39;49m\u001b[43m)\u001b[49m\u001b[43m,\u001b[49m\n\u001b[1;32m      5\u001b[0m \u001b[43m]\u001b[49m\u001b[43m)\u001b[49m\n",
      "Cell \u001b[0;32mIn[1], line 17\u001b[0m, in \u001b[0;36mtodo_check\u001b[0;34m(asserts, mute, success_msg, **kwargs)\u001b[0m\n\u001b[1;32m     15\u001b[0m         exc_failed \u001b[38;5;241m=\u001b[39m \u001b[38;5;28;01mTrue\u001b[39;00m\n\u001b[1;32m     16\u001b[0m         n_failed \u001b[38;5;241m+\u001b[39m\u001b[38;5;241m=\u001b[39m \u001b[38;5;241m1\u001b[39m\n\u001b[0;32m---> 17\u001b[0m         failed \u001b[38;5;241m+\u001b[39m\u001b[38;5;241m=\u001b[39m \u001b[38;5;124mf\u001b[39m\u001b[38;5;124m\"\u001b[39m\u001b[38;5;130;01m\\n\u001b[39;00m\u001b[38;5;124mCheck [\u001b[39m\u001b[38;5;132;01m{\u001b[39;00mcheck\u001b[38;5;241m+\u001b[39m\u001b[38;5;241m1\u001b[39m\u001b[38;5;132;01m}\u001b[39;00m\u001b[38;5;124m]: Failed to execute check [\u001b[39m\u001b[38;5;132;01m{\u001b[39;00mcheck\u001b[38;5;241m+\u001b[39m\u001b[38;5;241m1\u001b[39m\u001b[38;5;132;01m}\u001b[39;00m\u001b[38;5;124m] due to the following error...\u001b[39m\u001b[38;5;130;01m\\n\u001b[39;00m\u001b[38;5;132;01m{\u001b[39;00mtraceback\u001b[38;5;241m.\u001b[39mformat_exc()\u001b[38;5;132;01m}\u001b[39;00m\u001b[38;5;124m\"\u001b[39m\n\u001b[1;32m     18\u001b[0m \u001b[38;5;28;01melif\u001b[39;00m \u001b[38;5;28misinstance\u001b[39m(condi, \u001b[38;5;28mbool\u001b[39m):\n\u001b[1;32m     19\u001b[0m     passed \u001b[38;5;241m=\u001b[39m condi\n",
      "\u001b[0;31mNameError\u001b[0m: name 'traceback' is not defined"
     ]
    }
   ],
   "source": [
    "todo_check([\n",
    "    (\"isinstance(iris, sklearn.utils.Bunch)\", \"'iris' is not of type Bunch\"),\n",
    "    (\"isinstance(iris.data, pd.DataFrame)\", \"iris.data is not a Pandas DataFrame. Make sure to pass the correct argument to load_iris().\"),\n",
    "    (\"isinstance(iris.target, pd.Series)\", \"iris.target is not a Pandas series. Make sure to pass the correct argument to load_iris().\"),\n",
    "])"
   ]
  },
  {
   "cell_type": "code",
   "execution_count": null,
   "id": "f60c5a45",
   "metadata": {
    "scrolled": true
   },
   "outputs": [],
   "source": [
    "iris.data"
   ]
  },
  {
   "cell_type": "code",
   "execution_count": null,
   "id": "11a0c674",
   "metadata": {},
   "outputs": [],
   "source": [
    "iris.target"
   ]
  },
  {
   "cell_type": "markdown",
   "id": "d9500d65",
   "metadata": {},
   "source": [
    "### Visualization\n",
    "\n",
    "Recall, the below is the scatter matrix or pairplot for the Iris data."
   ]
  },
  {
   "cell_type": "code",
   "execution_count": null,
   "id": "2a4f537c",
   "metadata": {
    "scrolled": true
   },
   "outputs": [],
   "source": [
    "from seaborn import pairplot\n",
    "pairplot(pd.concat([iris.data, iris.target], axis=1), hue='target');"
   ]
  },
  {
   "cell_type": "markdown",
   "id": "f21b52ac",
   "metadata": {},
   "source": [
    "## Data Preprocessing"
   ]
  },
  {
   "cell_type": "markdown",
   "id": "1ed8fc55",
   "metadata": {},
   "source": [
    "### Data Splitting"
   ]
  },
  {
   "cell_type": "code",
   "execution_count": null,
   "id": "94321f79",
   "metadata": {},
   "outputs": [],
   "source": [
    "from sklearn.model_selection import train_test_split\n",
    "def get_train_valid_test_data(\n",
    "    X: np.ndarray, \n",
    "    y: np.ndarray, \n",
    "):\n",
    "    \"\"\" Randomizes and then splits the data into train, validation, and test sets.\n",
    "\n",
    "        Args:\n",
    "            X: Data given as a 2D matrix\n",
    "\n",
    "            y: Labels given as a vector \n",
    "    \"\"\"\n",
    "    X_trn, X_tst, y_trn, y_tst = train_test_split(X, y, train_size=.8, random_state=42)\n",
    "    X_trn, X_vld, y_trn, y_vld = train_test_split(X_trn, y_trn, train_size=.8, random_state=42)\n",
    "\n",
    "    return X_trn, y_trn, X_vld, y_vld, X_tst, y_tst"
   ]
  },
  {
   "cell_type": "markdown",
   "id": "e9a72b4c",
   "metadata": {},
   "source": [
    "### Putting it all together\n",
    "\n",
    "To prepare the data you will need to drop any features, if specified, and split the data.\n",
    "\n",
    "#### TODO 2 (10 points): Preprocess Data\n",
    "\n",
    "Complete the following steps to implement the `get_preprocessed_data()` function for performing data preprocessing.\n",
    "\n",
    "1. Drop the features specified by the `drop_features` argument from `X` if `drop_features` is not `None`. If `drop_features` is not `None`, then a list of strings will be passed corresponding to feature/column names in `iris.data`. These features should be dropped without editing the original memory location of `iris.data`.\n",
    "    1. Hint: Drop the features using Pandas and store the resulting DataFrame into a new variable. **DO NOT** store the new DataFrame into the `iris.data` variable location!\n",
    "    2. Hint: If `drop_features` is `None` then use ALL features (i.e., do nothing).\n",
    "<br><br>\n",
    "2. Call the `get_train_valid_test_data()` function to split the targets and dropped feature data (if any features were dropped). Store the output into `X_trn`, `y_trn`, `X_vld`, `y_vld`, `X_tst`, and `y_tst`."
   ]
  },
  {
   "cell_type": "code",
   "execution_count": null,
   "id": "51d41a4e",
   "metadata": {
    "deletable": false,
    "nbgrader": {
     "cell_type": "code",
     "checksum": "88351c6f2a3c6cfa49b7a8076470910a",
     "grade": false,
     "grade_id": "cell-d7e0afd903da8e2f",
     "locked": false,
     "schema_version": 3,
     "solution": true,
     "task": false
    }
   },
   "outputs": [],
   "source": [
    "def get_preprocessed_data(drop_features: List[str] = None) -> Tuple[np.ndarray]:\n",
    "    \"\"\" Gets preprocessed data for training, validation, and testing\n",
    "        Args:\n",
    "            drop_features: List of feature names to drop from iris.data.\n",
    "            \n",
    "        Return:\n",
    "            A tuple of NumPy arrays where indices 0-1 \n",
    "            contain the training data/targets, indices 2-3\n",
    "            contain the validation data/targets, and 4-5\n",
    "            contain the testing data/targets.\n",
    "    \"\"\"\n",
    "    X = iris.data.copy()\n",
    "    y = iris.target.copy()\n",
    "    \n",
    "    # TODO 2.1 - 2.2\n",
    "    if drop_features is not None:\n",
    "        X = X.drop(columns=drop_features)\n",
    "\n",
    "    X = X.to_numpy()\n",
    "    y = y.to_numpy()\n",
    "    \n",
    "    X_trn, y_trn, X_vld, y_vld, X_tst, y_tst = get_train_valid_test_data(X, y)\n",
    "    \n",
    "    # Reshape targets to be 2D column vectors\n",
    "    return X_trn, y_trn.reshape(-1, 1), X_vld, y_vld.reshape(-1, 1), X_tst, y_tst.reshape(-1, 1)"
   ]
  },
  {
   "cell_type": "code",
   "execution_count": null,
   "id": "32ae23a2-1f2b-454b-9d93-da706ba6a5f8",
   "metadata": {
    "deletable": false,
    "editable": false,
    "nbgrader": {
     "cell_type": "code",
     "checksum": "f3aa05a1b84a188472b46f6756aeaa05",
     "grade": true,
     "grade_id": "cell-8da06fbdeb15c429",
     "locked": true,
     "points": 5,
     "schema_version": 3,
     "solution": false,
     "task": false
    }
   },
   "outputs": [],
   "source": [
    "def TEST_get_preprocessed_data():\n",
    "    nd = get_preprocessed_data()\n",
    "    print(\"{:-^50}\".format(\"No Dropped Features\"))\n",
    "    print(f\"X_trn shape: {nd[0].shape}\")\n",
    "    print(f\"y_trn shape: {nd[1].shape}\")\n",
    "    print(f\"X_vld shape: {nd[2].shape}\")\n",
    "    print(f\"y_vld shape: {nd[3].shape}\")\n",
    "    print(f\"X_tst shape: {nd[4].shape}\")\n",
    "    print(f\"y_tst shape: {nd[5].shape}\")\n",
    "    \n",
    "    todo_check([\n",
    "        # Split and no features drop\n",
    "        (\"isinstance(nd[0], np.ndarray)\", \"X_trn must be a NumPy array.\"),\n",
    "        (\"isinstance(nd[2], np.ndarray)\", \"X_vld must be a NumPy array.\"),\n",
    "        (\"isinstance(nd[4], np.ndarray)\", \"X_tst must be a NumPy array.\"),\n",
    "        (\"isinstance(nd[1], np.ndarray)\", \"y_trn must be a NumPy array.\"),\n",
    "        (\"isinstance(nd[3], np.ndarray)\", \"y_vld must be a NumPy array.\"),\n",
    "        (\"isinstance(nd[5], np.ndarray)\", \"y_tst must be a NumPy array.\"),\n",
    "        (\"nd[0].shape == (96, 4)\", \"Training data has incorrect shape: expected (96,4).\"),\n",
    "        (\"nd[2].shape == (24, 4)\", \"Validation data has incorrect shape: expected (24,4).\"),\n",
    "        (\"nd[4].shape == (30, 4)\", \"Testing data has incorrect shape: expected (30,4).\"),\n",
    "        (\"(nd[1] == 2).sum() == 34\", \"y_trn had incorrect label counts\"),\n",
    "        (\"(nd[3] == 1).sum() == 11\", \"y_vld had incorrect label counts.\"),\n",
    "        (\"(nd[5] == 1).sum() == 9\", \"y_tst had incorrect label counts.\"),\n",
    "        (\"iris.data.shape == (150, 4)\", \n",
    "         \"Original iris.data has been modified, DO NOT modify the original iris.data memory location. You will now need to rerun TODO 1 to reload the data.\")\n",
    "    ], **locals(), success_msg=\"+5 points\")\n",
    "\n",
    "TEST_get_preprocessed_data()"
   ]
  },
  {
   "cell_type": "code",
   "execution_count": null,
   "id": "603b49fe-5c43-4060-8855-34a03c5b4948",
   "metadata": {
    "deletable": false,
    "editable": false,
    "nbgrader": {
     "cell_type": "code",
     "checksum": "7635c1dc26b66e63cd2fd8f8f450b8c6",
     "grade": true,
     "grade_id": "cell-44ef7ba28ab7c810",
     "locked": true,
     "points": 5,
     "schema_version": 3,
     "solution": false,
     "task": false
    }
   },
   "outputs": [],
   "source": [
    "def TEST_get_preprocessed_data_with_dropped_features():\n",
    "    d = get_preprocessed_data(\n",
    "        drop_features=['sepal length (cm)', 'petal length (cm)']\n",
    "    )\n",
    "    print(\"{:-^50}\".format(\"Dropped Features\"))\n",
    "    print(f\"X_trn shape: {d[0].shape}\")\n",
    "    print(f\"y_trn shape: {d[1].shape}\")\n",
    "    print(f\"X_vld shape: {d[2].shape}\")\n",
    "    print(f\"y_vld shape: {d[3].shape}\")\n",
    "    print(f\"X_tst shape: {d[4].shape}\")\n",
    "    print(f\"y_tst shape: {d[5].shape}\")\n",
    "    print(d[4][0])\n",
    "    todo_check([\n",
    "        # Split and features drop\n",
    "        (\"isinstance(d[0], np.ndarray)\", \"X_trn must be a NumPy array.\"),\n",
    "        (\"isinstance(d[2], np.ndarray)\", \"X_vld must be a NumPy array.\"),\n",
    "        (\"isinstance(d[4], np.ndarray)\", \"X_tst must be a NumPy array.\"),\n",
    "        (\"isinstance(d[1], np.ndarray)\", \"y_trn must be a NumPy array.\"),\n",
    "        (\"isinstance(d[3], np.ndarray)\", \"y_vld must be a NumPy array.\"),\n",
    "        (\"isinstance(d[5], np.ndarray)\", \"y_tst must be a NumPy array.\"),\n",
    "        (\"d[0].shape == (96, 2)\", \"Training data has incorrect shape: expected (96,2).\"),\n",
    "        (\"d[2].shape == (24, 2)\", \"Validation data has incorrect shape: expected (24,2).\"),\n",
    "        (\"d[4].shape == (30, 2)\", \"Testing data has incorrect shape: expected (30,2).\"),\n",
    "        (\"(d[0][0] == [3., 1.8]).all()\", \"Training data has incorrect values.\"),\n",
    "        (\"(d[2][0] == [2.2, 1.]).all()\", \"Training data has incorrect values.\"),\n",
    "        (\"(d[4][0] == [2.8, 1.2]).all()\", \"Training data has incorrect values.\"),\n",
    "        (\"(d[1] == 2).sum() == 34\", \"y_trn had incorrect label counts\"),\n",
    "        (\"(d[3] == 1).sum() == 11\", \"y_vld had incorrect label counts.\"),\n",
    "        (\"(d[5] == 1).sum() == 9\", \"y_tst had incorrect label counts.\"),\n",
    "        (\"iris.data.shape == (150, 4)\", \n",
    "         \"Original iris.data has been modified, DO NOT modify the original iris.data memory location. You will now need to rerun TODO 1 to reload the data.\")\n",
    "    ], **locals(), success_msg=\"+5 points\")\n",
    "    \n",
    "TEST_get_preprocessed_data_with_dropped_features()"
   ]
  },
  {
   "cell_type": "markdown",
   "id": "d58656b5",
   "metadata": {},
   "source": [
    "## Metrics"
   ]
  },
  {
   "cell_type": "code",
   "execution_count": 43,
   "id": "7b8a866d",
   "metadata": {},
   "outputs": [],
   "source": [
    "from sklearn.metrics import (\n",
    "    accuracy_score,\n",
    "    confusion_matrix\n",
    ")"
   ]
  },
  {
   "cell_type": "markdown",
   "id": "845d40b9",
   "metadata": {},
   "source": [
    "## Plots"
   ]
  },
  {
   "cell_type": "markdown",
   "id": "4049605e-4222-4092-9daf-403156b37090",
   "metadata": {},
   "source": [
    "The function `plot_decision_boundary()` aims to draw the decision boundary using a contour plot. This function will only work when your data has 2 features. Remember, having more than 2-3 features (i.e., higher dimensional features) means we have a much harder time visualizing the data. "
   ]
  },
  {
   "cell_type": "code",
   "execution_count": 44,
   "id": "b224f18c",
   "metadata": {},
   "outputs": [],
   "source": [
    "def plot_decision_boundary(\n",
    "    gnb: object, \n",
    "    X: np.ndarray, \n",
    "    y: np.ndarray,\n",
    "    xlabel: str = '',\n",
    "    ylabel: str = '',\n",
    "    class_names: Dict = None\n",
    ") -> None:\n",
    "    \"\"\" Plots the decision boundry for data with 2 features. \n",
    "    \n",
    "        Warning: \n",
    "            If you have more than 2 features (2D data) the decision boundry\n",
    "            can not be plotted.\n",
    "    \n",
    "        Args:\n",
    "            gnb: An instance of GaussianNaiveBayes class\n",
    "            \n",
    "            X: Data to be plotted\n",
    "\n",
    "            y: Labels for corresponding data\n",
    "\n",
    "            xlabel: X-axis label for plot\n",
    "\n",
    "            ylabel: Y-axis label for plot\n",
    "            \n",
    "            class_names: Dictionary mapping labels to class names.\n",
    "\n",
    "                Example: {0: 'setosa', 1: 'versicolor', 2: 'virginica'}\n",
    "    \"\"\"\n",
    "    assert X.shape[-1] == 2, f\"`X` must have 2 features not {X.shape[-1]}\"\n",
    "    \n",
    "    if class_names is None:\n",
    "        class_names = {}\n",
    "\n",
    "    # Generate fake data to cover entire space of our input features X\n",
    "    buffer = .5\n",
    "    x_min, x_max = X[:, 0].min() - buffer, X[:, 0].max() + buffer\n",
    "    y_min, y_max = X[:, 1].min() - buffer, X[:, 1].max() + buffer\n",
    "    xx, yy = np.meshgrid(np.arange(x_min, x_max, .02),\n",
    "                         np.arange(y_min, y_max, .02))\n",
    "    fake_data = np.c_[xx.ravel(), yy.ravel()].reshape(-1,2)\n",
    "\n",
    "    # Make prediction\n",
    "    y_hat = gnb.predict(fake_data)\n",
    "\n",
    "    # Plot\n",
    "    plt.contourf(xx, yy, y_hat.reshape(xx.shape))\n",
    "    \n",
    "    labels = np.unique(y)\n",
    "    for l in labels:\n",
    "        class_locs = np.where(y == l)[0]\n",
    "        class_name = class_names.get(l, f'class {l}')\n",
    "        plt.scatter(X[class_locs, 0], X[class_locs, 1], label=class_name)\n",
    "\n",
    "    plt.xlim(xx.min(), xx.max())\n",
    "    plt.ylim(yy.min(), yy.max())\n",
    "    plt.xlabel(xlabel)\n",
    "    plt.ylabel(ylabel)\n",
    "    plt.legend()\n",
    "    plt.show()"
   ]
  },
  {
   "cell_type": "markdown",
   "id": "e3209393-bf0c-42fb-816c-dac1aefeaa56",
   "metadata": {},
   "source": [
    "The function `plot_confusion_matrix()`  plots the confusion matrix based on the passed labels and predictions."
   ]
  },
  {
   "cell_type": "code",
   "execution_count": 45,
   "id": "d5e816fc-22c5-498f-bdb8-4c3b43434749",
   "metadata": {},
   "outputs": [],
   "source": [
    "def plot_confusion_matrix(\n",
    "    y: np.ndarray, \n",
    "    y_hat: np.ndarray, \n",
    "    class_names: Dict[int, str] = None\n",
    ") -> pd.DataFrame:\n",
    "    \"\"\" Plots a pretty and labeld version of Sklerarn's confusion matrix\n",
    "\n",
    "        Args:\n",
    "            y: Ground truth labels given as a 1D vector\n",
    "\n",
    "            y_hat: Predicted labels given as a 1D vector\n",
    "\n",
    "            class_names: Dictionary mapping labels to class names.\n",
    "\n",
    "                Example: {0: 'setosa', 1: 'versicolor', 2: 'virginica'}\n",
    "\n",
    "        Returns:\n",
    "            A confusion matrix casted as a DataFrame\n",
    "    \"\"\"\n",
    "    y =  y.flatten() # reshape to make 1D vector for consistency\n",
    "    y_hat = y_hat.flatten() # reshape to make 1D vector for consistency\n",
    "    \n",
    "    cfm = confusion_matrix(y_true=y, y_pred=y_hat)    \n",
    "    \n",
    "    labels = np.sort(np.unique(y))\n",
    "    if class_names is not None:\n",
    "        classes = []\n",
    "        for l in labels:\n",
    "            class_name = class_names.get(l, l)\n",
    "            classes.append(class_name)\n",
    "        labels = classes\n",
    "        \n",
    "    columns, index = labels, labels\n",
    "    cfm_df = pd.DataFrame(cfm, index=index, columns=columns)\n",
    "    sns.heatmap(cfm_df, annot=True)\n",
    "    plt.show()\n",
    "    return cfm_df"
   ]
  },
  {
   "cell_type": "markdown",
   "id": "cebc75c8",
   "metadata": {},
   "source": [
    "## Coding Gaussian Naive Bayes "
   ]
  },
  {
   "cell_type": "markdown",
   "id": "dc56d37d",
   "metadata": {},
   "source": [
    "## Computing log priors: $\\log P(Y)$"
   ]
  },
  {
   "cell_type": "markdown",
   "id": "3bcaa6ef",
   "metadata": {},
   "source": [
    "#### TODO 3 (10 points)\n",
    "Complete the TODO by implementing the `compute_log_priors()` function. To do so, compute the log priors for each class (i.e., unique label) using the below equation $P(y_k)$. Return the log priors as a 1D vector.\n",
    "\n",
    "\n",
    "$$\n",
    "P(y_k) = \\log \\Big( \\frac{\\text{Number of samples for class} \\, k}{\\text{Total number of samples}} \\Big )\n",
    "$$\n",
    "\n",
    "**Hints**\n",
    "- The function `np.unique()` is an easy way to find all unique labels and their correspond counts.\n",
    "- Refer to the notes for completing this function."
   ]
  },
  {
   "cell_type": "code",
   "execution_count": 46,
   "id": "e66e738b",
   "metadata": {
    "deletable": false,
    "nbgrader": {
     "cell_type": "code",
     "checksum": "22dae720fc9d2e0f4557956bc873c511",
     "grade": false,
     "grade_id": "cell-318075aa3947e720",
     "locked": false,
     "schema_version": 3,
     "solution": true,
     "task": false
    }
   },
   "outputs": [],
   "source": [
    "def compute_log_priors(y: np.ndarray) -> np.ndarray:\n",
    "    \"\"\" Computes the log priors for each class\n",
    "    \n",
    "        Args:\n",
    "            y: The labels/tagets given as a vector. \n",
    "\n",
    "        Returns:\n",
    "            1D vector of log priors for each class in ascending order labels.\n",
    "    \"\"\"\n",
    "    # TODO 3\n",
    "    _, counts = np.unique(y, return_counts=True)\n",
    "    \n",
    "    log_priors = np.log(counts / len(y))\n",
    "    \n",
    "    return log_priors"
   ]
  },
  {
   "cell_type": "code",
   "execution_count": 47,
   "id": "b12d059d",
   "metadata": {
    "deletable": false,
    "editable": false,
    "nbgrader": {
     "cell_type": "code",
     "checksum": "8b508db9e4ec87ab574f8c8cbffceffe",
     "grade": true,
     "grade_id": "cell-5cc08250a0be2359",
     "locked": true,
     "points": 10,
     "schema_version": 3,
     "solution": false,
     "task": false
    }
   },
   "outputs": [
    {
     "name": "stdout",
     "output_type": "stream",
     "text": [
      "y_trn shape: (96, 1)\n",
      "Estimated log priors: [-1.09861229 -1.16315081 -1.03798767]\n",
      "Estimated priors: [0.33333333 0.3125     0.35416667]\n",
      "Your code PASSED all the code checks! \n"
     ]
    }
   ],
   "source": [
    "def TEST_compute_log_priors():\n",
    "    _, y_trn, _, _, _, _ = get_preprocessed_data()\n",
    "    print(f\"y_trn shape: {y_trn.shape}\")\n",
    "    # Compute the log priors\n",
    "    log_priors = compute_log_priors(y_trn)\n",
    "    print(f\"Estimated log priors: {log_priors}\")\n",
    "    print(f\"Estimated priors: {np.exp(log_priors)}\")\n",
    "    todo_check([\n",
    "        (\"len(log_priors.shape) == 1\", \"Output of `compute_log_priors()` should be a 1D array.\"),\n",
    "        (\"len(log_priors) == 3\", \"Output of `compute_log_priors()` should have 3 priors, one for each Iris class.\"),\n",
    "        (\"np.isclose(log_priors, np.array([-1.09861229, -1.16315081, -1.03798767]), rtol=0.01).all()\", \"Output of `compute_log_priors()` seems to have incorrect values.\")\n",
    "    ], **locals())\n",
    "    \n",
    "TEST_compute_log_priors()"
   ]
  },
  {
   "cell_type": "markdown",
   "id": "904d92da",
   "metadata": {},
   "source": [
    "## Computing log likelihoods: $\\log P(X | Y)$"
   ]
  },
  {
   "cell_type": "markdown",
   "id": "534d1711",
   "metadata": {},
   "source": [
    "### Gaussian distribution\n",
    "\n",
    "<center><img src=\"https://external-content.duckduckgo.com/iu/?u=https%3A%2F%2Fupload.wikimedia.org%2Fwikipedia%2Fcommons%2Fthumb%2Fc%2Fc8%2FGaussian_distribution.svg%2F1280px-Gaussian_distribution.svg.png&f=1&nofb=1\" width=500 height=500></center>\n"
   ]
  },
  {
   "cell_type": "markdown",
   "id": "69f38573",
   "metadata": {},
   "source": [
    "#### TODO 4 (10 points)\n",
    "Compute the TODO by implementing the `log_gaussian()` function. Do so by implementing the log of the Gaussian distribution equation given below. The data `X`, mean `mu`, and standard deviation (STD)`sigma` will all be passed to the function. \n",
    "\n",
    "$$\n",
    "\\Large\\begin{align}\n",
    " P(\\mathbf{X} \\mid y_k) &= - \\frac{1}{2} \\log ( \\vec{\\sigma}_{k}^2 2\\pi) -\\frac{1}{2} \\Big ( \\frac{\\mathbf{X}- \\vec{\\mu}_{k}}{\\vec{\\sigma}_{k}} \\Big )^2\n",
    "\\end{align}\n",
    "$$"
   ]
  },
  {
   "cell_type": "code",
   "execution_count": 48,
   "id": "7cef4bc4",
   "metadata": {
    "deletable": false,
    "nbgrader": {
     "cell_type": "code",
     "checksum": "2e7fe2bf1cc63fc58a4c3f3365125fe4",
     "grade": false,
     "grade_id": "cell-63a6b7c0ed28d975",
     "locked": false,
     "schema_version": 3,
     "solution": true,
     "task": false
    }
   },
   "outputs": [],
   "source": [
    "def log_gaussian(\n",
    "    x: np.ndarray, \n",
    "    mu: Union[np.ndarray, float], \n",
    "    sigma: Union[np.ndarray, float],\n",
    ") -> np.ndarray:\n",
    "    \"\"\" Computes the value at a given point in a Gaussian distribution\n",
    "    \n",
    "        Args:\n",
    "            x: Data given as a NumPy a matrix or vector.\n",
    "            \n",
    "            mu: Feature means given as a NumPy vector or float.\n",
    "            \n",
    "            sigma: Feature standard deviations given as a NumPy vector or float.\n",
    "            \n",
    "        Returns:\n",
    "            A NumPy array of feature log liklihoods equal to the shape of x.\n",
    "    \"\"\"\n",
    "    # TODO 4\n",
    "    out = np.square(sigma)*2.0*3.141592653589793\n",
    "    out = -.5 * np.log(out)\n",
    "    out \n",
    "    return out - .5 * np.square((x-mu)/sigma)"
   ]
  },
  {
   "cell_type": "code",
   "execution_count": 49,
   "id": "4d96e92e",
   "metadata": {
    "deletable": false,
    "editable": false,
    "nbgrader": {
     "cell_type": "code",
     "checksum": "83836ef5ca1182baa992a0528f05e19a",
     "grade": true,
     "grade_id": "cell-034940d3198cd6ce",
     "locked": true,
     "points": 10,
     "schema_version": 3,
     "solution": false,
     "task": false
    },
    "scrolled": true
   },
   "outputs": [
    {
     "name": "stdout",
     "output_type": "stream",
     "text": [
      "mat_x_values shape: (60, 2)\n",
      "mat_y_values shape: (60, 2)\n",
      "vec_x_values shape: (120, 1)\n",
      "vec_y_values shape: (120, 1)\n"
     ]
    },
    {
     "data": {
      "image/png": "[encoded data removed]",
      "text/plain": [
       "<Figure size 640x480 with 1 Axes>"
      ]
     },
     "metadata": {},
     "output_type": "display_data"
    },
    {
     "name": "stdout",
     "output_type": "stream",
     "text": [
      "Your code PASSED all the code checks! \n"
     ]
    }
   ],
   "source": [
    "def TEST_gaussian_distribution():\n",
    "    mu, sigma = 1, 2\n",
    "    mat_x_values = np.linspace(-4, 6, 120).reshape(-1, 2)\n",
    "    mat_y_values = log_gaussian(mat_x_values, mu, sigma)\n",
    "    print(f\"mat_x_values shape: {mat_x_values.shape}\")\n",
    "    print(f\"mat_y_values shape: {mat_y_values.shape}\")\n",
    "    plt.plot(mat_x_values.flatten(), np.exp(mat_y_values.flatten()), label='mean=1, STD=2')\n",
    "\n",
    "    mu, sigma = 0, 1\n",
    "    vec_x_values = np.linspace(-4, 4, 120).reshape(-1, 1)\n",
    "    vec_y_values = log_gaussian(vec_x_values, mu, sigma)\n",
    "    print(f\"vec_x_values shape: {vec_x_values.shape}\")\n",
    "    print(f\"vec_y_values shape: {vec_y_values.shape}\")\n",
    "    plt.plot(vec_x_values, np.exp(vec_y_values), label='mean=0, STD=1')\n",
    "    \n",
    "    plt.title(f\"Gaussian\")\n",
    "    plt.ylabel(f\"Probability Density\")\n",
    "    plt.legend()\n",
    "    plt.show()\n",
    "    todo_check([\n",
    "        (\"vec_y_values.shape == (120, 1)\", \"`vec_y_values` should have shape (120, 1)\"),\n",
    "        (\"np.all(np.isclose(np.exp(vec_y_values.flatten()[:4]), [0.00013383, 0.00017473, 0.00022709, 0.00029382], rtol=.001))\", \"`vec_y_values` for the gaussian distribution seem to be incorrect!\"),\n",
    "        (\"mat_y_values.shape == (60, 2)\", \"`mat_y_values` should have shape (60, 2)\"),\n",
    "        (\"np.all(np.isclose(np.exp(mat_y_values.flatten()[:2]), [0.00876415, 0.00972625], rtol=.001))\", \"`mat_y_values` for the gaussian distribution seem to be incorrect!\")\n",
    "    ], **locals())\n",
    "    \n",
    "TEST_gaussian_distribution()"
   ]
  },
  {
   "cell_type": "markdown",
   "id": "e383e6b9",
   "metadata": {},
   "source": [
    "### Computing parameters: $\\mu$ and $\\sigma$"
   ]
  },
  {
   "cell_type": "markdown",
   "id": "8efeeb21",
   "metadata": {},
   "source": [
    "#### TODO 5 (10 points)\n",
    "Implement the `compute_parameters()` function according to the pseudocode provided below. You are allowed to use NumPy functions to compute the means $\\vec{\\mu}$ (mu) and standard deviations (STD) $\\vec{\\sigma}$ (sigma). See the below inline documentation for the expected input and return values.\n",
    "\n",
    "Note that $k$ is the current label/class, $K$ is the set of classes/labels, $M_k$ is the number of data samples with the label $k$. The output should be two NumPy arrays of shape $(|K|, N)$ where $N$ is the number of features and $|K|$ is the number of classes. Thus, row index 0 corresponds to label 0 (class 1 setosa), row index 1 corresponds to label 1 (class 2 versicolor) and row index 2 corresponds to label 2 (class 3 virginica). Likewise, column index 0 corresponds to the 1st column in the passed data `X` and column index 1 corresponds to the 2nd column in `X`, etc.\n",
    "\n",
    "<center><img src=\"https://live.staticflickr.com/65535/54068925361_caaf05bf76_c.jpg\" width=\"700\" height=\"400\" alt=\"gaussian-params\"/></center>\n",
    "\n",
    "**Hint**\n",
    "- `np.unique()` can make it easy to find all unique labels.\n",
    "- See notes for how to find data locations for a given label."
   ]
  },
  {
   "cell_type": "code",
   "execution_count": 50,
   "id": "bbe584d1",
   "metadata": {
    "deletable": false,
    "nbgrader": {
     "cell_type": "code",
     "checksum": "20b343168462558460f9101d2af5378b",
     "grade": false,
     "grade_id": "cell-f4bac08889776c75",
     "locked": false,
     "schema_version": 3,
     "solution": true,
     "task": false
    }
   },
   "outputs": [],
   "source": [
    "def compute_parameters(\n",
    "    X: np.ndarray, \n",
    "    y: np.ndarray,\n",
    ") -> Tuple[np.ndarray, np.ndarray]:\n",
    "    \"\"\" Computes the means and standard deviations for classes and features\n",
    "    \n",
    "        Args:\n",
    "            X: Data given as a 2D matrix \n",
    "            \n",
    "            y: Labels given as a 2D column vector\n",
    "\n",
    "        Returns:\n",
    "            Two NumPy arrays corresponding to the mean and STDs for each class and feature,\n",
    "            such that each array has the shape (|K|, N).\n",
    "    \"\"\"\n",
    "    means = []\n",
    "    stds = []\n",
    "    K = None\n",
    "    # TODO 5\n",
    "    K = np.unique(y)\n",
    "    for k in K:\n",
    "        means.append(np.mean(X[y.flatten() == k], axis=0))\n",
    "        stds.append(np.std(X[y.flatten() == k], axis=0))    \n",
    "    means = np.array(means)\n",
    "    stds = np.array(stds)\n",
    "    \n",
    "    return means, stds"
   ]
  },
  {
   "cell_type": "code",
   "execution_count": 51,
   "id": "85b5c908",
   "metadata": {
    "deletable": false,
    "editable": false,
    "nbgrader": {
     "cell_type": "code",
     "checksum": "f784d8cf7bde1806f2e8736cc05fcca6",
     "grade": true,
     "grade_id": "cell-4be7ef9d6e1ee866",
     "locked": true,
     "points": 5,
     "schema_version": 3,
     "solution": false,
     "task": false
    }
   },
   "outputs": [
    {
     "name": "stdout",
     "output_type": "stream",
     "text": [
      "---------------No Dropped Features----------------\n",
      "X_trn shape: (96, 4)\n",
      "y_trn shape: (96, 1)\n",
      "=========Iris Training Data Feature Means=========\n"
     ]
    },
    {
     "data": {
      "text/html": [
       "<div>\n",
       "<style scoped>\n",
       "    .dataframe tbody tr th:only-of-type {\n",
       "        vertical-align: middle;\n",
       "    }\n",
       "\n",
       "    .dataframe tbody tr th {\n",
       "        vertical-align: top;\n",
       "    }\n",
       "\n",
       "    .dataframe thead th {\n",
       "        text-align: right;\n",
       "    }\n",
       "</style>\n",
       "<table border=\"1\" class=\"dataframe\">\n",
       "  <thead>\n",
       "    <tr style=\"text-align: right;\">\n",
       "      <th></th>\n",
       "      <th>sepal length (cm)</th>\n",
       "      <th>sepal width (cm)</th>\n",
       "      <th>petal length (cm)</th>\n",
       "      <th>petal width (cm)</th>\n",
       "    </tr>\n",
       "  </thead>\n",
       "  <tbody>\n",
       "    <tr>\n",
       "      <th>setosa</th>\n",
       "      <td>5.053125</td>\n",
       "      <td>3.531250</td>\n",
       "      <td>1.459375</td>\n",
       "      <td>0.253125</td>\n",
       "    </tr>\n",
       "    <tr>\n",
       "      <th>versicolor</th>\n",
       "      <td>5.960000</td>\n",
       "      <td>2.790000</td>\n",
       "      <td>4.230000</td>\n",
       "      <td>1.313333</td>\n",
       "    </tr>\n",
       "    <tr>\n",
       "      <th>virginica</th>\n",
       "      <td>6.552941</td>\n",
       "      <td>2.988235</td>\n",
       "      <td>5.529412</td>\n",
       "      <td>2.005882</td>\n",
       "    </tr>\n",
       "  </tbody>\n",
       "</table>\n",
       "</div>"
      ],
      "text/plain": [
       "            sepal length (cm)  sepal width (cm)  petal length (cm)  \\\n",
       "setosa               5.053125          3.531250           1.459375   \n",
       "versicolor           5.960000          2.790000           4.230000   \n",
       "virginica            6.552941          2.988235           5.529412   \n",
       "\n",
       "            petal width (cm)  \n",
       "setosa              0.253125  \n",
       "versicolor          1.313333  \n",
       "virginica           2.005882  "
      ]
     },
     "metadata": {},
     "output_type": "display_data"
    },
    {
     "name": "stdout",
     "output_type": "stream",
     "text": [
      "=========Iris Training Data Feature STDs==========\n"
     ]
    },
    {
     "data": {
      "text/html": [
       "<div>\n",
       "<style scoped>\n",
       "    .dataframe tbody tr th:only-of-type {\n",
       "        vertical-align: middle;\n",
       "    }\n",
       "\n",
       "    .dataframe tbody tr th {\n",
       "        vertical-align: top;\n",
       "    }\n",
       "\n",
       "    .dataframe thead th {\n",
       "        text-align: right;\n",
       "    }\n",
       "</style>\n",
       "<table border=\"1\" class=\"dataframe\">\n",
       "  <thead>\n",
       "    <tr style=\"text-align: right;\">\n",
       "      <th></th>\n",
       "      <th>sepal length (cm)</th>\n",
       "      <th>sepal width (cm)</th>\n",
       "      <th>petal length (cm)</th>\n",
       "      <th>petal width (cm)</th>\n",
       "    </tr>\n",
       "  </thead>\n",
       "  <tbody>\n",
       "    <tr>\n",
       "      <th>setosa</th>\n",
       "      <td>0.346396</td>\n",
       "      <td>0.354822</td>\n",
       "      <td>0.163668</td>\n",
       "      <td>0.114522</td>\n",
       "    </tr>\n",
       "    <tr>\n",
       "      <th>versicolor</th>\n",
       "      <td>0.573062</td>\n",
       "      <td>0.305887</td>\n",
       "      <td>0.485901</td>\n",
       "      <td>0.202868</td>\n",
       "    </tr>\n",
       "    <tr>\n",
       "      <th>virginica</th>\n",
       "      <td>0.632100</td>\n",
       "      <td>0.323369</td>\n",
       "      <td>0.551751</td>\n",
       "      <td>0.297975</td>\n",
       "    </tr>\n",
       "  </tbody>\n",
       "</table>\n",
       "</div>"
      ],
      "text/plain": [
       "            sepal length (cm)  sepal width (cm)  petal length (cm)  \\\n",
       "setosa               0.346396          0.354822           0.163668   \n",
       "versicolor           0.573062          0.305887           0.485901   \n",
       "virginica            0.632100          0.323369           0.551751   \n",
       "\n",
       "            petal width (cm)  \n",
       "setosa              0.114522  \n",
       "versicolor          0.202868  \n",
       "virginica           0.297975  "
      ]
     },
     "metadata": {},
     "output_type": "display_data"
    },
    {
     "name": "stdout",
     "output_type": "stream",
     "text": [
      "Your code PASSED all the code checks! +5 points\n"
     ]
    }
   ],
   "source": [
    "def TEST_compute_parameters():\n",
    "    \"\"\" Tests compute_parameters() with no dropped features \"\"\"\n",
    "    X_trn, y_trn, _, _, _, _ = get_preprocessed_data()\n",
    "    print(\"{:-^50}\".format(\"No Dropped Features\"))\n",
    "    print(f\"X_trn shape: {X_trn.shape}\")\n",
    "    print(f\"y_trn shape: {y_trn.shape}\")\n",
    "    \n",
    "    # Compute mean and std for each class\n",
    "    means, stds = compute_parameters(X_trn, y_trn)\n",
    "\n",
    "    means_df = pd.DataFrame(means, index=iris.target_names, columns=iris.feature_names)\n",
    "    print(\"{:=^50}\".format(\"Iris Training Data Feature Means\"))\n",
    "    display(means_df)\n",
    "    stds_df = pd.DataFrame(stds, index=iris.target_names, columns=iris.feature_names)\n",
    "    print(\"{:=^50}\".format(\"Iris Training Data Feature STDs\"))\n",
    "    display(stds_df)\n",
    "\n",
    "    todo_check([\n",
    "        (\"isinstance(means, np.ndarray)\",\"`compute_parameters()` means must be a matrix given as a NumPy array.\"),\n",
    "        (\"means.shape == (3, X_trn.shape[-1])\",\"`compute_parameters()` means have the shape (K=3, N=4).\"),\n",
    "        (\"isinstance(stds, np.ndarray)\",\"`compute_parameters()` stds must be a matrix given as a NumPy array.\"),\n",
    "        (\"stds.shape == (3, X_trn.shape[-1])\",\"`compute_parameters()` stds have the shape (K=3, N=4).\"),\n",
    "        (\"np.isclose(np.diagonal(means), np.array([5.053125, 2.79, 5.52941176]), rtol=.01).all()\", \"means has incorrect values\"),\n",
    "        (\"np.isclose(np.diagonal(stds), np.array([0.346396, 0.305887, 0.551751]), rtol=.01).all()\", \"stds has incorrect values\"),\n",
    "    ], **locals(), success_msg=\"+5 points\")\n",
    "\n",
    "TEST_compute_parameters()"
   ]
  },
  {
   "cell_type": "code",
   "execution_count": 52,
   "id": "ce6e9df2-85fe-4519-8893-294fd3e850b0",
   "metadata": {
    "deletable": false,
    "editable": false,
    "nbgrader": {
     "cell_type": "code",
     "checksum": "42fde4dc09522a36db89e3f6295c8cf2",
     "grade": true,
     "grade_id": "cell-a96701e43f82feb8",
     "locked": true,
     "points": 5,
     "schema_version": 3,
     "solution": false,
     "task": false
    }
   },
   "outputs": [
    {
     "name": "stdout",
     "output_type": "stream",
     "text": [
      "-----------------Dropped Features-----------------\n",
      "X_trn shape: (96, 2)\n",
      "y_trn shape: (96, 1)\n",
      "=========Iris Training Data Feature Means=========\n"
     ]
    },
    {
     "data": {
      "text/html": [
       "<div>\n",
       "<style scoped>\n",
       "    .dataframe tbody tr th:only-of-type {\n",
       "        vertical-align: middle;\n",
       "    }\n",
       "\n",
       "    .dataframe tbody tr th {\n",
       "        vertical-align: top;\n",
       "    }\n",
       "\n",
       "    .dataframe thead th {\n",
       "        text-align: right;\n",
       "    }\n",
       "</style>\n",
       "<table border=\"1\" class=\"dataframe\">\n",
       "  <thead>\n",
       "    <tr style=\"text-align: right;\">\n",
       "      <th></th>\n",
       "      <th>sepal width (cm)</th>\n",
       "      <th>petal width (cm)</th>\n",
       "    </tr>\n",
       "  </thead>\n",
       "  <tbody>\n",
       "    <tr>\n",
       "      <th>setosa</th>\n",
       "      <td>3.531250</td>\n",
       "      <td>0.253125</td>\n",
       "    </tr>\n",
       "    <tr>\n",
       "      <th>versicolor</th>\n",
       "      <td>2.790000</td>\n",
       "      <td>1.313333</td>\n",
       "    </tr>\n",
       "    <tr>\n",
       "      <th>virginica</th>\n",
       "      <td>2.988235</td>\n",
       "      <td>2.005882</td>\n",
       "    </tr>\n",
       "  </tbody>\n",
       "</table>\n",
       "</div>"
      ],
      "text/plain": [
       "            sepal width (cm)  petal width (cm)\n",
       "setosa              3.531250          0.253125\n",
       "versicolor          2.790000          1.313333\n",
       "virginica           2.988235          2.005882"
      ]
     },
     "metadata": {},
     "output_type": "display_data"
    },
    {
     "name": "stdout",
     "output_type": "stream",
     "text": [
      "=========Iris Training Data Feature STDs==========\n"
     ]
    },
    {
     "data": {
      "text/html": [
       "<div>\n",
       "<style scoped>\n",
       "    .dataframe tbody tr th:only-of-type {\n",
       "        vertical-align: middle;\n",
       "    }\n",
       "\n",
       "    .dataframe tbody tr th {\n",
       "        vertical-align: top;\n",
       "    }\n",
       "\n",
       "    .dataframe thead th {\n",
       "        text-align: right;\n",
       "    }\n",
       "</style>\n",
       "<table border=\"1\" class=\"dataframe\">\n",
       "  <thead>\n",
       "    <tr style=\"text-align: right;\">\n",
       "      <th></th>\n",
       "      <th>sepal width (cm)</th>\n",
       "      <th>petal width (cm)</th>\n",
       "    </tr>\n",
       "  </thead>\n",
       "  <tbody>\n",
       "    <tr>\n",
       "      <th>setosa</th>\n",
       "      <td>0.354822</td>\n",
       "      <td>0.114522</td>\n",
       "    </tr>\n",
       "    <tr>\n",
       "      <th>versicolor</th>\n",
       "      <td>0.305887</td>\n",
       "      <td>0.202868</td>\n",
       "    </tr>\n",
       "    <tr>\n",
       "      <th>virginica</th>\n",
       "      <td>0.323369</td>\n",
       "      <td>0.297975</td>\n",
       "    </tr>\n",
       "  </tbody>\n",
       "</table>\n",
       "</div>"
      ],
      "text/plain": [
       "            sepal width (cm)  petal width (cm)\n",
       "setosa              0.354822          0.114522\n",
       "versicolor          0.305887          0.202868\n",
       "virginica           0.323369          0.297975"
      ]
     },
     "metadata": {},
     "output_type": "display_data"
    },
    {
     "name": "stdout",
     "output_type": "stream",
     "text": [
      "Your code PASSED all the code checks! +5 points\n"
     ]
    }
   ],
   "source": [
    "def TEST_compute_parameters_with_dropped_features():\n",
    "    \"\"\" Tests compute_parameters() with dropped features \"\"\"\n",
    "    X_trn, y_trn, _, _, _, _ = get_preprocessed_data(\n",
    "        drop_features=['sepal length (cm)', 'petal length (cm)']\n",
    "    )\n",
    "    print(\"{:-^50}\".format(\"Dropped Features\"))\n",
    "    print(f\"X_trn shape: {X_trn.shape}\")\n",
    "    print(f\"y_trn shape: {y_trn.shape}\")\n",
    "    \n",
    "    # Compute mean and std for each class\n",
    "    means, stds = compute_parameters(X_trn, y_trn)\n",
    "\n",
    "    means_df = pd.DataFrame(means, index=iris.target_names, columns=['sepal width (cm)', 'petal width (cm)'])\n",
    "    print(\"{:=^50}\".format(\"Iris Training Data Feature Means\"))\n",
    "    display(means_df)\n",
    "    stds_df = pd.DataFrame(stds, index=iris.target_names, columns=['sepal width (cm)', 'petal width (cm)'])\n",
    "    print(\"{:=^50}\".format(\"Iris Training Data Feature STDs\"))\n",
    "    display(stds_df)\n",
    "\n",
    "    todo_check([\n",
    "        (\"isinstance(means, np.ndarray)\",\"`compute_parameters()` means must be a matrix given as a NumPy array.\"),\n",
    "        (\"means.shape == (3, X_trn.shape[-1])\",\"`compute_parameters()` means have the shape (K=3, N=2).\"),\n",
    "        (\"isinstance(stds, np.ndarray)\",\"`compute_parameters()` stds must be a matrix given as a NumPy array.\"),\n",
    "        (\"stds.shape == (3, X_trn.shape[-1])\",\"`compute_parameters()` stds have the shape (K=3, N=2).\"),\n",
    "        (\"np.isclose(np.diagonal(means), np.array([3.53125, 1.313333]), rtol=.01).all()\", \"means has incorrect values\"),\n",
    "        (\"np.isclose(np.diagonal(stds), np.array([0.354822, 0.202868]), rtol=.01).all()\", \"stds has incorrect values\"),\n",
    "    ], **locals(), success_msg=\"+5 points\")\n",
    "\n",
    "TEST_compute_parameters_with_dropped_features()"
   ]
  },
  {
   "cell_type": "markdown",
   "id": "0b1e8723",
   "metadata": {},
   "source": [
    "### Computing log likelihoods"
   ]
  },
  {
   "cell_type": "markdown",
   "id": "31c33825",
   "metadata": {},
   "source": [
    "#### TODO 6 (10 points)\n",
    "Implement the `compute_log_likelihoods()` function according to the pseudocode provided below to compute the log likelihoods for each class and feature $P(X = \\Xm \\mid Y = y_k)$. See the below inline documentation for the expected input and return values.\n",
    "<center><img src=\"https://live.staticflickr.com/65535/54069869109_b7ea861fbf_c.jpg\" width=\"800\" height=\"401\" alt=\"log-likelihoods\"/></center>\n",
    "\n",
    "**Hint**\n",
    "- Recall, the input `means` and `stds` were computed using the `compute_parameters()` function. Thus, each row of `means` and `stds` represents $\\vec{\\mu}_k$ and $\\vec{\\sigma}_k$\n",
    "- You can loop over `means` and `stds` together by using `zip(means, stds)` ([example](https://realpython.com/python-zip-function/#looping-over-multiple-iterables)).\n",
    "- See notes for an example of computing the class log likelihoods."
   ]
  },
  {
   "cell_type": "code",
   "execution_count": 53,
   "id": "444ccb66",
   "metadata": {
    "deletable": false,
    "nbgrader": {
     "cell_type": "code",
     "checksum": "90da7dc33aa413a680f984b971ee6a4c",
     "grade": false,
     "grade_id": "cell-afb3eea803d19323",
     "locked": false,
     "schema_version": 3,
     "solution": true,
     "task": false
    }
   },
   "outputs": [],
   "source": [
    "def compute_log_likelihoods(X, means, stds, verbose=True):\n",
    "    \"\"\" Computes the log likelihoods for all classes and data samples\n",
    "    \n",
    "        Args:\n",
    "            X: Data to compute log likelihoods given as a matrix.\n",
    "            \n",
    "            means: Means for each class and feature of shape (|K|, N).\n",
    "            \n",
    "            stds: Standard deviations for each class and feature of shape (|K|, N).\n",
    "\n",
    "        Returns:\n",
    "            NumPy matrix containing ALL class log likelihoods with shape (M, |K|) where\n",
    "            M is the number of data samples in the passed data X and |K| is the number \n",
    "            of classes given by the number of rows in means and stds.\n",
    "    \"\"\"\n",
    "    log_likelihoods = []\n",
    "    # TODO 6\n",
    "    for mean, std in zip(means, stds): \n",
    "        feature_log_liklihoods = log_gaussian(X, mean, std)\n",
    "        class_log_likelihoods = np.sum(feature_log_liklihoods, axis=1)\n",
    "        log_likelihoods.append(class_log_likelihoods)\n",
    "    \n",
    "    return np.column_stack(log_likelihoods)"
   ]
  },
  {
   "cell_type": "code",
   "execution_count": 54,
   "id": "93590460",
   "metadata": {
    "deletable": false,
    "editable": false,
    "nbgrader": {
     "cell_type": "code",
     "checksum": "4c8a8fcc701158670008cd8edfa4d939",
     "grade": true,
     "grade_id": "cell-9e378aec202421f1",
     "locked": true,
     "points": 10,
     "schema_version": 3,
     "solution": false,
     "task": false
    },
    "scrolled": true
   },
   "outputs": [
    {
     "name": "stdout",
     "output_type": "stream",
     "text": [
      "X_trn shape: (96, 4)\n",
      "y_trn shape: (96, 1)\n",
      "log_likelihoods shape: (96, 3)\n",
      "============Iris Class Log Liklihoods=============\n"
     ]
    },
    {
     "data": {
      "text/html": [
       "<div>\n",
       "<style scoped>\n",
       "    .dataframe tbody tr th:only-of-type {\n",
       "        vertical-align: middle;\n",
       "    }\n",
       "\n",
       "    .dataframe tbody tr th {\n",
       "        vertical-align: top;\n",
       "    }\n",
       "\n",
       "    .dataframe thead th {\n",
       "        text-align: right;\n",
       "    }\n",
       "</style>\n",
       "<table border=\"1\" class=\"dataframe\">\n",
       "  <thead>\n",
       "    <tr style=\"text-align: right;\">\n",
       "      <th></th>\n",
       "      <th>setosa</th>\n",
       "      <th>versicolor</th>\n",
       "      <th>virginica</th>\n",
       "    </tr>\n",
       "  </thead>\n",
       "  <tbody>\n",
       "    <tr>\n",
       "      <th>0</th>\n",
       "      <td>-301.987372</td>\n",
       "      <td>-3.421087</td>\n",
       "      <td>-1.778485</td>\n",
       "    </tr>\n",
       "    <tr>\n",
       "      <th>1</th>\n",
       "      <td>-264.934134</td>\n",
       "      <td>-1.855917</td>\n",
       "      <td>-2.940484</td>\n",
       "    </tr>\n",
       "    <tr>\n",
       "      <th>2</th>\n",
       "      <td>-118.492505</td>\n",
       "      <td>-2.540101</td>\n",
       "      <td>-14.519169</td>\n",
       "    </tr>\n",
       "    <tr>\n",
       "      <th>3</th>\n",
       "      <td>0.639322</td>\n",
       "      <td>-30.697733</td>\n",
       "      <td>-45.206904</td>\n",
       "    </tr>\n",
       "    <tr>\n",
       "      <th>4</th>\n",
       "      <td>-446.225174</td>\n",
       "      <td>-11.861537</td>\n",
       "      <td>-0.411029</td>\n",
       "    </tr>\n",
       "    <tr>\n",
       "      <th>...</th>\n",
       "      <td>...</td>\n",
       "      <td>...</td>\n",
       "      <td>...</td>\n",
       "    </tr>\n",
       "    <tr>\n",
       "      <th>91</th>\n",
       "      <td>-528.049243</td>\n",
       "      <td>-14.362138</td>\n",
       "      <td>-1.947856</td>\n",
       "    </tr>\n",
       "    <tr>\n",
       "      <th>92</th>\n",
       "      <td>1.644588</td>\n",
       "      <td>-35.362367</td>\n",
       "      <td>-49.400081</td>\n",
       "    </tr>\n",
       "    <tr>\n",
       "      <th>93</th>\n",
       "      <td>-235.046981</td>\n",
       "      <td>-0.597873</td>\n",
       "      <td>-4.547333</td>\n",
       "    </tr>\n",
       "    <tr>\n",
       "      <th>94</th>\n",
       "      <td>1.999927</td>\n",
       "      <td>-34.430266</td>\n",
       "      <td>-50.136922</td>\n",
       "    </tr>\n",
       "    <tr>\n",
       "      <th>95</th>\n",
       "      <td>1.321291</td>\n",
       "      <td>-39.680630</td>\n",
       "      <td>-53.953112</td>\n",
       "    </tr>\n",
       "  </tbody>\n",
       "</table>\n",
       "<p>96 rows × 3 columns</p>\n",
       "</div>"
      ],
      "text/plain": [
       "        setosa  versicolor  virginica\n",
       "0  -301.987372   -3.421087  -1.778485\n",
       "1  -264.934134   -1.855917  -2.940484\n",
       "2  -118.492505   -2.540101 -14.519169\n",
       "3     0.639322  -30.697733 -45.206904\n",
       "4  -446.225174  -11.861537  -0.411029\n",
       "..         ...         ...        ...\n",
       "91 -528.049243  -14.362138  -1.947856\n",
       "92    1.644588  -35.362367 -49.400081\n",
       "93 -235.046981   -0.597873  -4.547333\n",
       "94    1.999927  -34.430266 -50.136922\n",
       "95    1.321291  -39.680630 -53.953112\n",
       "\n",
       "[96 rows x 3 columns]"
      ]
     },
     "metadata": {},
     "output_type": "display_data"
    },
    {
     "name": "stdout",
     "output_type": "stream",
     "text": [
      "Your code PASSED all the code checks! \n"
     ]
    }
   ],
   "source": [
    "def TEST_compute_log_likelihoods():\n",
    "    X_trn, y_trn, _, _, _, _ = get_preprocessed_data()\n",
    "    print(f\"X_trn shape: {X_trn.shape}\")\n",
    "    print(f\"y_trn shape: {y_trn.shape}\")\n",
    "    \n",
    "    # Compute mean and std for each class\n",
    "    means, stds = compute_parameters(X_trn, y_trn)\n",
    "    # Compute log likelihoods\n",
    "    log_likelihoods = compute_log_likelihoods(X_trn, means, stds)\n",
    "    print(f\"log_likelihoods shape: {log_likelihoods.shape}\")\n",
    "    print(\"{:=^50}\".format(\"Iris Class Log Liklihoods\"))\n",
    "    ll_df = pd.DataFrame(log_likelihoods, columns=iris.target_names)\n",
    "    display(ll_df)\n",
    "\n",
    "    todo_check([\n",
    "        (\"isinstance(log_likelihoods, np.ndarray)\",\"`compute_log_likelihoods()` output must be a matrix given as a NumPy array.\"),\n",
    "        (\"log_likelihoods.shape == (len(X_trn), 3)\",\"`compute_log_likelihoods()` output have the shape (M=96, K=3).\"),\n",
    "        (\"np.isclose(log_likelihoods[[0, -1]].flatten(), [-301.987372, -3.421087, -1.778485,1.321291, -39.680630, -53.953112], rtol=.01).all()\", \n",
    "         \"log_likelihoods has incorrect values\"),\n",
    "    ], **locals())\n",
    "    \n",
    "    return log_likelihoods\n",
    "    \n",
    "log_likelihoods = TEST_compute_log_likelihoods()"
   ]
  },
  {
   "cell_type": "markdown",
   "id": "dbd9df72",
   "metadata": {},
   "source": [
    "## GaussianNaiveBayes Class\n",
    "\n",
    "Finally, let's combine all the functions we have defined so far into a single class. This will make training and predicting with Gaussian Naive Bayes much easier!"
   ]
  },
  {
   "cell_type": "markdown",
   "id": "e636461b",
   "metadata": {},
   "source": [
    "#### TODO 7 (15 points)\n",
    "Complete the TODO by finishing the `GaussianNaiveBayes` class. You should reuse the functions `compute_log_priors()`, `compute_parameters()` and `compute_log_likelihoods()`.  Refer to the notes for help.\n",
    "\n",
    "**TODOs for the `fit()` method**\n",
    "\n",
    "Compute the log priors $\\log P(Y = \\yv_k)$ and store the output into `self.log_priors`. Compute the means and standard deviations for each class and feature. Store the outputs into `self.means` and `self.stds`.\n",
    "\n",
    "**TODOs for the `predict()` method**\n",
    "\n",
    "Compute the predictions by implementing the below equation.\n",
    "\n",
    "$$\n",
    "\\arg \\max_{k \\in K} \\log P(X = \\Xm | Y= \\yv_k) + \\log P(Y = \\yv_k).\n",
    "$$\n"
   ]
  },
  {
   "cell_type": "code",
   "execution_count": 55,
   "id": "48336056",
   "metadata": {
    "deletable": false,
    "nbgrader": {
     "cell_type": "code",
     "checksum": "91119f40bbeccab386b2c26183b3faff",
     "grade": false,
     "grade_id": "cell-fe833c9d9005c405",
     "locked": false,
     "schema_version": 3,
     "solution": true,
     "task": false
    }
   },
   "outputs": [],
   "source": [
    "class GaussianNaiveBayes():\n",
    "    \"\"\" Performs multi-classifcation using Gaussian Naive Bayes\n",
    "\n",
    "        Attributes:\n",
    "            log_priors: The log of the priors computed based on the training data \n",
    "\n",
    "            means: The means for each class and every feature with shape (|K|, N).\n",
    "\n",
    "            stds: The standard deviations for each class and every feature \n",
    "                with shape (|K|, N).\n",
    "    \"\"\"\n",
    "    def __init__(self):\n",
    "        self.log_priors = None\n",
    "        self.means = None\n",
    "        self.stds = None\n",
    "    \n",
    "    def fit(self, X: np.ndarray, y: np.ndarray) -> object:\n",
    "        \"\"\" Compute the log_priors, means, and STDs using training data.\n",
    "        \n",
    "            Args:\n",
    "                X: Training data given as a 2D matrix\n",
    "\n",
    "                y: Training labels given as a 2D column vector\n",
    "                \n",
    "            Returns:\n",
    "                The class's own object reference. \n",
    "        \"\"\"\n",
    "        # TODO 7\n",
    "        self.log_priors = compute_log_priors(y)\n",
    "        self.means, self.stds = compute_parameters(X, y)\n",
    "        return self\n",
    "        \n",
    "    def predict(self, X: np.ndarray):\n",
    "        \"\"\" Make a prediction using log maximum a posteriori (MAP)\n",
    "        \n",
    "            Args:\n",
    "                X: Data given as a 2D matrix.\n",
    "\n",
    "            Returns:\n",
    "                Preductions given as a 2D column vctor.\n",
    "        \"\"\"\n",
    "        # TODO 7\n",
    "        log_posteriors = compute_log_likelihoods(X, self.means, self.stds) + self.log_priors\n",
    "        predictions = np.argmax(log_posteriors, axis=1)\n",
    "        return predictions.reshape(-1, 1)"
   ]
  },
  {
   "cell_type": "code",
   "execution_count": 56,
   "id": "c5ac035d",
   "metadata": {
    "deletable": false,
    "editable": false,
    "nbgrader": {
     "cell_type": "code",
     "checksum": "9acc541f11a00bbd5d851fa1d46ac196",
     "grade": true,
     "grade_id": "cell-31c4f5e754ecede2",
     "locked": true,
     "points": 15,
     "schema_version": 3,
     "solution": false,
     "task": false
    }
   },
   "outputs": [
    {
     "name": "stdout",
     "output_type": "stream",
     "text": [
      "Fake X shape: (100, 2)\n",
      "Fake y shape: (100, 1)\n",
      "Accuracy: 1.0\n"
     ]
    },
    {
     "data": {
      "image/png": "[encoded data removed]",
      "text/plain": [
       "<Figure size 640x480 with 1 Axes>"
      ]
     },
     "metadata": {},
     "output_type": "display_data"
    },
    {
     "name": "stdout",
     "output_type": "stream",
     "text": [
      "Your code PASSED all the code checks! \n"
     ]
    }
   ],
   "source": [
    "def TEST_GaussianNaiveBayes():\n",
    "    from sklearn.datasets import make_circles\n",
    "    X, y = make_circles(random_state=42, factor=.5, noise=.05)\n",
    "    y = y.reshape(-1, 1)\n",
    "    class_names = {\n",
    "        0: 'C1',\n",
    "        1: 'C2',\n",
    "    }\n",
    "    print(f\"Fake X shape: {X.shape}\")\n",
    "    print(f\"Fake y shape: {y.shape}\")\n",
    "    \n",
    "    gnb = GaussianNaiveBayes()\n",
    "    gnb.fit(X, y)\n",
    "    y_hat = gnb.predict(X)\n",
    "    acc = accuracy_score(y, y_hat)\n",
    "    print(f\"Accuracy: {acc}\")\n",
    "    plot_decision_boundary(gnb=gnb, X=X, y=y, class_names=class_names)\n",
    "\n",
    "    todo_check([\n",
    "        (\"acc == 1.0\", \"Expected accuracy was 1.0 or 100% accurate.\"),\n",
    "        (\"np.all(np.isclose(gnb.log_priors, np.array([-0.69314718, -0.69314718]), rtol=.01))\", \"gnb.log_priors has incorrect values\"),\n",
    "        (\"np.all(np.isclose(gnb.means.flatten(), np.array([-0.00126599, -0.00426598,  0.00605525,  0.00029719]), rtol=.01))\",\"gnb.means has incorrect values\"),\n",
    "        (\"np.all(np.isclose(gnb.stds.flatten(), np.array([0.70399531,0.71180391,0.359106,0.35287701]), rtol=.01))\",\"gnb.means has incorrect values\"),\n",
    "    ], **locals())\n",
    "    \n",
    "TEST_GaussianNaiveBayes()"
   ]
  },
  {
   "cell_type": "markdown",
   "id": "eb5d54c7",
   "metadata": {},
   "source": [
    "# Multi-class Classification"
   ]
  },
  {
   "cell_type": "markdown",
   "id": "e759661b-ef58-4cfe-84fa-1b03987e9770",
   "metadata": {},
   "source": [
    "## Petal Length and Width"
   ]
  },
  {
   "cell_type": "markdown",
   "id": "7a607fa2",
   "metadata": {},
   "source": [
    "\n",
    "\n",
    "#### TODO 8 (10 points)\n",
    "To complete this TODO by performing multi-classification using **ONLY the petal length and width features**. Make sure the below requirements are satisfied to receive full credit.\n",
    "- Data Loading\n",
    "    - Load the training, validation, and test datasets so that only the  petal length and width features are used. You need to drop the sepal features.\n",
    "- Training\n",
    "    - Initialize an instance of `GaussianNaiveBayes()` and fit it on the training data.\n",
    "    - Compute and display the training accuracy.\n",
    "    - Plot the confusion matrix for the training data.\n",
    "    - Plot the decision boundary for the training data.\n",
    "- Validation\n",
    "    - Compute and display the validation accuracy.\n",
    "    - Plot the confusion matrix for the validation data.\n",
    "    - Plot the decision boundary for the validation data.\n",
    "- Testing\n",
    "    - Compute and display the testing accuracy.\n",
    "    - Plot the confusion matrix for the testing data.\n",
    "    - Plot the decision boundary for the testing data.\n",
    "\n",
    "**Hints**\n",
    "- Plot the confusion matrix and decision boundary using the functions `plot_decision_boundary()` and `plot_confusion_matrix()`. Use the `class_names` variable to set the class names for each function. "
   ]
  },
  {
   "cell_type": "markdown",
   "id": "6a106fb4",
   "metadata": {},
   "source": [
    "#### Training"
   ]
  },
  {
   "cell_type": "code",
   "execution_count": 57,
   "id": "e75e1845",
   "metadata": {
    "deletable": false,
    "nbgrader": {
     "cell_type": "code",
     "checksum": "db99e6ed49667f444ef7117aa07787b9",
     "grade": true,
     "grade_id": "cell-952be847ca7da254",
     "locked": false,
     "points": 5,
     "schema_version": 3,
     "solution": true,
     "task": false
    },
    "scrolled": true
   },
   "outputs": [
    {
     "name": "stdout",
     "output_type": "stream",
     "text": [
      "Accuracy: 0.9479166666666666\n"
     ]
    },
    {
     "data": {
      "image/png": "[encoded data removed]",
      "text/plain": [
       "<Figure size 640x480 with 2 Axes>"
      ]
     },
     "metadata": {},
     "output_type": "display_data"
    },
    {
     "data": {
      "image/png": "[encoded data removed]",
      "text/plain": [
       "<Figure size 640x480 with 1 Axes>"
      ]
     },
     "metadata": {},
     "output_type": "display_data"
    }
   ],
   "source": [
    "class_names = {\n",
    "        0: 'setosa',\n",
    "        1: 'versicolor',\n",
    "        2: 'virginica'\n",
    "    }\n",
    "#### TODO 8: Training Code\n",
    "\n",
    "# Data Loading\n",
    "# Load the training, validation, and test datasets so that only the petal length and width features are used. You need to drop the sepal features.\n",
    "pped_d = get_preprocessed_data(['sepal length (cm)', 'sepal width (cm)'])\n",
    "\n",
    "# Training\n",
    "# Initialize an instance of GaussianNaiveBayes() and fit it on the training data.\n",
    "gnb = GaussianNaiveBayes()\n",
    "gnb.fit(pped_d[0], pped_d[1])\n",
    "# Compute and display the training accuracy.\n",
    "y_hat = gnb.predict(pped_d[0])\n",
    "acc = accuracy_score(pped_d[1], y_hat)\n",
    "print(f\"Accuracy: {acc}\")\n",
    "# Plot the confusion matrix for the training data.\n",
    "plot_confusion_matrix(pped_d[1], y_hat, class_names)\n",
    "# Plot the decision boundary for the training data.\n",
    "plot_decision_boundary(gnb=gnb, X=pped_d[0], y=pped_d[1], class_names=class_names)"
   ]
  },
  {
   "cell_type": "markdown",
   "id": "d6c8c85e",
   "metadata": {},
   "source": [
    "#### Validation"
   ]
  },
  {
   "cell_type": "code",
   "execution_count": 58,
   "id": "6b945beb-3c42-4907-a849-02e2bbc9fef8",
   "metadata": {
    "deletable": false,
    "nbgrader": {
     "cell_type": "code",
     "checksum": "f8644a69cd0a5937cfe87021fac20613",
     "grade": true,
     "grade_id": "cell-14070642bf49e907",
     "locked": false,
     "points": 2.5,
     "schema_version": 3,
     "solution": true,
     "task": false
    },
    "scrolled": true
   },
   "outputs": [
    {
     "name": "stdout",
     "output_type": "stream",
     "text": [
      "Accuracy: 0.9583333333333334\n"
     ]
    },
    {
     "data": {
      "image/png": "[encoded data removed]",
      "text/plain": [
       "<Figure size 640x480 with 2 Axes>"
      ]
     },
     "metadata": {},
     "output_type": "display_data"
    },
    {
     "data": {
      "image/png": "[encoded data removed]",
      "text/plain": [
       "<Figure size 640x480 with 1 Axes>"
      ]
     },
     "metadata": {},
     "output_type": "display_data"
    }
   ],
   "source": [
    "# Compute and display the validation accuracy.\n",
    "y_hat = gnb.predict(pped_d[2])\n",
    "acc = accuracy_score(pped_d[3], y_hat)\n",
    "print(f\"Accuracy: {acc}\")\n",
    "# Plot the confusion matrix for the validation data.\n",
    "plot_confusion_matrix(pped_d[3], y_hat, class_names)\n",
    "# Plot the decision boundary for the validation data.\n",
    "plot_decision_boundary(gnb=gnb, X=pped_d[2], y=pped_d[3], class_names=class_names)\n"
   ]
  },
  {
   "cell_type": "markdown",
   "id": "f3fa5bc1-5108-4824-9002-6b7ad91ed400",
   "metadata": {},
   "source": [
    "#### Testing"
   ]
  },
  {
   "cell_type": "code",
   "execution_count": 59,
   "id": "a3009a63-01e3-460f-ac23-259ab02383ba",
   "metadata": {
    "deletable": false,
    "nbgrader": {
     "cell_type": "code",
     "checksum": "f73501623d15c372ebbfe7651256c03b",
     "grade": true,
     "grade_id": "cell-33fcaac038d3695e",
     "locked": false,
     "points": 2.5,
     "schema_version": 3,
     "solution": true,
     "task": false
    },
    "scrolled": true
   },
   "outputs": [
    {
     "name": "stdout",
     "output_type": "stream",
     "text": [
      "Accuracy: 1.0\n"
     ]
    },
    {
     "data": {
      "image/png": "[encoded data removed]",
      "text/plain": [
       "<Figure size 640x480 with 2 Axes>"
      ]
     },
     "metadata": {},
     "output_type": "display_data"
    },
    {
     "data": {
      "image/png": "[encoded data removed]",
      "text/plain": [
       "<Figure size 640x480 with 1 Axes>"
      ]
     },
     "metadata": {},
     "output_type": "display_data"
    }
   ],
   "source": [
    "# TODO 8: Testing Code\n",
    "# Compute and display the testing accuracy.\n",
    "y_hat = gnb.predict(pped_d[4])\n",
    "acc = accuracy_score(pped_d[5], y_hat)\n",
    "print(f\"Accuracy: {acc}\")\n",
    "# Plot the confusion matrix for the testing data.\n",
    "plot_confusion_matrix(pped_d[5], y_hat, class_names)\n",
    "# Plot the decision boundary for the testing data.\n",
    "plot_decision_boundary(gnb=gnb, X=pped_d[4], y=pped_d[5], class_names=class_names)"
   ]
  },
  {
   "cell_type": "markdown",
   "id": "914f1f8b",
   "metadata": {},
   "source": [
    "## All Features"
   ]
  },
  {
   "cell_type": "markdown",
   "id": "27ee527b-f0cb-42bf-b3d3-4283ebd1d293",
   "metadata": {},
   "source": [
    "#### TODO 9 (10 points)\n",
    "To complete this TODO by performing multi-classification using **all features**. Make sure the below requirements are satisfied to receive full credit.\n",
    "\n",
    "- Data Loading\n",
    "    - Load the training, validation, and test datasets so that all features are used.\n",
    "- Training\n",
    "    - Initialize an instance of `GaussianNaiveBayes()` and fit it on the training data.\n",
    "    - Compute and display the training accuracy.\n",
    "    - Plot the confusion matrix for the training data.\n",
    "- Validation\n",
    "    - Compute and display the validation accuracy.\n",
    "    - Plot the confusion matrix for the validation data.\n",
    "- Testing\n",
    "    - Compute and display the testing accuracy.\n",
    "    - Plot the confusion matrix for the testing data."
   ]
  },
  {
   "cell_type": "markdown",
   "id": "0cf56067-7f11-485d-9c24-baa639b61367",
   "metadata": {},
   "source": [
    "#### Training"
   ]
  },
  {
   "cell_type": "code",
   "execution_count": 60,
   "id": "8b3f22aa-e16e-4fe0-bcbe-93f9a5fc97f3",
   "metadata": {
    "deletable": false,
    "nbgrader": {
     "cell_type": "code",
     "checksum": "3ab80a2a47aa085cc01e2dcd3f22e690",
     "grade": true,
     "grade_id": "cell-9790be3ed6330ae6",
     "locked": false,
     "points": 5,
     "schema_version": 3,
     "solution": true,
     "task": false
    }
   },
   "outputs": [
    {
     "name": "stdout",
     "output_type": "stream",
     "text": [
      "Accuracy: 0.9375\n"
     ]
    },
    {
     "data": {
      "image/png": "[encoded data removed]",
      "text/plain": [
       "<Figure size 640x480 with 2 Axes>"
      ]
     },
     "metadata": {},
     "output_type": "display_data"
    },
    {
     "data": {
      "text/html": [
       "<div>\n",
       "<style scoped>\n",
       "    .dataframe tbody tr th:only-of-type {\n",
       "        vertical-align: middle;\n",
       "    }\n",
       "\n",
       "    .dataframe tbody tr th {\n",
       "        vertical-align: top;\n",
       "    }\n",
       "\n",
       "    .dataframe thead th {\n",
       "        text-align: right;\n",
       "    }\n",
       "</style>\n",
       "<table border=\"1\" class=\"dataframe\">\n",
       "  <thead>\n",
       "    <tr style=\"text-align: right;\">\n",
       "      <th></th>\n",
       "      <th>setosa</th>\n",
       "      <th>versicolor</th>\n",
       "      <th>virginica</th>\n",
       "    </tr>\n",
       "  </thead>\n",
       "  <tbody>\n",
       "    <tr>\n",
       "      <th>setosa</th>\n",
       "      <td>32</td>\n",
       "      <td>0</td>\n",
       "      <td>0</td>\n",
       "    </tr>\n",
       "    <tr>\n",
       "      <th>versicolor</th>\n",
       "      <td>0</td>\n",
       "      <td>27</td>\n",
       "      <td>3</td>\n",
       "    </tr>\n",
       "    <tr>\n",
       "      <th>virginica</th>\n",
       "      <td>0</td>\n",
       "      <td>3</td>\n",
       "      <td>31</td>\n",
       "    </tr>\n",
       "  </tbody>\n",
       "</table>\n",
       "</div>"
      ],
      "text/plain": [
       "            setosa  versicolor  virginica\n",
       "setosa          32           0          0\n",
       "versicolor       0          27          3\n",
       "virginica        0           3         31"
      ]
     },
     "execution_count": 60,
     "metadata": {},
     "output_type": "execute_result"
    }
   ],
   "source": [
    "class_names = {\n",
    "        0: 'setosa',\n",
    "        1: 'versicolor',\n",
    "        2: 'virginica'\n",
    "    }\n",
    "#### TODO 9: Training Code\n",
    "\n",
    "# Data Loading\n",
    "# Load the training, validation, and test datasets so that only the petal length and width features are used. You need to drop the sepal features.\n",
    "pped_d = get_preprocessed_data(None)\n",
    "\n",
    "# Training\n",
    "# Initialize an instance of GaussianNaiveBayes() and fit it on the training data.\n",
    "gnb = GaussianNaiveBayes()\n",
    "gnb.fit(pped_d[0], pped_d[1])\n",
    "# Compute and display the training accuracy.\n",
    "y_hat = gnb.predict(pped_d[0])\n",
    "acc = accuracy_score(pped_d[1], y_hat)\n",
    "print(f\"Accuracy: {acc}\")\n",
    "# Plot the confusion matrix for the training data.\n",
    "plot_confusion_matrix(pped_d[1], y_hat, class_names)"
   ]
  },
  {
   "cell_type": "markdown",
   "id": "03475151-682a-4306-b8ef-d90029b29d3d",
   "metadata": {},
   "source": [
    "#### Validation"
   ]
  },
  {
   "cell_type": "code",
   "execution_count": 61,
   "id": "d612d142-00bd-4b00-b812-395bbfe3747d",
   "metadata": {
    "deletable": false,
    "nbgrader": {
     "cell_type": "code",
     "checksum": "a1b5ed9c26fb40dda8297614932ffe04",
     "grade": true,
     "grade_id": "cell-8a498b795c8008df",
     "locked": false,
     "points": 2.5,
     "schema_version": 3,
     "solution": true,
     "task": false
    }
   },
   "outputs": [
    {
     "name": "stdout",
     "output_type": "stream",
     "text": [
      "Accuracy: 0.9583333333333334\n"
     ]
    },
    {
     "data": {
      "image/png": "[encoded data removed]",
      "text/plain": [
       "<Figure size 640x480 with 2 Axes>"
      ]
     },
     "metadata": {},
     "output_type": "display_data"
    },
    {
     "data": {
      "text/html": [
       "<div>\n",
       "<style scoped>\n",
       "    .dataframe tbody tr th:only-of-type {\n",
       "        vertical-align: middle;\n",
       "    }\n",
       "\n",
       "    .dataframe tbody tr th {\n",
       "        vertical-align: top;\n",
       "    }\n",
       "\n",
       "    .dataframe thead th {\n",
       "        text-align: right;\n",
       "    }\n",
       "</style>\n",
       "<table border=\"1\" class=\"dataframe\">\n",
       "  <thead>\n",
       "    <tr style=\"text-align: right;\">\n",
       "      <th></th>\n",
       "      <th>setosa</th>\n",
       "      <th>versicolor</th>\n",
       "      <th>virginica</th>\n",
       "    </tr>\n",
       "  </thead>\n",
       "  <tbody>\n",
       "    <tr>\n",
       "      <th>setosa</th>\n",
       "      <td>8</td>\n",
       "      <td>0</td>\n",
       "      <td>0</td>\n",
       "    </tr>\n",
       "    <tr>\n",
       "      <th>versicolor</th>\n",
       "      <td>0</td>\n",
       "      <td>10</td>\n",
       "      <td>1</td>\n",
       "    </tr>\n",
       "    <tr>\n",
       "      <th>virginica</th>\n",
       "      <td>0</td>\n",
       "      <td>0</td>\n",
       "      <td>5</td>\n",
       "    </tr>\n",
       "  </tbody>\n",
       "</table>\n",
       "</div>"
      ],
      "text/plain": [
       "            setosa  versicolor  virginica\n",
       "setosa           8           0          0\n",
       "versicolor       0          10          1\n",
       "virginica        0           0          5"
      ]
     },
     "execution_count": 61,
     "metadata": {},
     "output_type": "execute_result"
    }
   ],
   "source": [
    "# TODO 9: Validation Code\n",
    "# Compute and display the validation accuracy.\n",
    "y_hat = gnb.predict(pped_d[2])\n",
    "acc = accuracy_score(pped_d[3], y_hat)\n",
    "print(f\"Accuracy: {acc}\")\n",
    "# Plot the confusion matrix for the validation data.\n",
    "plot_confusion_matrix(pped_d[3], y_hat, class_names)"
   ]
  },
  {
   "cell_type": "markdown",
   "id": "8d3c0dee-3ea7-4c02-8699-1eb23a0b5b99",
   "metadata": {},
   "source": [
    "#### Testing"
   ]
  },
  {
   "cell_type": "code",
   "execution_count": 62,
   "id": "8cfa1f8a-8172-48f4-9ed6-7466288235c4",
   "metadata": {
    "deletable": false,
    "nbgrader": {
     "cell_type": "code",
     "checksum": "fefbdd7d3bdf77e48e27a52f222fce2c",
     "grade": true,
     "grade_id": "cell-2b0e41d7a0461838",
     "locked": false,
     "points": 2.5,
     "schema_version": 3,
     "solution": true,
     "task": false
    }
   },
   "outputs": [
    {
     "name": "stdout",
     "output_type": "stream",
     "text": [
      "Accuracy: 1.0\n"
     ]
    },
    {
     "data": {
      "image/png": "[encoded data removed]",
      "text/plain": [
       "<Figure size 640x480 with 2 Axes>"
      ]
     },
     "metadata": {},
     "output_type": "display_data"
    },
    {
     "data": {
      "text/html": [
       "<div>\n",
       "<style scoped>\n",
       "    .dataframe tbody tr th:only-of-type {\n",
       "        vertical-align: middle;\n",
       "    }\n",
       "\n",
       "    .dataframe tbody tr th {\n",
       "        vertical-align: top;\n",
       "    }\n",
       "\n",
       "    .dataframe thead th {\n",
       "        text-align: right;\n",
       "    }\n",
       "</style>\n",
       "<table border=\"1\" class=\"dataframe\">\n",
       "  <thead>\n",
       "    <tr style=\"text-align: right;\">\n",
       "      <th></th>\n",
       "      <th>setosa</th>\n",
       "      <th>versicolor</th>\n",
       "      <th>virginica</th>\n",
       "    </tr>\n",
       "  </thead>\n",
       "  <tbody>\n",
       "    <tr>\n",
       "      <th>setosa</th>\n",
       "      <td>10</td>\n",
       "      <td>0</td>\n",
       "      <td>0</td>\n",
       "    </tr>\n",
       "    <tr>\n",
       "      <th>versicolor</th>\n",
       "      <td>0</td>\n",
       "      <td>9</td>\n",
       "      <td>0</td>\n",
       "    </tr>\n",
       "    <tr>\n",
       "      <th>virginica</th>\n",
       "      <td>0</td>\n",
       "      <td>0</td>\n",
       "      <td>11</td>\n",
       "    </tr>\n",
       "  </tbody>\n",
       "</table>\n",
       "</div>"
      ],
      "text/plain": [
       "            setosa  versicolor  virginica\n",
       "setosa          10           0          0\n",
       "versicolor       0           9          0\n",
       "virginica        0           0         11"
      ]
     },
     "execution_count": 62,
     "metadata": {},
     "output_type": "execute_result"
    }
   ],
   "source": [
    "# TODO 8: Testing Code\n",
    "# Compute and display the testing accuracy.\n",
    "y_hat = gnb.predict(pped_d[4])\n",
    "acc = accuracy_score(pped_d[5], y_hat)\n",
    "print(f\"Accuracy: {acc}\")\n",
    "# Plot the confusion matrix for the testing data.\n",
    "plot_confusion_matrix(pped_d[5], y_hat, class_names)"
   ]
  },
  {
   "cell_type": "markdown",
   "id": "b3b4b78c-4d5c-4907-a9c5-c8d382b1d988",
   "metadata": {},
   "source": [
    "## Performance Comparison "
   ]
  },
  {
   "cell_type": "markdown",
   "id": "e2830df8-badc-4ed9-9f83-de33cb52f581",
   "metadata": {},
   "source": [
    "#### TODO 10: (10 points)\n",
    "In a short report (1-2 paragraphs), report on the performance of your `GaussianNaiveBayes` models by comparing the performance when using petal features verses using all features. To receive full credit, make sure ALL the following points are addressed in detail:\n",
    "\n",
    "- Compare and contrast the training, validation, and testing performances when using just petal features (TODO 8) and when using all features (TODO 9).\n",
    "- If there are any differences in performance, refer to and cite the confusion matrices to see which classes were misclassified, leading to worse performance.\n"
   ]
  },
  {
   "cell_type": "markdown",
   "id": "7d766036",
   "metadata": {
    "deletable": false,
    "editable": false,
    "nbgrader": {
     "cell_type": "markdown",
     "checksum": "e93d2c23bba9768b70b23529ce6bfe68",
     "grade": false,
     "grade_id": "cell-cb48f5bec0514a2f",
     "locked": true,
     "points": 10,
     "schema_version": 3,
     "solution": false,
     "task": true
    }
   },
   "source": [
    "`TODO 10` Write your thoughts in the below markdown cell next to the words `Answer:` \n",
    "\n",
    "DO NOT WRITE YOUR ANSWER IN THIS CELL!\n",
    "\n"
   ]
  },
  {
   "cell_type": "markdown",
   "id": "975ade71",
   "metadata": {},
   "source": [
    "`Answer:` \n",
    "\n",
    "Impressively, the accuracy of both experiments on the testing data was 100%, meaning that very single flower was correctly classified. Interestingly, the validations were both imperfect but still identical, with both coming up to exactly 0.9583333333333334. The confusion matrix shows the same single misclassification on both, where they classify a versicolor\tas a virginica. As such, the only differences in the performances of the models were in the training accuracies. When only using petal features, the accuracy of the training data was 0.9479166666666666 which was slightly higher than 0.9375, the accuracy of the training data when using all features. When only using petal features, the model falsely predicted 3 virginicas and versicolors and 2 versicolors as virginicas. The more informed model misclassified one more versicolor as a virginica. "
   ]
  },
  {
   "cell_type": "code",
   "execution_count": null,
   "id": "bca6d8a7-4df3-4530-bc43-f6d3c41d7936",
   "metadata": {},
   "outputs": [],
   "source": []
  }
 ],
 "metadata": {
  "kernelspec": {
   "display_name": "Python 3 (ipykernel)",
   "language": "python",
   "name": "python3"
  },
  "language_info": {
   "codemirror_mode": {
    "name": "ipython",
    "version": 3
   },
   "file_extension": ".py",
   "mimetype": "text/x-python",
   "name": "python",
   "nbconvert_exporter": "python",
   "pygments_lexer": "ipython3",
   "version": "3.9.19"
  },
  "toc": {
   "base_numbering": 1,
   "nav_menu": {},
   "number_sections": true,
   "sideBar": true,
   "skip_h1_title": false,
   "title_cell": "Table of Contents",
   "title_sidebar": "Contents",
   "toc_cell": false,
   "toc_position": {
    "height": "calc(100% - 180px)",
    "left": "10px",
    "top": "150px",
    "width": "216px"
   },
   "toc_section_display": true,
   "toc_window_display": true
  }
 },
 "nbformat": 4,
 "nbformat_minor": 5
}
