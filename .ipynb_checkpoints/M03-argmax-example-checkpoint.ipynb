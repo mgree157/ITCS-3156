{
 "cells": [
  {
   "cell_type": "code",
   "execution_count": 1,
   "id": "623e2bb8-c73f-446f-b553-78580d53700a",
   "metadata": {},
   "outputs": [],
   "source": [
    "import numpy as np"
   ]
  },
  {
   "cell_type": "code",
   "execution_count": 2,
   "id": "fa8545cc-1e4d-4dbc-9950-78ee9dc6eb84",
   "metadata": {},
   "outputs": [],
   "source": [
    "knrs = np.array([1,1,2,3])"
   ]
  },
  {
   "cell_type": "code",
   "execution_count": 3,
   "id": "aa41e7d1-6182-4f3b-90bc-9dc3aadbe1fc",
   "metadata": {},
   "outputs": [
    {
     "data": {
      "text/plain": [
       "array([1, 1, 2, 3])"
      ]
     },
     "execution_count": 3,
     "metadata": {},
     "output_type": "execute_result"
    }
   ],
   "source": [
    "knrs"
   ]
  },
  {
   "cell_type": "code",
   "execution_count": 4,
   "id": "a41bbb0e-7d07-4217-9f7e-430fcdcf00ab",
   "metadata": {},
   "outputs": [
    {
     "data": {
      "text/plain": [
       "array([ 1,  2,  3,  4,  5,  6,  7,  8,  9, 10])"
      ]
     },
     "execution_count": 4,
     "metadata": {},
     "output_type": "execute_result"
    }
   ],
   "source": [
    "cls = np.arange(10) + 1\n",
    "cls"
   ]
  },
  {
   "cell_type": "code",
   "execution_count": 5,
   "id": "ebaa236d-7869-420c-aa8d-74336571b67d",
   "metadata": {},
   "outputs": [
    {
     "name": "stdout",
     "output_type": "stream",
     "text": [
      "[ True False False False False False False False False False]\n",
      "[ True False False False False False False False False False]\n",
      "[False  True False False False False False False False False]\n",
      "[False False  True False False False False False False False]\n"
     ]
    }
   ],
   "source": [
    "for i in range(len(knrs)):\n",
    "    print(cls == knrs[i])"
   ]
  },
  {
   "cell_type": "code",
   "execution_count": 6,
   "id": "61b9f79d-a1a4-4e19-a21d-71d1fd5d3376",
   "metadata": {},
   "outputs": [
    {
     "ename": "ValueError",
     "evalue": "operands could not be broadcast together with shapes (10,) (4,) ",
     "output_type": "error",
     "traceback": [
      "\u001b[0;31m---------------------------------------------------------------------------\u001b[0m",
      "\u001b[0;31mValueError\u001b[0m                                Traceback (most recent call last)",
      "Cell \u001b[0;32mIn[6], line 1\u001b[0m\n\u001b[0;32m----> 1\u001b[0m \u001b[38;5;28;43mcls\u001b[39;49m\u001b[43m \u001b[49m\u001b[38;5;241;43m==\u001b[39;49m\u001b[43m \u001b[49m\u001b[43mknrs\u001b[49m\n",
      "\u001b[0;31mValueError\u001b[0m: operands could not be broadcast together with shapes (10,) (4,) "
     ]
    }
   ],
   "source": [
    "cls == knrs"
   ]
  },
  {
   "cell_type": "code",
   "execution_count": 7,
   "id": "68ceea38-ed6e-42e4-ac0f-c97f47aac9b0",
   "metadata": {},
   "outputs": [
    {
     "data": {
      "text/plain": [
       "array([[ 1,  2],\n",
       "       [ 3,  4],\n",
       "       [ 5,  6],\n",
       "       [ 7,  8],\n",
       "       [ 9, 10]])"
      ]
     },
     "execution_count": 7,
     "metadata": {},
     "output_type": "execute_result"
    }
   ],
   "source": [
    "cls.reshape((-1,2)) "
   ]
  },
  {
   "cell_type": "code",
   "execution_count": 13,
   "id": "4c4762ab-7ec8-4a9a-b5aa-f5358d0db531",
   "metadata": {},
   "outputs": [
    {
     "ename": "SyntaxError",
     "evalue": "invalid syntax (1380586152.py, line 1)",
     "output_type": "error",
     "traceback": [
      "\u001b[0;36m  Cell \u001b[0;32mIn[13], line 1\u001b[0;36m\u001b[0m\n\u001b[0;31m    deltas = cls.reshape((-1,1)) == knrs ? 0 : 1\u001b[0m\n\u001b[0m                                         ^\u001b[0m\n\u001b[0;31mSyntaxError\u001b[0m\u001b[0;31m:\u001b[0m invalid syntax\n"
     ]
    }
   ],
   "source": [
    "deltas = cls.reshape((-1,1)) == knrs ? 0 : 1\n",
    "deltas"
   ]
  },
  {
   "cell_type": "code",
   "execution_count": 9,
   "id": "0413c068-59cb-4ea0-8549-43213323407e",
   "metadata": {},
   "outputs": [
    {
     "data": {
      "text/plain": [
       "array([2, 1, 1, 0, 0, 0, 0, 0, 0, 0])"
      ]
     },
     "execution_count": 9,
     "metadata": {},
     "output_type": "execute_result"
    }
   ],
   "source": [
    "maxk = np.sum(deltas, axis=1)\n",
    "maxk"
   ]
  },
  {
   "cell_type": "code",
   "execution_count": 10,
   "id": "12546823-2906-41de-998c-e4895b22ca54",
   "metadata": {},
   "outputs": [
    {
     "data": {
      "text/plain": [
       "np.int64(4)"
      ]
     },
     "execution_count": 10,
     "metadata": {},
     "output_type": "execute_result"
    }
   ],
   "source": [
    "np.sum(deltas)"
   ]
  },
  {
   "cell_type": "code",
   "execution_count": 11,
   "id": "fb7ffabd-9a2f-43e4-a4d1-37df89dabccd",
   "metadata": {},
   "outputs": [
    {
     "data": {
      "text/plain": [
       "np.int64(1)"
      ]
     },
     "execution_count": 11,
     "metadata": {},
     "output_type": "execute_result"
    }
   ],
   "source": [
    "np.argmax(maxk)+1"
   ]
  },
  {
   "cell_type": "code",
   "execution_count": 12,
   "id": "f4fcad56-2c2b-4a4d-a9c4-36568c441f8e",
   "metadata": {},
   "outputs": [
    {
     "data": {
      "text/plain": [
       "np.int64(2)"
      ]
     },
     "execution_count": 12,
     "metadata": {},
     "output_type": "execute_result"
    }
   ],
   "source": [
    "np.argmax(np.array([3,10,4]))+1"
   ]
  },
  {
   "cell_type": "code",
   "execution_count": null,
   "id": "4ca2a36f-7bf5-45b9-8b09-5d16fb3a80c5",
   "metadata": {},
   "outputs": [],
   "source": []
  }
 ],
 "metadata": {
  "kernelspec": {
   "display_name": "Python 3 (ipykernel)",
   "language": "python",
   "name": "python3"
  },
  "language_info": {
   "codemirror_mode": {
    "name": "ipython",
    "version": 3
   },
   "file_extension": ".py",
   "mimetype": "text/x-python",
   "name": "python",
   "nbconvert_exporter": "python",
   "pygments_lexer": "ipython3",
   "version": "3.9.19"
  }
 },
 "nbformat": 4,
 "nbformat_minor": 5
}
