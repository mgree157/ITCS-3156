{
 "cells": [
  {
   "cell_type": "markdown",
   "id": "a96741ff-5a73-476b-ac44-fbe13e1d9cde",
   "metadata": {},
   "source": [
    "# Homework: Gradient Descent and Least Mean Squares\n",
    "\n",
    "$\n",
    "\\newcommand{\\xv}{\\mathbf{x}}\n",
    "\\newcommand{\\wv}{\\mathbf{w}}\n",
    "\\newcommand{\\yv}{\\mathbf{y}}\n",
    "\\newcommand{\\tv}{\\mathbf{t}}\n",
    "\\newcommand{\\zv}{\\mathbf{z}}\n",
    "\\newcommand{\\uv}{\\mathbf{u}}\n",
    "\\newcommand{\\vv}{\\mathbf{v}}\n",
    "\\newcommand{\\bv}{\\mathbf{b}}\n",
    "\\newcommand{\\av}{\\mathbf{a}}\n",
    "\\newcommand{\\Chi}{\\mathcal{X}}\n",
    "\\newcommand{\\R}{\\rm I\\!R}\n",
    "\\newcommand{\\sign}{\\text{sign}}\n",
    "\\newcommand{\\Ym}{\\mathbf{Y}}\n",
    "\\newcommand{\\Tm}{\\mathbf{T}}\n",
    "\\newcommand{\\Xm}{\\mathbf{X}}\n",
    "\\newcommand{\\Wm}{\\mathbf{W}}\n",
    "\\newcommand{\\Zm}{\\mathbf{Z}}\n",
    "\\newcommand{\\Um}{\\mathbf{U}}\n",
    "\\newcommand{\\Vm}{\\mathbf{V}}\n",
    "\\newcommand{\\Am}{\\mathbf{A}}\n",
    "\\newcommand{\\muv}{\\boldsymbol\\mu}\n",
    "\\newcommand{\\Sigmav}{\\boldsymbol\\Sigma}\n",
    "\\newcommand{\\Lambdav}{\\boldsymbol\\Lambda}\n",
    "$"
   ]
  },
  {
   "cell_type": "markdown",
   "id": "8aac00db-92b3-4cc2-8b85-26c603a524b7",
   "metadata": {},
   "source": [
    "## Name: <span style=\"color:blue\"> Myles Green </span>"
   ]
  },
  {
   "cell_type": "markdown",
   "id": "170ecb1f-7e48-422b-b722-518ca818319a",
   "metadata": {},
   "source": [
    "## Utils"
   ]
  },
  {
   "cell_type": "code",
   "execution_count": 1,
   "id": "a8ee0b83-a99c-4029-8a8c-7cf318772efe",
   "metadata": {},
   "outputs": [],
   "source": [
    "from typing import List, Dict, Tuple, Callable\n",
    "import os\n",
    "import gc\n",
    "import traceback\n",
    "import warnings\n",
    "from pdb import set_trace\n",
    "\n",
    "import sklearn\n",
    "import numpy as np\n",
    "import pandas as pd\n",
    "import matplotlib\n",
    "import matplotlib.pyplot as plt"
   ]
  },
  {
   "cell_type": "code",
   "execution_count": 2,
   "id": "37e07f67-ddd2-4226-b7ef-0b47c7f578e0",
   "metadata": {
    "deletable": false,
    "editable": false,
    "nbgrader": {
     "cell_type": "code",
     "checksum": "c886745f88a08a3c07cfd11f08e1bc6d",
     "grade": true,
     "grade_id": "cell-1d86a715037cd0fe",
     "locked": true,
     "points": 0,
     "schema_version": 3,
     "solution": false,
     "task": false
    }
   },
   "outputs": [],
   "source": [
    "class TodoCheckFailed(Exception):\n",
    "    pass\n",
    "\n",
    "def todo_check(asserts, mute=False, success_msg=\"\", **kwargs):\n",
    "    locals().update(kwargs)\n",
    "    failed_err = \"You passed {}/{} and FAILED the following code checks:\\n{}\"\n",
    "    failed = \"\"\n",
    "    n_failed = 0\n",
    "    for check, (condi, err) in enumerate(asserts):\n",
    "        exc_failed = False\n",
    "        if isinstance(condi, str):\n",
    "            try:\n",
    "                passed = eval(condi)\n",
    "            except Exception:\n",
    "                exc_failed = True\n",
    "                n_failed += 1\n",
    "                failed += f\"\\nCheck [{check+1}]: Failed to execute check [{check+1}] due to the following error...\\n{traceback.format_exc()}\"\n",
    "        elif isinstance(condi, bool):\n",
    "            passed = condi\n",
    "        else:\n",
    "            raise ValueError(\"asserts must be a list of strings or bools\")\n",
    "\n",
    "        if not exc_failed and not passed:\n",
    "            n_failed += 1\n",
    "            failed += f\"\\nCheck [{check+1}]: Failed\\n\\tTip: {err}\\n\"\n",
    "\n",
    "    if len(failed) != 0:\n",
    "        passed = len(asserts) - n_failed\n",
    "        err = failed_err.format(passed, len(asserts), failed)\n",
    "        raise TodoCheckFailed(err.format(failed))\n",
    "    if not mute: print(f\"Your code PASSED all the code checks! {success_msg}\")"
   ]
  },
  {
   "cell_type": "markdown",
   "id": "bd45ca77-d4d7-4e66-83e1-cbd6a223a4ec",
   "metadata": {},
   "source": [
    "## Instructions\n",
    "In this assignment, you will first be implementing gradient descent for a toy optimization problem. Next, you will practice linear regression using gradient descent with various different batching methods. Additionally, you will practice a new preprocessing step of standardization.\n",
    "\n",
    "Your job is to read through the assignment and fill in any code segments that are marked by `TODO` headers and comments. Some TODOs will have a `todo_check()` function which will give you a rough estimate of whether your code is functioning as excepted. Other's might not have these checks, like visualization TODOs. Regardless,  all the correct outputs are given below each code cell. It might be useful to copy the contents of certain TODO cells into a new cell so you can try to match the desired output with the output produced by your own code! For visualization TODOs, you simply have to have a plot that looks similar. You can change aspects such as color, titles, or x/y-axis labels if you so wish.\n",
    "\n",
    "At any point, if you feel lost concerning how to program a specific TODO, take some time and visit the official documentation for each library and read about the methods/functions that you need to use.\n",
    "\n",
    "## Submission\n",
    "\n",
    "1. Save the notebook.\n",
    "2. Enter your name in the appropriate markdown cell provided at the top of the notebook.\n",
    "3. Select `Kernel` -> `Restart Kernel and Run All Cells`. This will restart the kernel and run all cells. Make sure everything runs without errors and double-check the outputs are as you desire!\n",
    "4. Submit the `.ipynb` notebook on Canvas.\n"
   ]
  },
  {
   "cell_type": "markdown",
   "id": "60adf9fd-f336-4732-9d48-9bd99a2bfc7f",
   "metadata": {},
   "source": [
    "# Gradient Descent: \n",
    "\n",
    "Below, you practice coding performing gradient descent on a toy example. Given some x-y starting coordinates, the goal will be to find the minimum of the function $f(x) = x^2$. To do so, we can simply use the idea of gradient descent to slowly move from the starting x-y position to the minimum of the $x^2$ function. Since the $x^2$ function is convex, essentially just a bowl, the minimum will be at 0. \n",
    "\n",
    "Recall, we define the gradient update equation as follows:\n",
    "$$\n",
    "x = x - \\alpha \\nabla f(x),\n",
    "$$\n",
    "where $\\alpha$ is the learning rate and $\\nabla f(x)$ refers to the gradient of $f(x)$."
   ]
  },
  {
   "cell_type": "markdown",
   "id": "49c0f6e3-7750-4366-be08-a2968795dc19",
   "metadata": {},
   "source": [
    "#### TODO 1(5 points): $x^2$\n",
    "Complete the `f()` and `f_prime()` functions by implementing $f(x) = x^2$ and its derivative $f'(x)$.\n",
    "\n",
    "1. Complete the `f()` function by converting $f(x)$ into code and returning its output.\n",
    "<br><br>\n",
    "2. Complete the `f_prime()` function by converting $f'(x)$ into code and returning its output. "
   ]
  },
  {
   "cell_type": "code",
   "execution_count": 3,
   "id": "7a5f9b9a-44a5-4fe4-aede-bacbde3534bd",
   "metadata": {
    "deletable": false,
    "nbgrader": {
     "cell_type": "code",
     "checksum": "0b75516e2ae3240fac494b873ead41be",
     "grade": false,
     "grade_id": "cell-3a414c81dd85f197",
     "locked": false,
     "schema_version": 3,
     "solution": true,
     "task": false
    }
   },
   "outputs": [],
   "source": [
    "def f(x: np.ndarray) -> np.ndarray:\n",
    "    \"\"\" Computes value for f(x)\n",
    "\n",
    "        Args:\n",
    "            x: NumPy array given as a 1D vector\n",
    "            \n",
    "        Returns:\n",
    "            Returns output array for f(x) given as the same shape as the input\n",
    "    \"\"\"\n",
    "    # TODO 1.1\n",
    "    return np.square(x)"
   ]
  },
  {
   "cell_type": "code",
   "execution_count": 4,
   "id": "e1031be5-55aa-4b18-aaa3-6a3b287e4aa6",
   "metadata": {
    "deletable": false,
    "editable": false,
    "nbgrader": {
     "cell_type": "code",
     "checksum": "d23374cc0fa46cb600f3c9a6edbb38fc",
     "grade": true,
     "grade_id": "cell-9d036e5b36b7bcfc",
     "locked": true,
     "points": 2.5,
     "schema_version": 3,
     "solution": false,
     "task": false
    }
   },
   "outputs": [
    {
     "name": "stdout",
     "output_type": "stream",
     "text": [
      "Input x: [0 1 2 3 4 5 6 7 8 9]\n",
      "Output y: [ 0  1  4  9 16 25 36 49 64 81]\n",
      "Your code PASSED all the code checks! \n"
     ]
    }
   ],
   "source": [
    "def TEST_f():\n",
    "    x = np.arange(10)\n",
    "    print(f\"Input x: {x}\")\n",
    "    y = f(x)\n",
    "    print(f\"Output y: {y}\")\n",
    "    todo_check([\n",
    "        (\"np.isclose(y.flatten().sum(), 285,rtol=0.01).all()\", \"y has potentially incorrect values\"),\n",
    "    ], **locals())\n",
    "\n",
    "TEST_f()"
   ]
  },
  {
   "cell_type": "code",
   "execution_count": 5,
   "id": "2bad7cc9-9c72-4a0d-9227-47d372b6fb38",
   "metadata": {
    "deletable": false,
    "nbgrader": {
     "cell_type": "code",
     "checksum": "1b2c90cc957ffa89dfde2077adeaa1f5",
     "grade": false,
     "grade_id": "cell-7b162a19d41061fc",
     "locked": false,
     "schema_version": 3,
     "solution": true,
     "task": false
    }
   },
   "outputs": [],
   "source": [
    "def f_prime(x: np.ndarray) -> np.ndarray:\n",
    "    \"\"\" Computes value for f'(x)\n",
    "\n",
    "        Args:\n",
    "            x: NumPy array given as a 1D vector\n",
    "\n",
    "        Returns:\n",
    "            Returns output array for f'(x) given as the same shape as the input\n",
    "    \"\"\"\n",
    "    # TODO 1.2\n",
    "    return x * 2"
   ]
  },
  {
   "cell_type": "code",
   "execution_count": 6,
   "id": "9663c613-eb76-43cc-928a-e73b2a87493e",
   "metadata": {
    "deletable": false,
    "editable": false,
    "nbgrader": {
     "cell_type": "code",
     "checksum": "2490e974a7fdcde7d5f4dfd27c4ef653",
     "grade": true,
     "grade_id": "cell-4f8eb487d9d9dfdc",
     "locked": true,
     "points": 2.5,
     "schema_version": 3,
     "solution": false,
     "task": false
    }
   },
   "outputs": [
    {
     "name": "stdout",
     "output_type": "stream",
     "text": [
      "Input x: [0 1 2 3 4 5 6 7 8 9]\n",
      "Output y_prime: [ 0  2  4  6  8 10 12 14 16 18]\n",
      "Your code PASSED all the code checks! \n"
     ]
    }
   ],
   "source": [
    "def TEST_f_prime():\n",
    "    x = np.arange(10)\n",
    "    print(f\"Input x: {x}\")\n",
    "    y_prime = f_prime(x)\n",
    "    print(f\"Output y_prime: {y_prime}\")\n",
    "    todo_check([\n",
    "        (\"np.isclose(y_prime.flatten().sum(), 90, rtol=0.01).all()\", \"y_prime has potentially incorrect values\"),\n",
    "    ], **locals())\n",
    "\n",
    "TEST_f_prime()"
   ]
  },
  {
   "cell_type": "markdown",
   "id": "0a82294f-0333-40fb-b3bb-f722cbd67551",
   "metadata": {},
   "source": [
    "Below we use the `plot_f()` function to visualize $f(x)$ and we plot the starting point for the minimization at $(1, 1)$ indicated by the green dot."
   ]
  },
  {
   "cell_type": "code",
   "execution_count": 7,
   "id": "e00350a1-7bde-4975-a5c8-526b87bb71d4",
   "metadata": {},
   "outputs": [],
   "source": [
    "def plot_f(\n",
    "    min_value: float = -1,\n",
    "    max_value: float = 1,\n",
    "    samples: int = 100, \n",
    "    figsize: Tuple[int] = (6,4)\n",
    ") -> matplotlib.axes.Axes:\n",
    "    \"\"\" Plot the function f(x) \n",
    "    \n",
    "        Args:\n",
    "            min_value: Min x-axis value.\n",
    "\n",
    "            max_value: Max x-axis value.\n",
    "\n",
    "            steps: Number of samples to generate between min and max values.\n",
    "\n",
    "            figsize: Size of subplot figure\n",
    "        Returns:\n",
    "            Matplotlib Axes class\n",
    "    \"\"\"\n",
    "    x = np.linspace(min_value, max_value, samples)\n",
    "    y = f(x)\n",
    "    \n",
    "    fig, ax = plt.subplots(figsize=figsize)\n",
    "    ax.plot(x, y) \n",
    "    ax.set_xlabel('x')\n",
    "    ax.set_ylabel('y')\n",
    "    ax.set_title('Minimize f(x)')\n",
    "    return ax"
   ]
  },
  {
   "cell_type": "code",
   "execution_count": 8,
   "id": "8528d16a-608d-4635-a9cf-7eaa7d7c84e7",
   "metadata": {},
   "outputs": [
    {
     "data": {
      "image/png": "[encoded data removed]",
      "text/plain": [
       "<Figure size 600x400 with 1 Axes>"
      ]
     },
     "metadata": {},
     "output_type": "display_data"
    }
   ],
   "source": [
    "x_start = 1 \n",
    "y_start = f(x_start)\n",
    "# Plot x**2 function\n",
    "ax = plot_f()\n",
    "# Plot starting point\n",
    "ax.plot(x_start, y_start, 'go', label=\"start\")\n",
    "ax.legend(bbox_to_anchor=(1.03, 1))\n",
    "plt.show()"
   ]
  },
  {
   "cell_type": "markdown",
   "id": "dfd79fdf-817e-41a1-abdf-ec72430513f7",
   "metadata": {},
   "source": [
    "#### TODO 2 (15 points): gradient_descent\n",
    "\n",
    "Complete the TODO by finishing the `gradient_descent()` function.\n",
    "\n",
    "1. Compute the y-coordinate for the current x-coordinate using the function `f()`. Store the output into `y`.\n",
    "<br><br>\n",
    "2. Compute the gradient (i.e., derivative) at the current x-coordinate using the function `f_prime()`. Store the output into `dx`.\n",
    "<br><br>\n",
    "3. Update the x-coordinate by converting the gradient update equation into code. Store the output back into `x`.\n",
    "    2. Hint: Recall, you already computed the gradient and stored the output into `dx`.\n",
    "<br><br>\n",
    "4. Update new y-coordinate using the updated x-coordinate and the function `f()`. Store the output back into `y`.\n",
    "<br><br>\n",
    "5. Write a convergence check to see if the gradient is near zero by checking if the absolute value of the gradient is less than or equal to $0.001$. If it is, break out of the for-loop.\n",
    "    1. Hint: The convergence check is to see if gradient is near zero. In other words, check if gradient is near a minimum! Recall that when the gradient equals zero we are either near a local minimum, local maximum, or saddle point!\n",
    "<br><br>\n",
    "7. Finish the call statement for the `gradient_descent()` function by setting the number of steps `steps` and  learning rate `alpha` values. To pass the TODO, you need to set these values such that the function converges to a minimum of 0."
   ]
  },
  {
   "cell_type": "code",
   "execution_count": 9,
   "id": "f00bba34-c378-4df0-97ea-5c214688b4ca",
   "metadata": {
    "deletable": false,
    "nbgrader": {
     "cell_type": "code",
     "checksum": "87510a6cecfa9a49603d46af395664d7",
     "grade": false,
     "grade_id": "cell-0ea73ece14139925",
     "locked": false,
     "schema_version": 3,
     "solution": true,
     "task": false
    }
   },
   "outputs": [],
   "source": [
    "def gradient_descent(\n",
    "    x: float, \n",
    "    f: Callable, \n",
    "    f_prime: Callable, \n",
    "    steps: int, \n",
    "    alpha: float,\n",
    "    verbose: bool = False\n",
    ") -> Tuple[np.ndarray]:\n",
    "    \"\"\" Performs gradient descent given a passed function and its derivative\n",
    "    \n",
    "        Args:\n",
    "            x: The starting x-coordiante where GD will start from.\n",
    "            \n",
    "            f: A callable function that contains the desired function GD will\n",
    "                try to find a minimum for.\n",
    "                \n",
    "            f_prime: The derivative of the function `f` which is also a callable \n",
    "                function.\n",
    "            \n",
    "            steps: The number of gradient descent steps to take.\n",
    "            \n",
    "            alpha: The learning rate which determines the step size for \n",
    "                each gradient descent step.\n",
    "\n",
    "            verbose: If true, enable print statements for extra information.\n",
    "\n",
    "        Returns:\n",
    "            The history of values for x and y.\n",
    "    \"\"\"\n",
    "    \n",
    "    # TODO 2.1\n",
    "    y = f(x)\n",
    "    \n",
    "    x_hist = [x]\n",
    "    y_hist = [y]\n",
    "\n",
    "    for i in range(steps):\n",
    "        # TODO 2.2\n",
    "        dx = f_prime(x)\n",
    "        \n",
    "        if verbose:\n",
    "            print(\n",
    "                f\"(x, y): ({x:.3f}, {y:.3f}), Grad: {dx:.4f}, Scaled-grad: {dx*alpha:.4f}\"\n",
    "            )\n",
    "        \n",
    "        # TODO 2.3\n",
    "        x = x - alpha*dx\n",
    "        # TODO 2.4\n",
    "        y = f(x)\n",
    "        # Track the x and y position history\n",
    "        x_hist.append(x)\n",
    "        y_hist.append(y)\n",
    "\n",
    "        # TODO 2.5\n",
    "        if abs(x) <= .001:\n",
    "             break\n",
    "    if verbose: print(f\"Total iterations taken: {i+1}\")\n",
    "    return x_hist, y_hist"
   ]
  },
  {
   "cell_type": "code",
   "execution_count": 10,
   "id": "c0652ca2-c476-4587-92a6-3876a91b021b",
   "metadata": {
    "deletable": false,
    "nbgrader": {
     "cell_type": "code",
     "checksum": "8bfecfe5cc577f3c94a5dcb9575c3c80",
     "grade": false,
     "grade_id": "cell-6ca45ba14fd89005",
     "locked": false,
     "schema_version": 3,
     "solution": true,
     "task": false
    }
   },
   "outputs": [
    {
     "name": "stdout",
     "output_type": "stream",
     "text": [
      "(x, y): (1.000, 1.000), Grad: 2.0000, Scaled-grad: 0.4000\n",
      "(x, y): (0.600, 0.360), Grad: 1.2000, Scaled-grad: 0.2400\n",
      "(x, y): (0.360, 0.130), Grad: 0.7200, Scaled-grad: 0.1440\n",
      "(x, y): (0.216, 0.047), Grad: 0.4320, Scaled-grad: 0.0864\n",
      "(x, y): (0.130, 0.017), Grad: 0.2592, Scaled-grad: 0.0518\n",
      "(x, y): (0.078, 0.006), Grad: 0.1555, Scaled-grad: 0.0311\n",
      "(x, y): (0.047, 0.002), Grad: 0.0933, Scaled-grad: 0.0187\n",
      "(x, y): (0.028, 0.001), Grad: 0.0560, Scaled-grad: 0.0112\n",
      "(x, y): (0.017, 0.000), Grad: 0.0336, Scaled-grad: 0.0067\n",
      "(x, y): (0.010, 0.000), Grad: 0.0202, Scaled-grad: 0.0040\n",
      "(x, y): (0.006, 0.000), Grad: 0.0121, Scaled-grad: 0.0024\n",
      "(x, y): (0.004, 0.000), Grad: 0.0073, Scaled-grad: 0.0015\n",
      "(x, y): (0.002, 0.000), Grad: 0.0044, Scaled-grad: 0.0009\n",
      "(x, y): (0.001, 0.000), Grad: 0.0026, Scaled-grad: 0.0005\n",
      "Total iterations taken: 14\n"
     ]
    },
    {
     "data": {
      "image/png": "[encoded data removed]",
      "text/plain": [
       "<Figure size 600x400 with 1 Axes>"
      ]
     },
     "metadata": {},
     "output_type": "display_data"
    }
   ],
   "source": [
    "x_hist, y_hist = gradient_descent(\n",
    "    x=1, \n",
    "    f=f, \n",
    "    f_prime=f_prime,\n",
    "    verbose=True, # Set to True to see more details\n",
    "    # TODO 2.6\n",
    "    steps = 15,\n",
    "    alpha = .2    \n",
    ")\n",
    "\n",
    "# Plot the x^2 function\n",
    "ax = plot_f(min_value=-np.max(x_hist), max_value=np.max(x_hist))\n",
    "# Plot the history of x-y coordinates (i.e., steps taken)\n",
    "ax.plot(x_hist, y_hist, 'ro-', label='step')\n",
    "# Plot start position\n",
    "ax.plot(x_hist[0], y_hist[0], 'go', label='start')\n",
    "# Plot end position\n",
    "ax.plot(x_hist[-1], y_hist[-1], 'bo', label='end');\n",
    "ax.legend(bbox_to_anchor=(1.03, 1))\n",
    "plt.show()"
   ]
  },
  {
   "cell_type": "code",
   "execution_count": 11,
   "id": "e15d9fcd-675a-44d8-88c7-a130fefe6f3e",
   "metadata": {
    "deletable": false,
    "editable": false,
    "nbgrader": {
     "cell_type": "code",
     "checksum": "e1b8776421dc515325f66784e6c66605",
     "grade": true,
     "grade_id": "cell-d2948684f9413e93",
     "locked": true,
     "points": 15,
     "schema_version": 3,
     "solution": false,
     "task": false
    }
   },
   "outputs": [
    {
     "name": "stdout",
     "output_type": "stream",
     "text": [
      "Your code PASSED all the code checks! \n"
     ]
    }
   ],
   "source": [
    "todo_check([\n",
    "    (\"x_hist[-1] <= 0.001\", \"Final x-coord is not near zero\"),\n",
    "    (\"y_hist[-1] <= 0.001\", \"Final y-coord is not near zero\"),\n",
    "])"
   ]
  },
  {
   "cell_type": "markdown",
   "id": "f3b44db8-2629-42eb-9ad0-d17d383148b7",
   "metadata": {},
   "source": [
    "# Least Mean Squares (LMS)\n",
    "\n",
    "## California Housing Dataset\n",
    "<center><img src=\"https://external-content.duckduckgo.com/iu/?u=https%3A%2F%2Fstorage.googleapis.com%2Fkaggle-datasets-images%2F24824%2F31630%2Fa5f5ce1e4b4066d1f222e79e8286f077%2Fdataset-cover.jpg%3Ft%3D2018-05-03-00-52-48&f=1&nofb=1&ipt=7360d9754c45331414cb7514bbad9b59a8fc322eaa619777267e9a92b208ee11&ipo=images\"></center>\n",
    "\n",
    "\n",
    "This assignment will reuse the famous California housing dataset. Recall that the goal is to predict the price of a house. The California housing dataset (among other housing datasets) is a frequently used dataset when first being introduced to regression. See its [Kaggle](https://www.kaggle.com/datasets/camnugent/california-housing-prices) page for additional details. Below is a description of the dataset given by Sklearn.\n",
    "\n",
    "> The target variable is the median house value for California districts, expressed in hundreds of thousands of dollars ($100,000).\n",
    "> This dataset was derived from the 1990 U.S. census, using one row per census block group. A block group is the smallest geographical unit for which the U.S. Census Bureau publishes sample data (a block group typically has a population of 600 to 3,000 people).\n",
    "> A household is a group of people residing within a home. Since the average number of rooms and bedrooms in this dataset are provided per household, these columns may take surprisingly large values for block groups with few households and many empty houses, such as vacation resorts."
   ]
  },
  {
   "cell_type": "markdown",
   "id": "4fd71f98-c5f6-4ca9-8a6e-9800ba7d84e8",
   "metadata": {},
   "source": [
    "#### TODO 3 (5 points): Data Loading\n",
    "Complete the TODO by loading the California housing dataset using Sklearn.\n",
    "\n",
    "1. Import the `fetch_california_housing` function from `sklearn.datasets`.\n",
    "<br><br>\n",
    "2. Load the dataset by calling the `fetch_california_housing()` function and pass the parameter the returns the data as a pandas DataFrame. Store the output into `housing`."
   ]
  },
  {
   "cell_type": "code",
   "execution_count": 12,
   "id": "299798d0-b289-4a20-a5c2-8e55c88897cd",
   "metadata": {
    "deletable": false,
    "nbgrader": {
     "cell_type": "code",
     "checksum": "aae617829dd360d93ebdbeb52bbe3972",
     "grade": false,
     "grade_id": "cell-ab171e0bd7231790",
     "locked": false,
     "schema_version": 3,
     "solution": true,
     "task": false
    }
   },
   "outputs": [],
   "source": [
    "# TODO 3.1\n",
    "from sklearn.datasets import fetch_california_housing\n",
    "# TODO 3.2\n",
    "housing = fetch_california_housing(as_frame=True)"
   ]
  },
  {
   "cell_type": "code",
   "execution_count": 13,
   "id": "ef4a0eba-dcaa-46f5-b1f5-e8489cc7608d",
   "metadata": {
    "deletable": false,
    "editable": false,
    "nbgrader": {
     "cell_type": "code",
     "checksum": "fdc5d84df49214c32cc69b816215ecbd",
     "grade": true,
     "grade_id": "cell-33e6c77731797e58",
     "locked": true,
     "points": 5,
     "schema_version": 3,
     "solution": false,
     "task": false
    }
   },
   "outputs": [
    {
     "name": "stdout",
     "output_type": "stream",
     "text": [
      "Your code PASSED all the code checks! \n"
     ]
    }
   ],
   "source": [
    "todo_check([\n",
    "    (\"isinstance(housing, sklearn.utils.Bunch)\", \"'housing' is not of type Bunch\"),\n",
    "    (\"isinstance(housing.data, pd.DataFrame)\", \"housing.data is not a Pandas DataFrame. Make sure to pass the correct argument to load_iris().\"),\n",
    "    (\"isinstance(housing.target, pd.Series)\", \"housing.target is not a Pandas series. Make sure to pass the correct argument to load_iris().\"),\n",
    "])"
   ]
  },
  {
   "cell_type": "markdown",
   "id": "c2d2a1ac-fee7-4d69-a9cc-f59954f20c72",
   "metadata": {},
   "source": [
    "Below, we have printed out the data and target values. Recall, `housing` is a Sklearn `Bunch` object."
   ]
  },
  {
   "cell_type": "code",
   "execution_count": 14,
   "id": "6d892268-14b5-4f11-b5ab-2553e41d6413",
   "metadata": {},
   "outputs": [
    {
     "data": {
      "text/html": [
       "<div>\n",
       "<style scoped>\n",
       "    .dataframe tbody tr th:only-of-type {\n",
       "        vertical-align: middle;\n",
       "    }\n",
       "\n",
       "    .dataframe tbody tr th {\n",
       "        vertical-align: top;\n",
       "    }\n",
       "\n",
       "    .dataframe thead th {\n",
       "        text-align: right;\n",
       "    }\n",
       "</style>\n",
       "<table border=\"1\" class=\"dataframe\">\n",
       "  <thead>\n",
       "    <tr style=\"text-align: right;\">\n",
       "      <th></th>\n",
       "      <th>MedInc</th>\n",
       "      <th>HouseAge</th>\n",
       "      <th>AveRooms</th>\n",
       "      <th>AveBedrms</th>\n",
       "      <th>Population</th>\n",
       "      <th>AveOccup</th>\n",
       "      <th>Latitude</th>\n",
       "      <th>Longitude</th>\n",
       "    </tr>\n",
       "  </thead>\n",
       "  <tbody>\n",
       "    <tr>\n",
       "      <th>0</th>\n",
       "      <td>8.3252</td>\n",
       "      <td>41.0</td>\n",
       "      <td>6.984127</td>\n",
       "      <td>1.023810</td>\n",
       "      <td>322.0</td>\n",
       "      <td>2.555556</td>\n",
       "      <td>37.88</td>\n",
       "      <td>-122.23</td>\n",
       "    </tr>\n",
       "    <tr>\n",
       "      <th>1</th>\n",
       "      <td>8.3014</td>\n",
       "      <td>21.0</td>\n",
       "      <td>6.238137</td>\n",
       "      <td>0.971880</td>\n",
       "      <td>2401.0</td>\n",
       "      <td>2.109842</td>\n",
       "      <td>37.86</td>\n",
       "      <td>-122.22</td>\n",
       "    </tr>\n",
       "    <tr>\n",
       "      <th>2</th>\n",
       "      <td>7.2574</td>\n",
       "      <td>52.0</td>\n",
       "      <td>8.288136</td>\n",
       "      <td>1.073446</td>\n",
       "      <td>496.0</td>\n",
       "      <td>2.802260</td>\n",
       "      <td>37.85</td>\n",
       "      <td>-122.24</td>\n",
       "    </tr>\n",
       "    <tr>\n",
       "      <th>3</th>\n",
       "      <td>5.6431</td>\n",
       "      <td>52.0</td>\n",
       "      <td>5.817352</td>\n",
       "      <td>1.073059</td>\n",
       "      <td>558.0</td>\n",
       "      <td>2.547945</td>\n",
       "      <td>37.85</td>\n",
       "      <td>-122.25</td>\n",
       "    </tr>\n",
       "    <tr>\n",
       "      <th>4</th>\n",
       "      <td>3.8462</td>\n",
       "      <td>52.0</td>\n",
       "      <td>6.281853</td>\n",
       "      <td>1.081081</td>\n",
       "      <td>565.0</td>\n",
       "      <td>2.181467</td>\n",
       "      <td>37.85</td>\n",
       "      <td>-122.25</td>\n",
       "    </tr>\n",
       "    <tr>\n",
       "      <th>...</th>\n",
       "      <td>...</td>\n",
       "      <td>...</td>\n",
       "      <td>...</td>\n",
       "      <td>...</td>\n",
       "      <td>...</td>\n",
       "      <td>...</td>\n",
       "      <td>...</td>\n",
       "      <td>...</td>\n",
       "    </tr>\n",
       "    <tr>\n",
       "      <th>20635</th>\n",
       "      <td>1.5603</td>\n",
       "      <td>25.0</td>\n",
       "      <td>5.045455</td>\n",
       "      <td>1.133333</td>\n",
       "      <td>845.0</td>\n",
       "      <td>2.560606</td>\n",
       "      <td>39.48</td>\n",
       "      <td>-121.09</td>\n",
       "    </tr>\n",
       "    <tr>\n",
       "      <th>20636</th>\n",
       "      <td>2.5568</td>\n",
       "      <td>18.0</td>\n",
       "      <td>6.114035</td>\n",
       "      <td>1.315789</td>\n",
       "      <td>356.0</td>\n",
       "      <td>3.122807</td>\n",
       "      <td>39.49</td>\n",
       "      <td>-121.21</td>\n",
       "    </tr>\n",
       "    <tr>\n",
       "      <th>20637</th>\n",
       "      <td>1.7000</td>\n",
       "      <td>17.0</td>\n",
       "      <td>5.205543</td>\n",
       "      <td>1.120092</td>\n",
       "      <td>1007.0</td>\n",
       "      <td>2.325635</td>\n",
       "      <td>39.43</td>\n",
       "      <td>-121.22</td>\n",
       "    </tr>\n",
       "    <tr>\n",
       "      <th>20638</th>\n",
       "      <td>1.8672</td>\n",
       "      <td>18.0</td>\n",
       "      <td>5.329513</td>\n",
       "      <td>1.171920</td>\n",
       "      <td>741.0</td>\n",
       "      <td>2.123209</td>\n",
       "      <td>39.43</td>\n",
       "      <td>-121.32</td>\n",
       "    </tr>\n",
       "    <tr>\n",
       "      <th>20639</th>\n",
       "      <td>2.3886</td>\n",
       "      <td>16.0</td>\n",
       "      <td>5.254717</td>\n",
       "      <td>1.162264</td>\n",
       "      <td>1387.0</td>\n",
       "      <td>2.616981</td>\n",
       "      <td>39.37</td>\n",
       "      <td>-121.24</td>\n",
       "    </tr>\n",
       "  </tbody>\n",
       "</table>\n",
       "<p>20640 rows × 8 columns</p>\n",
       "</div>"
      ],
      "text/plain": [
       "       MedInc  HouseAge  AveRooms  AveBedrms  Population  AveOccup  Latitude  \\\n",
       "0      8.3252      41.0  6.984127   1.023810       322.0  2.555556     37.88   \n",
       "1      8.3014      21.0  6.238137   0.971880      2401.0  2.109842     37.86   \n",
       "2      7.2574      52.0  8.288136   1.073446       496.0  2.802260     37.85   \n",
       "3      5.6431      52.0  5.817352   1.073059       558.0  2.547945     37.85   \n",
       "4      3.8462      52.0  6.281853   1.081081       565.0  2.181467     37.85   \n",
       "...       ...       ...       ...        ...         ...       ...       ...   \n",
       "20635  1.5603      25.0  5.045455   1.133333       845.0  2.560606     39.48   \n",
       "20636  2.5568      18.0  6.114035   1.315789       356.0  3.122807     39.49   \n",
       "20637  1.7000      17.0  5.205543   1.120092      1007.0  2.325635     39.43   \n",
       "20638  1.8672      18.0  5.329513   1.171920       741.0  2.123209     39.43   \n",
       "20639  2.3886      16.0  5.254717   1.162264      1387.0  2.616981     39.37   \n",
       "\n",
       "       Longitude  \n",
       "0        -122.23  \n",
       "1        -122.22  \n",
       "2        -122.24  \n",
       "3        -122.25  \n",
       "4        -122.25  \n",
       "...          ...  \n",
       "20635    -121.09  \n",
       "20636    -121.21  \n",
       "20637    -121.22  \n",
       "20638    -121.32  \n",
       "20639    -121.24  \n",
       "\n",
       "[20640 rows x 8 columns]"
      ]
     },
     "execution_count": 14,
     "metadata": {},
     "output_type": "execute_result"
    }
   ],
   "source": [
    "housing.data"
   ]
  },
  {
   "cell_type": "markdown",
   "id": "745f9ab0-d96b-4a60-b0c6-4040a44ce11f",
   "metadata": {},
   "source": [
    "Looking at the data statistics, you should see that the scales (i.e., mean and STD) of each feature are different. **This time, you will correct the different scales using standardization!**"
   ]
  },
  {
   "cell_type": "code",
   "execution_count": 15,
   "id": "450b2ea6-6607-42ff-afb8-060d995e19d2",
   "metadata": {},
   "outputs": [
    {
     "data": {
      "text/html": [
       "<div>\n",
       "<style scoped>\n",
       "    .dataframe tbody tr th:only-of-type {\n",
       "        vertical-align: middle;\n",
       "    }\n",
       "\n",
       "    .dataframe tbody tr th {\n",
       "        vertical-align: top;\n",
       "    }\n",
       "\n",
       "    .dataframe thead th {\n",
       "        text-align: right;\n",
       "    }\n",
       "</style>\n",
       "<table border=\"1\" class=\"dataframe\">\n",
       "  <thead>\n",
       "    <tr style=\"text-align: right;\">\n",
       "      <th></th>\n",
       "      <th>MedInc</th>\n",
       "      <th>HouseAge</th>\n",
       "      <th>AveRooms</th>\n",
       "      <th>AveBedrms</th>\n",
       "      <th>Population</th>\n",
       "      <th>AveOccup</th>\n",
       "      <th>Latitude</th>\n",
       "      <th>Longitude</th>\n",
       "    </tr>\n",
       "  </thead>\n",
       "  <tbody>\n",
       "    <tr>\n",
       "      <th>count</th>\n",
       "      <td>20640.000000</td>\n",
       "      <td>20640.000000</td>\n",
       "      <td>20640.000000</td>\n",
       "      <td>20640.000000</td>\n",
       "      <td>20640.000000</td>\n",
       "      <td>20640.000000</td>\n",
       "      <td>20640.000000</td>\n",
       "      <td>20640.000000</td>\n",
       "    </tr>\n",
       "    <tr>\n",
       "      <th>mean</th>\n",
       "      <td>3.870671</td>\n",
       "      <td>28.639486</td>\n",
       "      <td>5.429000</td>\n",
       "      <td>1.096675</td>\n",
       "      <td>1425.476744</td>\n",
       "      <td>3.070655</td>\n",
       "      <td>35.631861</td>\n",
       "      <td>-119.569704</td>\n",
       "    </tr>\n",
       "    <tr>\n",
       "      <th>std</th>\n",
       "      <td>1.899822</td>\n",
       "      <td>12.585558</td>\n",
       "      <td>2.474173</td>\n",
       "      <td>0.473911</td>\n",
       "      <td>1132.462122</td>\n",
       "      <td>10.386050</td>\n",
       "      <td>2.135952</td>\n",
       "      <td>2.003532</td>\n",
       "    </tr>\n",
       "    <tr>\n",
       "      <th>min</th>\n",
       "      <td>0.499900</td>\n",
       "      <td>1.000000</td>\n",
       "      <td>0.846154</td>\n",
       "      <td>0.333333</td>\n",
       "      <td>3.000000</td>\n",
       "      <td>0.692308</td>\n",
       "      <td>32.540000</td>\n",
       "      <td>-124.350000</td>\n",
       "    </tr>\n",
       "    <tr>\n",
       "      <th>25%</th>\n",
       "      <td>2.563400</td>\n",
       "      <td>18.000000</td>\n",
       "      <td>4.440716</td>\n",
       "      <td>1.006079</td>\n",
       "      <td>787.000000</td>\n",
       "      <td>2.429741</td>\n",
       "      <td>33.930000</td>\n",
       "      <td>-121.800000</td>\n",
       "    </tr>\n",
       "    <tr>\n",
       "      <th>50%</th>\n",
       "      <td>3.534800</td>\n",
       "      <td>29.000000</td>\n",
       "      <td>5.229129</td>\n",
       "      <td>1.048780</td>\n",
       "      <td>1166.000000</td>\n",
       "      <td>2.818116</td>\n",
       "      <td>34.260000</td>\n",
       "      <td>-118.490000</td>\n",
       "    </tr>\n",
       "    <tr>\n",
       "      <th>75%</th>\n",
       "      <td>4.743250</td>\n",
       "      <td>37.000000</td>\n",
       "      <td>6.052381</td>\n",
       "      <td>1.099526</td>\n",
       "      <td>1725.000000</td>\n",
       "      <td>3.282261</td>\n",
       "      <td>37.710000</td>\n",
       "      <td>-118.010000</td>\n",
       "    </tr>\n",
       "    <tr>\n",
       "      <th>max</th>\n",
       "      <td>15.000100</td>\n",
       "      <td>52.000000</td>\n",
       "      <td>141.909091</td>\n",
       "      <td>34.066667</td>\n",
       "      <td>35682.000000</td>\n",
       "      <td>1243.333333</td>\n",
       "      <td>41.950000</td>\n",
       "      <td>-114.310000</td>\n",
       "    </tr>\n",
       "  </tbody>\n",
       "</table>\n",
       "</div>"
      ],
      "text/plain": [
       "             MedInc      HouseAge      AveRooms     AveBedrms    Population  \\\n",
       "count  20640.000000  20640.000000  20640.000000  20640.000000  20640.000000   \n",
       "mean       3.870671     28.639486      5.429000      1.096675   1425.476744   \n",
       "std        1.899822     12.585558      2.474173      0.473911   1132.462122   \n",
       "min        0.499900      1.000000      0.846154      0.333333      3.000000   \n",
       "25%        2.563400     18.000000      4.440716      1.006079    787.000000   \n",
       "50%        3.534800     29.000000      5.229129      1.048780   1166.000000   \n",
       "75%        4.743250     37.000000      6.052381      1.099526   1725.000000   \n",
       "max       15.000100     52.000000    141.909091     34.066667  35682.000000   \n",
       "\n",
       "           AveOccup      Latitude     Longitude  \n",
       "count  20640.000000  20640.000000  20640.000000  \n",
       "mean       3.070655     35.631861   -119.569704  \n",
       "std       10.386050      2.135952      2.003532  \n",
       "min        0.692308     32.540000   -124.350000  \n",
       "25%        2.429741     33.930000   -121.800000  \n",
       "50%        2.818116     34.260000   -118.490000  \n",
       "75%        3.282261     37.710000   -118.010000  \n",
       "max     1243.333333     41.950000   -114.310000  "
      ]
     },
     "execution_count": 15,
     "metadata": {},
     "output_type": "execute_result"
    }
   ],
   "source": [
    "housing.data.describe()"
   ]
  },
  {
   "cell_type": "markdown",
   "id": "fd37e548-06fd-4004-b8ba-b8d01a85402b",
   "metadata": {},
   "source": [
    "## Data Preprocessing\n",
    "\n",
    "### Standardization\n",
    "This new preprocessing step will be used to scale all the numerical features such that they all have the same scales. Recall that standardization transforms your data to have a zero mean and a standard deviation (STD) of 1 (i.e., unit variance). To standardize the data, you simply subtract each feature by its mean and divide by its STD as follows:\n",
    "\n",
    "$$\n",
    "\\frac{\\Xm - \\vec{\\mu}}{\\vec{\\sigma}},\n",
    "$$\n",
    "\n",
    "where $\\Xm$ is the input data matrix, $\\vec{\\mu}$ (mu) is a vector of means for each feature, and $\\vec{\\sigma}$ (sigma) is a vector of STDs for each feature.\n",
    "\n",
    "#### TODO 4 (10 points): Standardize Class\n",
    "\n",
    "Complete the following `Standardize` class provided below.\n",
    "\n",
    "**`fit()` TODOs**\n",
    "\n",
    "1. Compute the mean and STD of each feature using the input data `X`. Store the output into the variables `self.mean` and `self.std`.\n",
    "\n",
    "**`transform()` TODOs**\n",
    "\n",
    "2. Standardize the passed data `X` by implementing the standardization formula given above. Return the output.\n"
   ]
  },
  {
   "cell_type": "code",
   "execution_count": 16,
   "id": "33a1d2e0-69de-4b53-9c77-40d9c1522716",
   "metadata": {
    "deletable": false,
    "nbgrader": {
     "cell_type": "code",
     "checksum": "c74a90a88406bcf51d7d551e93729ec0",
     "grade": false,
     "grade_id": "cell-f6fd941454487cd2",
     "locked": false,
     "schema_version": 3,
     "solution": true,
     "task": false
    }
   },
   "outputs": [],
   "source": [
    "class Standardize():\n",
    "    \"\"\" Standize data based on mean and STD computed using training data\n",
    "\n",
    "        Attributes:\n",
    "            mean: Vector of means for each feature \n",
    "\n",
    "            std: Vector of STDs for each feature\n",
    "            \n",
    "    \"\"\"\n",
    "    def __init__(self):\n",
    "        self.mean: np.ndarray = None\n",
    "        self.std: np.ndarray = None\n",
    "    \n",
    "    def fit(self, X: np.ndarray) -> object:\n",
    "        \"\"\" Computes the mean and std using the training data.\n",
    "\n",
    "            Args:\n",
    "                X: training data given as a matrix\n",
    "\n",
    "            Return:\n",
    "                Reference to object's instance\n",
    "        \"\"\"\n",
    "        # TODO 4.1\n",
    "        self.mean = np.mean(X, axis=0)\n",
    "        self.std = np.std(X, axis=0)\n",
    "        \n",
    "        return self\n",
    "        \n",
    "    def transform(self, X: np.ndarray) -> np.ndarray:\n",
    "        \"\"\" Transforms the passed data using standardization based on the \n",
    "            precomputed mean and STD.\n",
    "\n",
    "            Args:\n",
    "                X: Data given as a matrix\n",
    "\n",
    "            Returns:\n",
    "                Standardized matrix of data\n",
    "        \"\"\"\n",
    "        # TODO 4.2\n",
    "        return (X - self.mean)/self.std"
   ]
  },
  {
   "cell_type": "code",
   "execution_count": 17,
   "id": "196e9355-c464-4894-8bb1-99f54996c9c5",
   "metadata": {
    "deletable": false,
    "editable": false,
    "nbgrader": {
     "cell_type": "code",
     "checksum": "a12f3fb35fda684494eeebdd6706128b",
     "grade": true,
     "grade_id": "cell-cf7e45100f8609e6",
     "locked": true,
     "points": 10,
     "schema_version": 3,
     "solution": false,
     "task": false
    }
   },
   "outputs": [
    {
     "name": "stdout",
     "output_type": "stream",
     "text": [
      "Your code PASSED all the code checks! \n"
     ]
    }
   ],
   "source": [
    "def TEST_Standardize():\n",
    "    X = housing.data.values\n",
    "    stand = Standardize()\n",
    "    stand.fit(X)\n",
    "    Xs = stand.transform(X)\n",
    "\n",
    "    todo_check([\n",
    "        (\"Xs.shape == X.shape\", \"Xs shape is incorrect.\"),\n",
    "        ('np.isclose(Xs.mean(axis=0).sum(), 0, rtol=0.01)', 'Xs has potentially incorrect mean values.'),\n",
    "        ('np.isclose(Xs.std(axis=0).sum(), 8, rtol=0.01)', 'Xs has potentially incorrect STD values.'),\n",
    "    ], **locals())\n",
    "TEST_Standardize()"
   ]
  },
  {
   "cell_type": "markdown",
   "id": "bd551c9e-4683-40bb-922d-4676d935779b",
   "metadata": {},
   "source": [
    "## Putting it all together\n",
    "\n",
    "Recall, in order to prepare the data for linear regression, you will need to split the data and add the bias. Additionally, now you will standardize the data. Thus, it is time to combine all the data preprocessing steps (data splitting, standardization and add bias) into one function which returns the fully preprocessed data.\n",
    "\n",
    "\n",
    "#### TODO 5 (10 points): get_preprocessed_data function\n",
    "\n",
    "Complete the following the `get_preprocessed_data()` function for performing data preprocessing.\n",
    "\n",
    "1. Call Sklearn's `train_test_split()` function such that the train set is 80% of the data and the test set is 20% of the data. Additionally, pass a seed of 42 for the random state. Store the output into `X_trn`, `X_tst`, `y_trn`, and `y_tst`.\n",
    "    1. Hint: Be sure to pass the housing data/targets as NumPy arrays instead of a DataFrame/Series by using the `values` attribute or `to_numpy()` function. \n",
    "<br><br>\n",
    "2. Create an instance of the `Standardize` class, compute the mean and STD using the training data, and then transform both the training and testing data. Store the output back inside `X_trn` and `X_tst`.\n",
    "<br><br>\n",
    "3. Add the bias to the first column of the training `X_trn` and testing `X_tst` data. Store the output back into `X_trn` and `X_tst`."
   ]
  },
  {
   "cell_type": "code",
   "execution_count": 18,
   "id": "cab9938f-08ff-482d-8612-224dc7ec7f93",
   "metadata": {
    "deletable": false,
    "nbgrader": {
     "cell_type": "code",
     "checksum": "5c25ced34b55e51ad88d19dc58dd5fb0",
     "grade": false,
     "grade_id": "cell-ad2d6b210a458856",
     "locked": false,
     "schema_version": 3,
     "solution": true,
     "task": false
    }
   },
   "outputs": [],
   "source": [
    "def get_preprocessed_data():\n",
    "    \"\"\" Gets preprocessed data for training and testing\n",
    "\n",
    "        Returns:\n",
    "            A tuple of NumPy arrays where the first two indices \n",
    "            contain the training data and targets and the last two\n",
    "            indicies contain the testing data and targets. Targets\n",
    "            should be 2D column vectors.\n",
    "    \"\"\"\n",
    "    # TODO 5.1\n",
    "    X=housing.data.values \n",
    "    y=housing.target.values\n",
    "    from sklearn.model_selection import train_test_split\n",
    "    X_trn, X_tst, y_trn, y_tst = train_test_split(X, y, test_size=0.2, train_size=.8, random_state=42)\n",
    "    \n",
    "    # TODO 5.2\n",
    "    standard = Standardize()\n",
    "    standard.fit(X_trn)  \n",
    "    X_trn = standard.transform(X_trn)   \n",
    "    X_tst = standard.transform(X_tst)   \n",
    "    \n",
    "    # TODO 5.3\n",
    "    X_trn = np.hstack([np.ones((len(X_trn), 1)), X_trn])\n",
    "    X_tst = np.hstack([np.ones((len(X_tst), 1)), X_tst])\n",
    "    \n",
    "    # Reshape targets to be 2D column vectors\n",
    "    return X_trn, y_trn.reshape(-1, 1), X_tst, y_tst.reshape(-1, 1)"
   ]
  },
  {
   "cell_type": "code",
   "execution_count": 19,
   "id": "0fd98c29-df4f-4f9a-aaa9-47ea1a33c824",
   "metadata": {
    "deletable": false,
    "editable": false,
    "nbgrader": {
     "cell_type": "code",
     "checksum": "3a94035215edc74e726e69d54c120cc0",
     "grade": true,
     "grade_id": "cell-f377dd624ba0d28f",
     "locked": true,
     "points": 10,
     "schema_version": 3,
     "solution": false,
     "task": false
    }
   },
   "outputs": [
    {
     "name": "stdout",
     "output_type": "stream",
     "text": [
      "X_trn shape: (16512, 9)\n",
      "y_trn shape: (16512, 1)\n",
      "X_tst shape: (4128, 9)\n",
      "y_tst shape: (4128, 1)\n",
      "X_trn means:\n",
      "[ 1.00000000e+00 -6.59266865e-15 -6.68608149e-17  8.01559239e-15\n",
      " -1.17273358e-15 -2.60880895e-18 -1.13675656e-16  7.99652724e-14\n",
      " -3.87910056e-13]\n",
      "X_tst means:\n",
      "[ 1.00000000e+00 -2.64758497e-02  1.23794869e-02 -1.30592543e-02\n",
      " -1.10793533e-04 -4.29305561e-03 -1.13599677e-02 -2.64153036e-02\n",
      "  3.13772517e-02]\n",
      "Your code PASSED all the code checks! \n"
     ]
    }
   ],
   "source": [
    "def TEST_get_preprocessed_data():\n",
    "    X_trn, y_trn, X_tst, y_tst = get_preprocessed_data()\n",
    "    \n",
    "    print(f\"X_trn shape: {X_trn.shape}\")\n",
    "    print(f\"y_trn shape: {y_trn.shape}\")\n",
    "    print(f\"X_tst shape: {X_tst.shape}\")\n",
    "    print(f\"y_tst shape: {y_tst.shape}\")\n",
    "    print(f\"X_trn means:\\n{X_trn.mean(axis=0)}\")\n",
    "    print(f\"X_tst means:\\n{X_tst.mean(axis=0)}\")\n",
    "\n",
    "    todo_check([\n",
    "        (\"isinstance(X_trn, np.ndarray)\", \"X_trn must be a NumPy array.\"),\n",
    "        (\"isinstance(X_tst, np.ndarray)\", \"X_trn must be a NumPy array.\"),\n",
    "        (\"isinstance(y_trn, np.ndarray)\", \"X_trn must be a NumPy array.\"),\n",
    "        (\"isinstance(y_tst, np.ndarray)\", \"X_trn must be a NumPy array.\"),\n",
    "        (\"len(y_trn) == 16512\", \"Training data has incorrect number of data samples.\"),\n",
    "        (\"len(y_tst) == 4128\", \"Testing data has incorrect number of data samples.\"),\n",
    "        ('np.isclose(X_trn[:, 1:].mean(axis=0).sum(), 0, rtol=0.01)', 'X_trn has potentially incorrect mean values.'),\n",
    "        ('np.isclose(X_trn[:, 1:].std(axis=0).sum(), 8, rtol=0.01)', 'X_trn has potentially incorrect std values.'),\n",
    "        ('np.isclose(X_tst[:, 1:].mean(axis=0).sum(), -0.03795, rtol=0.01)', 'X_tst has potentially incorrect mean values.'),\n",
    "        ('np.isclose(X_tst[:, 1:].std(axis=0).sum(), 7.68357, rtol=0.01)', 'X_tst has potentially incorrect std values.'),\n",
    "        (\"(X_trn[:, 0] == 1).all()\", \"The 1st column of `X_trn` does not seem to be the bias term (i.e., full of 1s).\"),\n",
    "        (\"(X_tst[:, 0] == 1).all()\", \"The 1st column of `X_tst` does not seem to be the bias term (i.e., full of 1s).\"),\n",
    "    ], **locals())\n",
    "TEST_get_preprocessed_data()"
   ]
  },
  {
   "cell_type": "markdown",
   "id": "19acdc23-8ecb-4494-94a5-ad75098b5305",
   "metadata": {},
   "source": [
    "## Batching\n",
    "\n",
    "#### TODO 6 (10 points): get_batches\n",
    "\n",
    "Complete the TODO by finishing the `get_batches()` function\n",
    "\n",
    "1. Generate the indices of the data by using `np.arange()` and the passed variable `data_len`. Store the output into `indices`.\n",
    "<br><br>\n",
    "2. Randomize the indices by using the `np.random.shuffle()` function.\n",
    "<br><br>\n",
    "3. Using `indices`, generate a list of NumPy arrays where each element corresponds to a batch of indices of the size `batch_size`. For example, if `batch_size=32` the first 32 samples in `indices` corresponds to the first batch of indices and the next 32 samples corresponds to the second batch of indices. If the last batch is less than 32 samples (e.g., 7 samples), this batch should still be added. Store the output in `batches`.\n",
    "    1. Hint: Loop-over the `indices` iterating by `batch_size` and slicing an array of size `batch_size` and appending it to the list `batches`. Trying using Python's `range()` built-in function to iterate by the batch size.\n",
    "    2. Hint: This can be done using a very simple for-loop (one line if very efficient)."
   ]
  },
  {
   "cell_type": "code",
   "execution_count": 20,
   "id": "34802392-1b4b-4f8d-b210-6b05912c5d4b",
   "metadata": {
    "deletable": false,
    "nbgrader": {
     "cell_type": "code",
     "checksum": "1156f0428b6a50fafa10b560baa472e0",
     "grade": false,
     "grade_id": "cell-17318e2907fcdf53",
     "locked": false,
     "schema_version": 3,
     "solution": true,
     "task": false
    }
   },
   "outputs": [],
   "source": [
    "def get_batches(\n",
    "    data_len: int, \n",
    "    batch_size: int = 32,\n",
    ") -> List[np.ndarray]:\n",
    "    \"\"\" Generates mini-batches based on the data indices\n",
    "        \n",
    "        Args:\n",
    "            data_len: Length of the data or number of data samples \n",
    "                in the data. This is used to generate the indices of\n",
    "                the data.\n",
    "            \n",
    "            batch_size: Size of each mini-batch where the last mini-batch\n",
    "                might be smaller than the rest if the batch_size does not \n",
    "                evenly divide the data length.\n",
    "\n",
    "        Returns:\n",
    "            A list of NumPy array's holding the indices of batches\n",
    "    \"\"\"\n",
    "    # TODO 6.1\n",
    "    indices = np.arange(data_len)\n",
    "    \n",
    "    # TODO 6.2\n",
    "    np.random.shuffle(indices)\n",
    "\n",
    "    # TODO 6.3\n",
    "    batches = []\n",
    "    for i in range(0, data_len, batch_size):\n",
    "        batch = indices[i:i + batch_size]\n",
    "        batches.append(batch)\n",
    "    return batches"
   ]
  },
  {
   "cell_type": "code",
   "execution_count": 21,
   "id": "8487b788-75b5-4925-969e-eed6415cd6e9",
   "metadata": {
    "deletable": false,
    "editable": false,
    "nbgrader": {
     "cell_type": "code",
     "checksum": "9ac91b419beb3ca8d0802fc7f808ee83",
     "grade": true,
     "grade_id": "cell-578b2845eda65ef3",
     "locked": true,
     "points": 10,
     "schema_version": 3,
     "solution": false,
     "task": false
    }
   },
   "outputs": [
    {
     "name": "stdout",
     "output_type": "stream",
     "text": [
      "-------------------Mini-Batches-------------------\n",
      "Length of mini-batches: 30\n",
      "Length of last mini-batches: 12\n",
      "Number of mini-batches: 551\n",
      "Minibatch example:\n",
      "[11849 10915  3368  3480  8050 14589    44 16295  5368 11135 13347 11830\n",
      "  3350 14384  6712 14224 14084  3380  9105  8961 13766  4089   489  4927\n",
      "  7668 13574  5033 15931 14291  8729]\n",
      "------------------Online Batches------------------\n",
      "Number of online-batches: 16512\n",
      "Online batch example:\n",
      "[11849]\n",
      "---------------------Batches----------------------\n",
      "Number of batches: 1\n",
      "Batch example:\n",
      "[11849 10915  3368 ...  9845 10799  2732]\n",
      "--------------------------------------------------\n",
      "Your code PASSED all the code checks! \n"
     ]
    }
   ],
   "source": [
    "def TEST_get_batches():\n",
    "    X_trn, _, _, _, = get_preprocessed_data()\n",
    "    print(\"{:-^50}\".format(\"Mini-Batches\"))\n",
    "    np.random.seed(0)\n",
    "    mini_batches = get_batches(len(X_trn), batch_size=30)\n",
    "    print(f\"Length of mini-batches: {len(mini_batches[0])}\")\n",
    "    print(f\"Length of last mini-batches: {len(mini_batches[-1])}\")\n",
    "    print(f\"Number of mini-batches: {len(mini_batches)}\")\n",
    "    print(f\"Minibatch example:\\n{mini_batches[0]}\")\n",
    "    print(\"{:-^50}\".format(\"Online Batches\"))\n",
    "    np.random.seed(0)\n",
    "    online_batches = get_batches(len(X_trn), batch_size=1)\n",
    "    print(f\"Number of online-batches: {len(online_batches)}\")\n",
    "    print(f\"Online batch example:\\n{online_batches[0]}\")\n",
    "    print(\"{:-^50}\".format(\"Batches\"))\n",
    "    np.random.seed(0)\n",
    "    batches =get_batches(len(X_trn), batch_size=len(X_trn))\n",
    "    print(f\"Number of batches: {len(batches)}\")\n",
    "    print(f\"Batch example:\\n{batches[0]}\")\n",
    "    print(\"-\"*50)\n",
    "    todo_check([\n",
    "        (\"mini_batches[0][-1] == 8729\", 'The first minibatch\\'s last sample should have the value 8729.'),\n",
    "        (\"len(mini_batches[0]) == 30\", 'mini_batches has wrong length for first batch.'),\n",
    "        (\"len(mini_batches) == 551\", 'mini_batches has wrong number of batches.'),\n",
    "        (\"len(mini_batches[-1]) == 12\", 'mini_batches last batch has wrong length.'),\n",
    "        (\"online_batches[0][-1] == 11849\", 'The first online sample should have the value 11849.'),\n",
    "        (\"online_batches[-1] == 2732\", 'The online batches last sample should have the value 2732.'),\n",
    "        (\"len(online_batches) == 16512\", 'online_batches has wrong number of batches.'),\n",
    "        (\"batches[0][-1] == 2732\", 'batches last sample should have the value 2732.'),\n",
    "        (\"len(batches) == 1\", 'batches has wrong number of batches.'),\n",
    "    ], **locals())\n",
    "TEST_get_batches()"
   ]
  },
  {
   "cell_type": "markdown",
   "id": "839a966d-9260-47ca-acac-fdd05a382221",
   "metadata": {},
   "source": [
    "## Metrics"
   ]
  },
  {
   "cell_type": "code",
   "execution_count": 22,
   "id": "762a449c-f6e5-465c-9e22-51aefa516522",
   "metadata": {},
   "outputs": [],
   "source": [
    "from sklearn.metrics import root_mean_squared_error as rmse\n",
    "from sklearn.metrics import mean_squared_error as mse"
   ]
  },
  {
   "cell_type": "markdown",
   "id": "32bec32b-8eb3-4b7d-aea6-9403f758cf4c",
   "metadata": {},
   "source": [
    "## Coding LMS\n",
    "\n",
    "Finally, it is time to practice *Least Mean Squares (LMS)*. Recall that the following equation is the update rule using the average gradient over a batch, which aims to slowly moving the weights towards achieving the smallest training error and optimal weights:\n",
    "\n",
    "$$\n",
    "\\begin{align}\n",
    "\\wv_{k+1} &=  \\wv_{k} - \\alpha \\nabla J(\\wv_{k}) \\\\\n",
    "&= \\wv_{k} - \\alpha \\Big [ \\frac{1}{B}\\sum_{i=0}^B \\Big( {\\wv_{k}}^\\top \\xv_i - y_i \\Big) \\xv_i \\Big ] \\\\\n",
    "&= \\wv_{k} - \\alpha \\Big [ \\frac{1}{B}\\sum_{i=0}^B \\Big( \\hat{y}_i - y_i \\Big) \\xv_i \\Big ] \\\\\n",
    "&= \\wv_{k} - \\alpha  \\frac{1}{B} \\Big [ \\Big( {\\wv_{k}}^\\top \\Xm_B - \\yv_B \\Big) \\Xm_B \\Big ].\n",
    "\\end{align}\n",
    "$$\n",
    "\n",
    "Here $B$ is the batch size or batch and $i$ indicates the current sample index in the batch. $\\wv_k$ is the current weight row vector, where each element corresponding to an input feature. $\\wv_{k+1}$ indicates the weights after being updated using the current data sample $i$. $\\xv_i$ is the current data samples or vector of input features, and $y_i$ is the current target for said data sample. \n",
    "\n",
    "If $\\wv$ is a column vector, the equation becomes the following:\n",
    "\n",
    "$$\n",
    "\\begin{align}\n",
    "\\wv_{k+1}  &= \\wv_{k} - \\alpha \\frac{1}{B} \\Big [ \\Xm_B^\\top \\Big( \\Xm_B {\\wv_{k}}  - \\yv_B \\Big) \\Big ]\n",
    "\\end{align}\n",
    "$$"
   ]
  },
  {
   "cell_type": "markdown",
   "id": "36079676-a3e5-4432-8e6e-d9c5445b717f",
   "metadata": {},
   "source": [
    "#### TODO 7 (30 points): LeastMeanSquares\n",
    "\n",
    "Complete the TODO by finishing the `LeastMeanSqaures` class.\n",
    "\n",
    "**`fit()` TODOs**\n",
    "\n",
    "1. Randomly initialize the weights `self.w` using the `np.random.rand()` function. The weights should be a 2D column vector $(N, 1)$ (if set to a 1D or row vector, then the equation(s) might change slightly). Store the output into the class variable `self.w`.\n",
    "\n",
    "2. Fetch the batches indices by calling the  `get_batches()`function and passing its corresponding arguments. Store the output in `batches`.\n",
    "    1. Hint: Pass the arguments that correspond to the following descriptions:\n",
    "        1. Number of data samples in `X`.\n",
    "        2. The batch size (refer to the `LeastMeanSquares` class variables).\n",
    " \n",
    "3. Compute the mean gradient for the current the batch. Do so by indexing the training data `X` and `y` using the current batch indices `i`. Store the output into `mean_grad`.\n",
    "    1. Hint: $\\xv_m$ and  $\\Xm_B$ refers to the data $X$ indexed at the batch indices $m$ or $B$. Here, $m$ or $B$ corresponds directly with `i`.\n",
    "    2. Hint: `mean_grad` will need to be the same shape as `self.w`.\n",
    "\n",
    "4. Update the weights `self.w` using the gradient update equations and the mean gradient `mean_grad`. Store the output back into `self.w`.\n",
    "\n",
    "**`predict()` TODOs**\n",
    "\n",
    "5. Compute the predictions by taking the linear combination between the weights and passed data. Return the predictions as a 2D column vector."
   ]
  },
  {
   "cell_type": "code",
   "execution_count": 23,
   "id": "0d86abc5-b50e-4dd5-a983-e5cad85c885e",
   "metadata": {
    "deletable": false,
    "nbgrader": {
     "cell_type": "code",
     "checksum": "7e9cef681625043135bcaefc9841220c",
     "grade": false,
     "grade_id": "cell-0cfd7fad92173d7c",
     "locked": false,
     "schema_version": 3,
     "solution": true,
     "task": false
    }
   },
   "outputs": [],
   "source": [
    "class LeastMeanSquares():\n",
    "    \"\"\" Performs regression using least mean squares (gradient descent)\n",
    "    \n",
    "        Attributes:\n",
    "\n",
    "            alpha: learning rate or step size\n",
    "                \n",
    "            batch_size: Size of mini-batches for mini-batch gradient\n",
    "                descent.\n",
    "            \n",
    "            epochs: Number of epochs to run for mini-batch\n",
    "                gradient descent\n",
    "                \n",
    "            seed: Seed to be used for NumPy's RandomState class\n",
    "                or universal seed np.random.seed() function.\n",
    "\n",
    "            w: 2D column vector of weights \n",
    "\n",
    "            trn_error: Stores the training error for each epoch.\n",
    "    \"\"\"\n",
    "\n",
    "    def __init__(\n",
    "        self, \n",
    "        alpha: float ,\n",
    "        batch_size: int,\n",
    "        seed: int = 0,\n",
    "        epochs: int = 1,\n",
    "    ):\n",
    "        self.alpha = alpha\n",
    "        self.batch_size = batch_size\n",
    "        self.epochs = epochs\n",
    "        self.seed = seed\n",
    "        self.w: np.ndarray = None\n",
    "        self.trn_error: list = None\n",
    "\n",
    "    def fit(self, X: np.ndarray, y: np.ndarray) -> object:\n",
    "        \"\"\" Train LMS to learn weights\n",
    "\n",
    "            Args:\n",
    "                X: Training data given as a matrix\n",
    "\n",
    "                y: Training labels given as a 2D column vector\n",
    "                \n",
    "            Returns:\n",
    "                The class's own object reference. \n",
    "        \"\"\"\n",
    "        # Set seed for reproducibility\n",
    "        np.random.seed(self.seed)\n",
    "        # Track training error\n",
    "        self.trn_error = []\n",
    "        \n",
    "        # TODO 7.1\n",
    "        self.w = np.random.rand(X.shape[1], 1)\n",
    "        \n",
    "        # Loop over training epochs\n",
    "        for e in range(self.epochs):\n",
    "            # TODO 7.2\n",
    "            batches = []\n",
    "            batches = get_batches(len(X), self.batch_size)\n",
    "            \n",
    "            # Loop over batched data indices\n",
    "            for i in batches:\n",
    "                # TODO 7.3\n",
    "                mean_grad = -2 * X[i].T.dot(y[i] - X[i].dot(self.w)) / len(X[i])\n",
    "\n",
    "                # TODO 7.4\n",
    "                self.w -= self.alpha * mean_grad\n",
    "\n",
    "            # Compute training error for current epoch\n",
    "            preds = self.predict(X)\n",
    "            trn_error = rmse(y, preds)\n",
    "            self.trn_error.append(trn_error)\n",
    "            \n",
    "        return self\n",
    "        \n",
    "    def predict(self, X: np.ndarray) -> np.ndarray:\n",
    "        \"\"\" Make predictions using learned weights\n",
    "\n",
    "            Args:\n",
    "                X: Data given as a matrix\n",
    "\n",
    "            Returns:\n",
    "                A 2D column vector of predictions for each data sample in X\n",
    "        \"\"\"\n",
    "         # TODO 7.5\n",
    "        return X.dot(self.w)"
   ]
  },
  {
   "cell_type": "markdown",
   "id": "b490f61d-c0ac-42ef-93d3-128311282c67",
   "metadata": {},
   "source": [
    "##### Online Training Test\n",
    "\n",
    "Test `LeastMeanSquares` using batch size of 1."
   ]
  },
  {
   "cell_type": "code",
   "execution_count": 24,
   "id": "4742e6f9-3841-4d2a-9239-5ae131dc41c2",
   "metadata": {
    "deletable": false,
    "editable": false,
    "nbgrader": {
     "cell_type": "code",
     "checksum": "342fc71d944ccc3dd219e4430977c8dc",
     "grade": true,
     "grade_id": "cell-8fe450a563cfdcc6",
     "locked": true,
     "points": 10,
     "schema_version": 3,
     "solution": false,
     "task": false
    }
   },
   "outputs": [
    {
     "name": "stdout",
     "output_type": "stream",
     "text": [
      "Dummy X shape: (100, 2)\n",
      "Dummy y shape: (100, 1)\n",
      "Dummy y_hat shape: (100, 1)\n",
      "Dummy Train MSE: 0.08499012369842723\n",
      "Dummy Train RMSE: 0.29153065653276883\n",
      "Dummy Final weights: [2.49187174 0.99243214]\n"
     ]
    },
    {
     "data": {
      "image/png": "[encoded data removed]",
      "text/plain": [
       "<Figure size 640x480 with 1 Axes>"
      ]
     },
     "metadata": {},
     "output_type": "display_data"
    },
    {
     "name": "stdout",
     "output_type": "stream",
     "text": [
      "Your code PASSED all the code checks! +10 points\n"
     ]
    }
   ],
   "source": [
    "def TEST_online_LeastMeanSquares():    \n",
    "    m = 100\n",
    "    rng = np.random.RandomState(42)\n",
    "    X = 6 * rng.rand(m, 1) - 3\n",
    "    y = (2 + X) + rng.rand(m, 1)\n",
    "    X1 = np.hstack([np.ones((len(X), 1)), X])\n",
    "    print(f\"Dummy X shape: {X1.shape}\")\n",
    "    print(f\"Dummy y shape: {y.shape}\")\n",
    "    \n",
    "    lms = LeastMeanSquares(\n",
    "        alpha=.001, \n",
    "        batch_size=1, \n",
    "        epochs=30,\n",
    "        seed=42\n",
    "    )\n",
    "    lms.fit(X1, y)\n",
    "    y_hat = lms.predict(X1)\n",
    "    print(f\"Dummy y_hat shape: {y_hat.shape}\")\n",
    "    trn_mse = mse(y, y_hat)\n",
    "    trn_rmse = rmse(y, y_hat)\n",
    "    print(f\"Dummy Train MSE: {trn_mse}\")\n",
    "    print(f\"Dummy Train RMSE: {trn_rmse}\")\n",
    "    print(f\"Dummy Final weights: {lms.w.flatten()}\")\n",
    "    plt.title(\"Online Test\")\n",
    "    plt.plot(X, y, 'ob')\n",
    "    plt.plot(X, y_hat, '-r', linewidth=2)\n",
    "    plt.xlabel(\"X\")\n",
    "    plt.ylabel(\"y\")\n",
    "    plt.show();\n",
    "    \n",
    "    todo_check([\n",
    "        (\"rmse == sklearn.metrics.root_mean_squared_error\", \"rmse does not seem to be sklearn.metrics.root_mean_squared_error\"),\n",
    "        (\"np.isclose(trn_rmse, 0.31103, rtol=.1)\", \"Train RMSE value is potentially incorrect!\"),\n",
    "        (\"np.all(np.isclose(lms.w.flatten(), [2.38788, 0.98483],  rtol=.1))\", 'lms.w values are possibly incorrect!')\n",
    "    ], success_msg=\"+10 points\", **locals())\n",
    "\n",
    "TEST_online_LeastMeanSquares()"
   ]
  },
  {
   "cell_type": "markdown",
   "id": "5235250a-2365-4843-a6c9-a872bc0eb481",
   "metadata": {},
   "source": [
    "##### Minibatch Training Test\n",
    "\n",
    "Test `LeastMeanSquares` using minibatch size 32. "
   ]
  },
  {
   "cell_type": "code",
   "execution_count": 25,
   "id": "0464cc20-fe93-495c-9755-82dacf5ffe40",
   "metadata": {
    "deletable": false,
    "editable": false,
    "nbgrader": {
     "cell_type": "code",
     "checksum": "7a2cac5e954a01c733eadb42e08d32b5",
     "grade": true,
     "grade_id": "cell-ace80acc958c4eac",
     "locked": true,
     "points": 10,
     "schema_version": 3,
     "solution": false,
     "task": false
    }
   },
   "outputs": [
    {
     "name": "stdout",
     "output_type": "stream",
     "text": [
      "Dummy X shape: (100, 2)\n",
      "Dummy y shape: (100, 1)\n",
      "Dummy y_hat shape: (100, 1)\n",
      "Dummy Train MSE: 0.09341262682754534\n",
      "Dummy Train RMSE: 0.3056347932214939\n",
      "Dummy Final weights: [2.51600863 0.94509232]\n"
     ]
    },
    {
     "data": {
      "image/png": "[encoded data removed]",
      "text/plain": [
       "<Figure size 640x480 with 1 Axes>"
      ]
     },
     "metadata": {},
     "output_type": "display_data"
    },
    {
     "name": "stdout",
     "output_type": "stream",
     "text": [
      "Your code PASSED all the code checks! +10 points\n"
     ]
    }
   ],
   "source": [
    "def TEST_minibatch_LeastMeanSquares():    \n",
    "    m = 100\n",
    "    rng = np.random.RandomState(42)\n",
    "    X = 6 * rng.rand(m, 1) - 3\n",
    "    y = (2 + X) + rng.rand(m, 1)\n",
    "    X1 = np.hstack([np.ones((len(X), 1)), X])\n",
    "    print(f\"Dummy X shape: {X1.shape}\")\n",
    "    print(f\"Dummy y shape: {y.shape}\")\n",
    "    \n",
    "    lms = LeastMeanSquares(\n",
    "        alpha=.1, \n",
    "        batch_size=32, \n",
    "        epochs=30,\n",
    "        seed=42\n",
    "    )\n",
    "    lms.fit(X1, y)\n",
    "    y_hat = lms.predict(X1)\n",
    "    print(f\"Dummy y_hat shape: {y_hat.shape}\")\n",
    "    trn_mse = mse(y, y_hat)\n",
    "    trn_rmse = rmse(y, y_hat)\n",
    "    print(f\"Dummy Train MSE: {trn_mse}\")\n",
    "    print(f\"Dummy Train RMSE: {trn_rmse}\")\n",
    "    print(f\"Dummy Final weights: {lms.w.flatten()}\")\n",
    "    plt.title(\"Minibatch Test\")\n",
    "    plt.plot(X, y, 'ob')\n",
    "    plt.plot(X, y_hat, '-r', linewidth=2)\n",
    "    plt.xlabel(\"X\")\n",
    "    plt.ylabel(\"y\")\n",
    "    plt.show();\n",
    "    \n",
    "    todo_check([\n",
    "        (\"rmse == sklearn.metrics.root_mean_squared_error\", \"rmse does not seem to be sklearn.metrics.root_mean_squared_error\"),\n",
    "        (\"np.isclose(trn_rmse, 0.297, rtol=.1)\", \"Train RMSE value is potentially incorrect!\"),\n",
    "        (\"np.all(np.isclose(lms.w.flatten(), [2.50892, 0.963612],  rtol=.1))\", 'lms.w values are possibly incorrect!')\n",
    "    ], success_msg=\"+10 points\", **locals())\n",
    "\n",
    "TEST_minibatch_LeastMeanSquares()"
   ]
  },
  {
   "cell_type": "markdown",
   "id": "57bfab70-2923-4700-940e-5fc97b1b849d",
   "metadata": {},
   "source": [
    "##### Batch Training Test\n",
    "\n",
    "Test `LeastMeanSquares` using batch gradient descent."
   ]
  },
  {
   "cell_type": "code",
   "execution_count": 26,
   "id": "fb5653d7-9233-4189-b0d9-4542046e6918",
   "metadata": {
    "deletable": false,
    "editable": false,
    "nbgrader": {
     "cell_type": "code",
     "checksum": "df3f2783330954084a1d0380258bce22",
     "grade": true,
     "grade_id": "cell-68df527f5fea8a39",
     "locked": true,
     "points": 10,
     "schema_version": 3,
     "solution": false,
     "task": false
    }
   },
   "outputs": [
    {
     "name": "stdout",
     "output_type": "stream",
     "text": [
      "Dummy X shape: (100, 2)\n",
      "Dummy y shape: (100, 1)\n",
      "Dummy y_hat shape: (100, 1)\n",
      "Dummy Train MSE: 0.08496498247240929\n",
      "Dummy Train RMSE: 0.29148753399143723\n",
      "Dummy Final weights: [2.49391667 0.99417439]\n"
     ]
    },
    {
     "data": {
      "image/png": "[encoded data removed]",
      "text/plain": [
       "<Figure size 640x480 with 1 Axes>"
      ]
     },
     "metadata": {},
     "output_type": "display_data"
    },
    {
     "name": "stdout",
     "output_type": "stream",
     "text": [
      "Your code PASSED all the code checks! +10 points\n"
     ]
    }
   ],
   "source": [
    "def TEST_batch_LeastMeanSquares():    \n",
    "    m = 100\n",
    "    rng = np.random.RandomState(42)\n",
    "    X = 6 * rng.rand(m, 1) - 3\n",
    "    y = (2 + X) + rng.rand(m, 1)\n",
    "    X1 = np.hstack([np.ones((len(X), 1)), X])\n",
    "    print(f\"Dummy X shape: {X1.shape}\")\n",
    "    print(f\"Dummy y shape: {y.shape}\")\n",
    "    \n",
    "    lms = LeastMeanSquares(\n",
    "        alpha=.1, \n",
    "        batch_size=len(X), \n",
    "        epochs=30,\n",
    "        seed=42\n",
    "    )\n",
    "    lms.fit(X1, y)\n",
    "    y_hat = lms.predict(X1)\n",
    "    print(f\"Dummy y_hat shape: {y_hat.shape}\")\n",
    "    trn_mse = mse(y, y_hat)\n",
    "    trn_rmse = rmse(y, y_hat)\n",
    "    print(f\"Dummy Train MSE: {trn_mse}\")\n",
    "    print(f\"Dummy Train RMSE: {trn_rmse}\")\n",
    "    print(f\"Dummy Final weights: {lms.w.flatten()}\")\n",
    "    plt.title(\"Batch Test\")\n",
    "    plt.plot(X, y, 'ob')\n",
    "    plt.plot(X, y_hat, '-r', linewidth=2)\n",
    "    plt.xlabel(\"X\")\n",
    "    plt.ylabel(\"y\")\n",
    "    plt.show();\n",
    "    \n",
    "    todo_check([\n",
    "        (\"rmse == sklearn.metrics.root_mean_squared_error\", \"rmse does not seem to be sklearn.metrics.root_mean_squared_error\"),\n",
    "        (\"np.isclose(trn_rmse, .30, rtol=.1)\", \"Train RMSE value is potentially incorrect!\"),\n",
    "        (\"np.all(np.isclose(lms.w.flatten(), [2.40286, 0.98677],  rtol=.1))\", 'lms.w values are possibly incorrect!')\n",
    "    ], success_msg=\"+10 points\", **locals())\n",
    "    \n",
    "TEST_batch_LeastMeanSquares()"
   ]
  },
  {
   "cell_type": "markdown",
   "id": "94da83f5-abe9-4dce-942d-cf71fd08f7f3",
   "metadata": {},
   "source": [
    "## House Price Prediction with LMS"
   ]
  },
  {
   "cell_type": "markdown",
   "id": "6c41a79a-2ec8-4a4b-8e99-f00fb9523dd2",
   "metadata": {},
   "source": [
    "#### TODO 8 (15 points): Training and Evaluating LMS\n",
    "\n",
    "Complete the code below for training the `LeastMeanSquares` using the housing dataset. To pass the TODO check(s) you will need to reduce the RMSE below multiple thresholds. For each TODO check that you pass, points will be awarded. Do so by experimenting with various hyperparameters (i.e., initialization arguments) for  `LeastMeanSquares`. \n",
    "\n",
    "1. Initialize `LeastMeanSquares` by passing the required arguments. You will need to test various different combinations of arguments. Store the output into `lms`.\n",
    "    1. Hint: Using a larger batch size can decrease the time it takes for the algorithm to run and can allow for a larger learning rate.\n",
    "    2. Hint: Using a smaller batch size can increase the time it takes for the algorithm to run and often requires much smaller learning rates.\n",
    "    3. Hint: Seed will change the random weight initialization and the random order of the batches for each epoch.\n",
    "    4. **WARNING: Many epochs and a small batch size will greatly increase the time it takes for the algorithm to run! Avoid this!**\n",
    "<br><br>\n",
    "2. Train the LMS algorithm using the training data.\n",
    "<br><br>\n",
    "3. Compute the **training** predictions, MSE, and RMSE. Print out the MSE and RMSE values to see the final training score.\n",
    "    1. Hint: It can be helpful to print out the MSE and RMSE values to see the final training scores. \n",
    "<br><br>\n",
    "4. Compute the **testing** predictions, MSE, and RMSE.\n",
    "    1. Hint: It can be helpful to print out the MSE and RMSE values to see the final testing scores.\n",
    "  \n",
    "**Tips**\n",
    "- Uncomment the code marked as `### Plotting Code ###` to plot the learning curve (i.e., training error after each epoch finishes training). This can help you select the best hyperparameters!"
   ]
  },
  {
   "cell_type": "code",
   "execution_count": 31,
   "id": "2f65d3be-1108-4870-bdb4-1c5a10e3bca0",
   "metadata": {
    "deletable": false,
    "nbgrader": {
     "cell_type": "code",
     "checksum": "1fc240fc2ad2053434229cd34b3c2b4d",
     "grade": false,
     "grade_id": "cell-b51c0cb8e3a8e825",
     "locked": false,
     "schema_version": 3,
     "solution": true,
     "task": false
    }
   },
   "outputs": [
    {
     "name": "stdout",
     "output_type": "stream",
     "text": [
      "Training\n",
      " \tMSE: 0.5222 \tRMSE: 0.7227\n",
      "Testing\n",
      " \tMSE: 0.5492 \tRMSE: 0.7411\n"
     ]
    },
    {
     "data": {
      "image/png": "[encoded data removed]",
      "text/plain": [
       "<Figure size 640x480 with 1 Axes>"
      ]
     },
     "metadata": {},
     "output_type": "display_data"
    }
   ],
   "source": [
    "# Get training and testing data\n",
    "X_trn, y_trn, X_tst, y_tst = get_preprocessed_data()\n",
    "\n",
    "# TODO 8.1\n",
    "lms = LeastMeanSquares(.015, 64, 42, 200)\n",
    "\n",
    "\n",
    "# TODO 8.2\n",
    "lms.fit(X_trn, y_trn)\n",
    "\n",
    "# TODO 8.3\n",
    "# Compute training predictions and metrics\n",
    "prediction_trn = lms.predict(X_trn)\n",
    "mse_trn = mse(y_trn, prediction_trn)\n",
    "rmse_trn = rmse(y_trn, prediction_trn)\n",
    "\n",
    "print(f\"Training\\n \\tMSE: {mse_trn:.4f} \\tRMSE: {rmse_trn:.4f}\")\n",
    "\n",
    "# TODO 8.4: \n",
    "# Compute testing predictions and metrics\n",
    "prediction_tst = lms.predict(X_tst)\n",
    "mse_tst = mse(y_tst, prediction_tst)\n",
    "rmse_tst = rmse(y_tst, prediction_tst)\n",
    "\n",
    "print(f\"Testing\\n \\tMSE: {mse_tst:.4f} \\tRMSE: {rmse_tst:.4f}\")\n",
    "\n",
    "### Plotting Code ###\n",
    "plt.plot(lms.trn_error, label='train')\n",
    "plt.title(\"LMS Learning Curve\")\n",
    "plt.xlabel(\"Epochs\")\n",
    "plt.ylabel(\"Error\")\n",
    "plt.legend(bbox_to_anchor=(1.2, 1.00))\n",
    "plt.show()"
   ]
  },
  {
   "cell_type": "code",
   "execution_count": 28,
   "id": "1395e66c-be43-4319-b8eb-b1b63be6c7e6",
   "metadata": {
    "deletable": false,
    "editable": false,
    "nbgrader": {
     "cell_type": "code",
     "checksum": "f14bccb9943ad8628a7e78470f9bb65e",
     "grade": true,
     "grade_id": "cell-431da58f3efbda74",
     "locked": true,
     "points": 4,
     "schema_version": 3,
     "solution": false,
     "task": false
    }
   },
   "outputs": [
    {
     "name": "stdout",
     "output_type": "stream",
     "text": [
      "Your code PASSED all the code checks! +4 points\n"
     ]
    }
   ],
   "source": [
    "def easy_check():\n",
    "    _, _, X_tst, y_tst = get_preprocessed_data()\n",
    "    todo_check([\n",
    "        (\"rmse == sklearn.metrics.root_mean_squared_error\", \"rmse does not seem to be sklearn.metrics.root_mean_squared_error\"),\n",
    "        (\"rmse(y_tst, lms.predict(X_tst)) <= 0.80\", \"RMSE was not less than or equal to 0.80\"),\n",
    "    ],success_msg=\"+4 points\")\n",
    "easy_check()"
   ]
  },
  {
   "cell_type": "code",
   "execution_count": 29,
   "id": "cf8dcc0e-b9ea-49c9-ac46-8bf51fdbedff",
   "metadata": {
    "deletable": false,
    "editable": false,
    "nbgrader": {
     "cell_type": "code",
     "checksum": "4b0d7ada94f2d47b98d350358b434bc2",
     "grade": true,
     "grade_id": "cell-23aabbcd28f9bca2",
     "locked": true,
     "points": 5,
     "schema_version": 3,
     "solution": false,
     "task": false
    }
   },
   "outputs": [
    {
     "name": "stdout",
     "output_type": "stream",
     "text": [
      "Your code PASSED all the code checks! +5 points\n"
     ]
    }
   ],
   "source": [
    "def medium_check():\n",
    "    _, _, X_tst, y_tst = get_preprocessed_data()\n",
    "    todo_check([\n",
    "        (\"rmse == sklearn.metrics.root_mean_squared_error\", \"rmse does not seem to be sklearn.metrics.root_mean_squared_error\"),\n",
    "        (\"rmse(y_tst, lms.predict(X_tst)) <= 0.76\", \"RMSE was not less than or equal to 0.76\"),\n",
    "    ],success_msg=\"+5 points\")\n",
    "medium_check()"
   ]
  },
  {
   "cell_type": "code",
   "execution_count": 30,
   "id": "9a9fc09d-97b2-43e6-ab53-bbd6cd7563db",
   "metadata": {
    "deletable": false,
    "editable": false,
    "nbgrader": {
     "cell_type": "code",
     "checksum": "4f5fbc5b8c63ff7ef06f6aa464e86cd0",
     "grade": true,
     "grade_id": "cell-1d2efb303f220d26",
     "locked": true,
     "points": 6,
     "schema_version": 3,
     "solution": false,
     "task": false
    }
   },
   "outputs": [
    {
     "name": "stdout",
     "output_type": "stream",
     "text": [
      "Your code PASSED all the code checks! +6 points\n"
     ]
    }
   ],
   "source": [
    "def hard_check():\n",
    "    _, _, X_tst, y_tst = get_preprocessed_data()\n",
    "    todo_check([\n",
    "        (\"rmse == sklearn.metrics.root_mean_squared_error\", \"rmse does not seem to be sklearn.metrics.root_mean_squared_error\"),\n",
    "        (\"rmse(y_tst, lms.predict(X_tst)) <= 0.74\", \"RMSE was not less than or equal to 0.74\"),\n",
    "    ],success_msg=\"+6 points\")\n",
    "hard_check()"
   ]
  },
  {
   "cell_type": "code",
   "execution_count": null,
   "id": "6841bd53-0f1b-4485-938a-23f425922fce",
   "metadata": {},
   "outputs": [],
   "source": []
  }
 ],
 "metadata": {
  "kernelspec": {
   "display_name": "Python 3 (ipykernel)",
   "language": "python",
   "name": "python3"
  },
  "language_info": {
   "codemirror_mode": {
    "name": "ipython",
    "version": 3
   },
   "file_extension": ".py",
   "mimetype": "text/x-python",
   "name": "python",
   "nbconvert_exporter": "python",
   "pygments_lexer": "ipython3",
   "version": "3.9.19"
  }
 },
 "nbformat": 4,
 "nbformat_minor": 5
}
