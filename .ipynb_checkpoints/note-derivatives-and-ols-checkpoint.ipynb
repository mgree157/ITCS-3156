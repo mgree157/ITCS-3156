{
 "cells": [
  {
   "cell_type": "markdown",
   "metadata": {},
   "source": [
    "# Derivatives and Ordinary Least Squares"
   ]
  },
  {
   "cell_type": "code",
   "execution_count": 1,
   "metadata": {},
   "outputs": [],
   "source": [
    "import matplotlib.pyplot as plt\n",
    "import numpy as np\n",
    "%matplotlib inline "
   ]
  },
  {
   "cell_type": "markdown",
   "metadata": {},
   "source": [
    "## Table of Notation\n",
    "\n",
    "$\n",
    "\\newcommand{\\xv}{\\mathbf{x}}\n",
    "\\newcommand{\\wv}{\\mathbf{w}}\n",
    "\\newcommand{\\yv}{\\mathbf{y}}\n",
    "\\newcommand{\\tv}{\\mathbf{t}}\n",
    "\\newcommand{\\zv}{\\mathbf{z}}\n",
    "\\newcommand{\\uv}{\\mathbf{u}}\n",
    "\\newcommand{\\vv}{\\mathbf{v}}\n",
    "\\newcommand{\\bv}{\\mathbf{b}}\n",
    "\\newcommand{\\av}{\\mathbf{a}}\n",
    "\\newcommand{\\Chi}{\\mathcal{X}}\n",
    "\\newcommand{\\R}{\\rm I\\!R}\n",
    "\\newcommand{\\sign}{\\text{sign}}\n",
    "\\newcommand{\\Ym}{\\mathbf{Y}}\n",
    "\\newcommand{\\Tm}{\\mathbf{T}}\n",
    "\\newcommand{\\Xm}{\\mathbf{X}}\n",
    "\\newcommand{\\Wm}{\\mathbf{W}}\n",
    "\\newcommand{\\Zm}{\\mathbf{Z}}\n",
    "\\newcommand{\\Um}{\\mathbf{U}}\n",
    "\\newcommand{\\Vm}{\\mathbf{V}}\n",
    "\\newcommand{\\Am}{\\mathbf{A}}\n",
    "\\newcommand{\\muv}{\\boldsymbol\\mu}\n",
    "\\newcommand{\\Sigmav}{\\boldsymbol\\Sigma}\n",
    "\\newcommand{\\Lambdav}{\\boldsymbol\\Lambda}\n",
    "\\newcommand{\\xspace}{\\mathcal{X}}\n",
    "\\newcommand{\\yspace}{\\mathcal{Y}}\n",
    "$\n",
    "\n",
    "| Symbol                | Meaning                       | Symbol                                              | Meaning                        |\n",
    "|-----------------------|-------------------------------|-----------------------------------------------------|--------------------------------|\n",
    "| $D$                   | dataset                       | $h$<br>$f$                                          | hypothesis function            |\n",
    "| $\\Xm$                 | input matrix                  | $x_{i,j}$                                           | $i$th row and $j$th column     |\n",
    "| $\\xv$<br>$\\vec{x}$    | feature/input vector          | $x_i$                                               | $i$th element                  |\n",
    "| $\\Ym$<br>$\\Tm$        | labels/targets matrix         | $\\yv$<br>$\\tv$                                      | labels/targets vector          |\n",
    "| $N$                   | number of features or columns | $M$                                                 | number of data samples or rows |\n",
    "| $n$                   | feature or column index       | $m$                                                 | data sample or row index |\n",
    "| $(\\xv, \\yv)$          | training sample               | $(\\xv', \\yv')$                                      | testing sample                 |\n",
    "|                       |                               | $\\hat{\\yv}$<br>$f(\\xv {;} \\wv)$<br>$h(\\xv {;} \\wv)$ | predictions                    |\n",
    "| $b$                   | bias or y-intercept term      | $w$<br>$\\wv$<br>$\\Wm$                               | wights                         |\n",
    "| $E$                   | error                         | $SSE$                                               | sum of squared error function  |\n",
    "| $MSE$                 | mean squared error   "
   ]
  },
  {
   "cell_type": "markdown",
   "metadata": {},
   "source": [
    "\n",
    "$\\newcommand{\\xv}{\\mathbf{x}}\n",
    " \\newcommand{\\tv}{\\mathbf{t}}\n",
    " \\newcommand{\\wv}{\\mathbf{w}}\n",
    " \\newcommand{\\Chi}{\\mathcal{X}}\n",
    " \\newcommand{\\R}{\\rm I\\!R}\n",
    " \\newcommand{\\sign}{\\text{sign}}\n",
    " \\newcommand{\\Tm}{\\mathbf{T}}\n",
    " \\newcommand{\\Xm}{\\mathbf{X}}\n",
    " \\newcommand{\\Im}{\\mathbf{I}}\n",
    "$"
   ]
  },
  {
   "cell_type": "markdown",
   "metadata": {},
   "source": [
    "# Supervised Learning: Regression Review \n",
    "\n",
    "$$ f: \\xspace \\rightarrow \\yspace $$\n",
    "\n",
    "Recall supervised learning can be formulated as above where we want to map a given input space $\\mathcal{X}$ (i.e., data) to some output space $\\mathcal{Y}$ (i.e., labels/targets). \n",
    "\n",
    "For instance, if we want to predict temperature we might look for the data that we can use as our input $\\Xm \\in \\R^{M, N}$ which has $M$ *data samples* (rows) and $N$ *features* (columns) such as humidity, history of temperature changes, air pressure, and vapor pressure. Additionally, we might have outputs or labels $\\yv$ that correspond to today's temperature where $\\yv \\in \\R^M$ such that we have $M$ real-valued labels. Once we have either recorded or found some weather data, our data might look like the following: \n",
    "\n",
    "humidity (%) | last year temperature (&ordm;F) | yesterday's air pressure (inHG) | vapor pressure (inHG) | **Today's Temp** (&ordm;F)\n",
    "---|---|---|---|---\n",
    "23 | 72 | 30.12 | 0.79 | 76\n",
    "15 | 82 | 29.32 | 0.68 | 81\n",
    " | | ... | |\n",
    "\n",
    "Here, we note that the labels are *today's* not *tomorrow's* temperature. \n",
    "\n",
    "We refer to the process for when a model is learning from data as *training*. Thus, the dataset used for training (both the labels and the features) is referred to as either the *training set* or *training dataset*. In the above example, each row of the contains *data samples*, more specifically *training samples*, which will be fed to the model for learning. \n",
    "\n",
    "Once you have data to work with, now you can apply learning algorithms (referred to using either $f$ or $h$) to find *weights* or *parameters*. A model with learned weights/parameters is also often referred to as our *hypothesis* function. We can make predictions using our hypothesis function (i.e., model). For instance, we can then generate today's predicted temperature given the current data features. If training is successful, we'll likely get a good prediction!"
   ]
  },
  {
   "cell_type": "markdown",
   "metadata": {},
   "source": [
    "# Defining Linear Models\n",
    "\n",
    "Linear models make predictions by computing a *linear combination* of that input features. In other words, a linear model computes a weighted sum of the input features with the model's learned weights, where a bias term (also called the y-intercept term) is added to make the model more flexible (more on this soon).\n",
    "\n",
    "Thus, to make a prediction for a **single data sample** we compute the following\n",
    "\n",
    "$$\n",
    "\\begin{align}\n",
    "\\hat{y} &= w_0 +w_1 x_1 + ... +w_N x_N \\\\\n",
    "\\\\\n",
    " &= \\sum_{n=0}^{N} w_n x_n \\quad\\text{where } x_0 = 1  \\tag{3a}\\\\\n",
    "\\end{align}\n",
    "$$\n",
    "\n",
    "where in this equation:\n",
    "\n",
    "- $\\hat{y}$ is the prediction value/output\n",
    "- $N$ is the number of features\n",
    "- $x_n$ is the $n$th feature value (a scalar)\n",
    "    - $x_0$ is an additional feature we add to account for the bias term. We typically set $x_0 = 1$.\n",
    "- $w_n$ is the $n$th weight/parameter which includes the bias term at $w_0$.\n",
    "    - Note you will often see the weights/parameters referred to as $\\theta$ such that are equation becomes $\\hat{y} = \\theta_0 + \\theta_1 x_1 + ... + \\theta_N x_N$"
   ]
  },
  {
   "cell_type": "markdown",
   "metadata": {},
   "source": [
    "### Vector form\n",
    "\n",
    "We can further write the prediction of a **single data sample** in vector form as follows\n",
    "\n",
    "$$\n",
    "\\hat{y} = f_\\wv(\\xv) = h_\\wv(\\xv) = \\wv^\\top \\cdot \\xv = \\wv^\\top \\xv\n",
    "$$\n",
    "\n",
    "where in this equation: \n",
    "- $\\wv$ is the model's *weight/parameter vector* which is a vector containing all weights for each feature $w_1$ to $w_N\n",
    "$ and includes the bias term $w_0$.\n",
    "    - Thus, $\\wv$ looks like the following: $\n",
    "    \\begin{align}\n",
    "        \\wv &= \\begin{bmatrix}\n",
    "               w_{0} \\\\\n",
    "               w_{1} \\\\\n",
    "               \\vdots \\\\\n",
    "               w_{N}\n",
    "         \\end{bmatrix}\n",
    "      \\end{align}$\n",
    "      \n",
    "- $\\xv$ is the *feature vector* for a **single data sample** (a single row from your dataset) which contains the values for features $x_0$ to $x_N$ where $x_0$ is always 1 (recall $x_0$ corresponds to $w_0$ which is the bias term).\n",
    "    - Thus, $\\xv$ looks like the following: $\n",
    "    \\begin{align}\n",
    "        \\xv &= \\begin{bmatrix}\n",
    "               x_{0} \\\\\n",
    "               x_{1} \\\\\n",
    "               \\vdots \\\\\n",
    "               x_{N}\n",
    "         \\end{bmatrix}\n",
    "      \\end{align}$\n",
    "- $ \\wv^\\top \\cdot \\xv$ is the dot product of the vectors $\\wv$ and $\\xv$ which is equal to $w_0 +w_1 x_1 + ... +w_N x_N$\n",
    "\n",
    "- $f_\\wv$, or $h_\\wv$ are referred as the hypothesis function (i.e., the model) which uses the weights/parameters $\\wv$ or $\\mathbf{\\theta}$\n",
    "    - Note, we can also rewrite the hypothesis functions as $f(\\xv ;\\wv)$, or $h(\\xv ;\\wv)$ as well."
   ]
  },
  {
   "cell_type": "markdown",
   "metadata": {},
   "source": [
    "### Matrix form      \n",
    "Finally, we write the equation for computing the predictions for  **all the data samples in the dataset** as follows\n",
    "\n",
    "$$\n",
    "\\mathbf{\\hat{y}} = f_\\wv(\\Xm) = h_\\wv(\\Xm) = \\Xm \\cdot \\wv = \\Xm \\wv\n",
    "$$\n",
    "\n",
    "where in this equation: \n",
    "\n",
    "- $\\mathbf{\\hat{y}}$ is the *prediction vector* which contains the predictions for each data sample.\n",
    "    - Thus, $\\mathbf{\\hat{y}}$ looks like the following: $\n",
    "    \\begin{align}\n",
    "        \\mathbf{\\hat{y}} &= \\begin{bmatrix}\n",
    "               \\hat{y}_{0} \\\\\n",
    "               \\hat{y}_{1} \\\\\n",
    "               \\vdots \\\\\n",
    "               \\hat{y}_{M}\n",
    "         \\end{bmatrix}\n",
    "      \\end{align}$\n",
    "- $\\Xm$ is a *data matrix* which contains all the data (this could be the train or test data). Recall  $\\xv$ would be a single row from the matrix!\n",
    "    - Thus, $\\Xm$ looks like the following: $\n",
    "    \\begin{align}\n",
    "        \\mathbf{\\Xm} &= \\begin{bmatrix}\n",
    "               x_{0, 0}, x_{0, 1}, ..., x_{0, N} \\\\\n",
    "               x_{1, 0}, x_{1, 1}, ..., x_{1, N}  \\\\\n",
    "               x_{M, 0}, x_{M, 1}, ..., x_{M, N} \n",
    "         \\end{bmatrix}\n",
    "      \\end{align}$\n",
    "      - Alternatively, $\\Xm$ can be written as a matrix of vectors $\\xv_m$ as follows: $\n",
    "        \\begin{align}\n",
    "            \\mathbf{\\Xm} &= \\begin{bmatrix}\n",
    "                   - \\xv_{0} - \\\\\n",
    "                   - \\xv_{1} -  \\\\\n",
    "                   \\vdots \\\\\n",
    "                   - \\xv_{M} - \n",
    "             \\end{bmatrix}\n",
    "          \\end{align}$\n",
    "      "
   ]
  },
  {
   "cell_type": "markdown",
   "metadata": {},
   "source": [
    "### Linear Model Assumptions\n",
    "\n",
    "Recall for each algorithm we make a set of assumptions about the data the algorithms takes. Below are the list of assumptions linear models make. This part is slightly more technical. For now, just be aware that for linear models, we are making some assumptions that the data is supposed to follow. If one or more of these assumptions is violated, then the linear model *might* produce unreliable results, or it *might* not even work.\n",
    "\n",
    "\n",
    "**Assumptions**\n",
    "Below are 4 main assumptions linear models make. Often people will report 7-10 assumptions in total, but really these other assumptions arise from these main 4 assumptions.\n",
    "\n",
    "1. Linearity: There exists a linear relationship between the independent variable, $\\Xm$, and the dependent variable, $\\yv$.\n",
    "    1. When this assumption is violated, it means our data is likely non-linear and a linear model will not work!\n",
    "\n",
    "2. Independent: The errors (also called residuals) are independent of one another.\n",
    "    1. Violation of this assumption is mainly for time-series data and can lead to predictions that are vastly inaccurate.\n",
    "\n",
    "3. Normality: The errors are normally distributed\n",
    "    1. Violation of this assumption can be due to things such as:\n",
    "        1. Multicollinearity: Some of the features in our data $\\Xm$ are correlated with one another, which makes it hard for the model to learn which features actually matter when making predictions.\n",
    "        1. Missing explanatory features: Your data could be missing features that better explain the target/label.\n",
    "\n",
    "4. Equal variance (Homoscedasticity): The variance of errors is approximately equal.\n",
    "    1. When this assumption is violated, it indicates that certain observations (data samples) are affecting the model more than others. This can bias our model towards solutions that don't generalize well.\n",
    "\n",
    "\n",
    "\n",
    "If you are interested in learning more about these assumptions, please see the following readings:\n",
    "- [PennState SLR model Assumptions](https://online.stat.psu.edu/stat501/lesson/4/4.1)\n",
    "- [The Four Assumptions of Linear Regression](https://www.statology.org/linear-regression-assumptions/)\n",
    "\n"
   ]
  },
  {
   "cell_type": "markdown",
   "metadata": {},
   "source": [
    "### Advantages of Linear Model\n",
    "\n",
    "- Easy to implement \n",
    "    - This helps it to avoid overfitting but can often cause underfitting\n",
    "- Interpretable\n",
    "    - Linear models tend to be more interpretable, meaning it is easier to see *why* a prediction as made if we use a few interesting tricks like LASSO regularization.\n",
    "- Scalable\n",
    "    - Linear models tend to be pretty computationally efficient due to their simplicity"
   ]
  },
  {
   "cell_type": "markdown",
   "metadata": {},
   "source": [
    "### What does a linear model look like?\n",
    "\n",
    "Given the linear model definition above, if we have a 2-dimensional (2D) dataset $X$ that has only 1 feature (i.e., shape $(M, 1)$), we can derive the classical definition of a *line* which is \n",
    "\n",
    "$$\n",
    "y = mx + b,\n",
    "$$ \n",
    "\n",
    "where $m$ is the slope and $b$ is the y-intercept or bias. Note, this should remind you of the linear model we defined above! If we substitute weights $w_0$ and $w_1$ in for $b$ and $m$ we get the following:\n",
    "\n",
    "$$ y = w_1 x + w_0 $$\n",
    "\n",
    "We can further change the formula of a line to look more like the linear model definition by switching $y$ for $\\hat{y}$\n",
    "\n",
    "$$ \\hat{y} = w_1 x + w_0 $$\n",
    "\n",
    "Thus, in this simple case, you can think of the line model as finding the best slope $m$ and y-intercept or bias variable $b$. Let us take a look at this in code to get a better feel for what is happening."
   ]
  },
  {
   "cell_type": "markdown",
   "metadata": {},
   "source": [
    "Below we simply define some random linear data where `X` defines the data and `y` defines the labels/targets."
   ]
  },
  {
   "cell_type": "code",
   "execution_count": 2,
   "metadata": {},
   "outputs": [
    {
     "name": "stdout",
     "output_type": "stream",
     "text": [
      "Our data X shape: (100, 1)\n",
      "Our label y shape: (100, 1)\n"
     ]
    }
   ],
   "source": [
    "rng = np.random.RandomState(42)\n",
    "X = 2 * rng.rand(100, 1)\n",
    "y = 4 + 3 * X + rng.rand(100, 1)\n",
    "\n",
    "print(f\"Our data X shape: {X.shape}\")\n",
    "print(f\"Our label y shape: {y.shape}\")"
   ]
  },
  {
   "cell_type": "markdown",
   "metadata": {},
   "source": [
    "Here is what the data looks like when plotted."
   ]
  },
  {
   "cell_type": "code",
   "execution_count": 3,
   "metadata": {},
   "outputs": [
    {
     "data": {
      "image/png": "[encoded data removed]",
      "text/plain": [
       "<Figure size 640x480 with 1 Axes>"
      ]
     },
     "metadata": {},
     "output_type": "display_data"
    }
   ],
   "source": [
    "plt.plot(X, y, 'b.');\n",
    "plt.show()"
   ]
  },
  {
   "cell_type": "markdown",
   "metadata": {},
   "source": [
    "Below we make predictions $\\hat{y}$ and store them in the variable `y_hat` by setting values for `m` and `b`. We make the most naive line by taking the mean of the labels `y`! This requires us to set `m=0` and `b=np.mean(y)`."
   ]
  },
  {
   "cell_type": "code",
   "execution_count": 4,
   "metadata": {},
   "outputs": [
    {
     "data": {
      "image/png": "[encoded data removed]",
      "text/plain": [
       "<Figure size 640x480 with 1 Axes>"
      ]
     },
     "metadata": {},
     "output_type": "display_data"
    }
   ],
   "source": [
    "# m is the slope or w_1\n",
    "# this changes the steppness of the slope\n",
    "m = 0\n",
    "# b is the bias or w_0 \n",
    "# (this changes the y-intercept values)\n",
    "b = np.mean(y)\n",
    "\n",
    "# Here we can compute our line equation using simulated data X\n",
    "y_hat = m * X + b\n",
    "\n",
    "plt.plot(X, y, 'b.')\n",
    "plt.plot(X, y_hat, 'r')\n",
    "\n",
    "plt.ylabel('y')\n",
    "plt.xlabel('x')\n",
    "plt.ylim(0, 14)\n",
    "plt.xlim(0, 2)\n",
    "plt.show();"
   ]
  },
  {
   "cell_type": "markdown",
   "metadata": {},
   "source": [
    "**Take a second and see if you can't select better values by changing `m` and `b` in the below code.** "
   ]
  },
  {
   "cell_type": "code",
   "execution_count": 5,
   "metadata": {},
   "outputs": [
    {
     "data": {
      "image/png": "[encoded data removed]",
      "text/plain": [
       "<Figure size 640x480 with 1 Axes>"
      ]
     },
     "metadata": {},
     "output_type": "display_data"
    }
   ],
   "source": [
    "# m is the slope or w_1\n",
    "# this changes the steepness of the slope\n",
    "m = 6\n",
    "# b is the bias or w_0 \n",
    "# this changes the y-intercept values\n",
    "b = 1\n",
    "\n",
    "# Here we can compute our line equation using simulated data X\n",
    "y_hat = m * X + b\n",
    "\n",
    "plt.plot(X, y, 'b.')\n",
    "plt.plot(X, y_hat, 'r')\n",
    "plt.ylabel('y')\n",
    "plt.xlabel('x')\n",
    "plt.ylim(0, 14)\n",
    "plt.xlim(0, 2)\n",
    "plt.show();"
   ]
  },
  {
   "cell_type": "markdown",
   "metadata": {},
   "source": [
    "As you try different values, think about how do you know what the best line is? Visually, we can gage how well the line is doing. However, it would be easier if there was some quantifiable measure we could compute that indicated to use which line-of-fit was the best.  \n"
   ]
  },
  {
   "cell_type": "markdown",
   "metadata": {},
   "source": [
    "\n",
    "## Minimizing the Error Function\n",
    "\n",
    "Before we go any further, we need to define the terms *objective function* and *error function* as these terms will be used throughout the class. Following *Deep Learning* book by Ian Goodfellow, Yoshua Bengio, Aaron Courville\n",
    "\n",
    "> The function we want to minimize or maximize is called the **objective function**, or criterion. When we are minimizing it, we may also call it the **cost function**, **loss function**, or **error function**.\n",
    "\n",
    "Like the book, we will use these terms interchangeably, though some fields may assign special meaning to some of these terms.\n",
    "    \n",
    "To assess how \"good\" a line is fitting the data, we can use what we call an *error function*. Thus, we will want our error function to compute a score that indicates to use how well the model fits the data. Here, a model is said to have good fit when the error value is very low. A higher error value indicates a bad fit! What would then be a good error function for measuring how well a linear model fits the data?\n",
    "\n",
    "Welp, let us think for a second. Technically, we could assess if the line-of-best-fit is good or bad based on the distance every label is to the best fit line (i.e., predictions)! This might look like something below!"
   ]
  },
  {
   "cell_type": "code",
   "execution_count": 6,
   "metadata": {},
   "outputs": [
    {
     "data": {
      "image/png": "[encoded data removed]",
      "text/plain": [
       "<Figure size 640x480 with 1 Axes>"
      ]
     },
     "metadata": {},
     "output_type": "display_data"
    }
   ],
   "source": [
    "# m is the slope or w_1\n",
    "# this changes the steppness of the slope\n",
    "m = 6\n",
    "# b is the bias or w_0 \n",
    "# (this changes the y-intercept values)\n",
    "b = 1\n",
    "\n",
    "# Here we can compute our line equation using simulated data X\n",
    "y_hat = m * X + b\n",
    "\n",
    "# Plotting\n",
    "for i in range(len(y)):\n",
    "    plt.plot([X[i], X[i]], [y[i], y_hat[i]], 'black')\n",
    "plt.plot(X, y, 'b.')\n",
    "plt.plot(X, y_hat, 'r')\n",
    "\n",
    "plt.ylabel('y')\n",
    "plt.xlabel('x')\n",
    "plt.show();"
   ]
  },
  {
   "cell_type": "markdown",
   "metadata": {},
   "source": [
    "Okay, visually this might make a little more sense now, but how do we compute the length of those black lines which represent the distance between a given label and the line-of-best-fit? That turns out to actually be pretty easy, we simply subtract a predicted value $\\hat{y}$ from the corresponding label $y$ to get an *error*.\n",
    "\n",
    "$$ \n",
    "E = \\hat{y} - y\n",
    "$$\n",
    "\n",
    "Now, all we need to do is compute the error for all the data samples and sum over them to get a single total error $E$ referred to as the *cost*, *loss*, or *error*.\n",
    "\n",
    "$$\n",
    "E = \\sum_{m=1}^M \\big (\\hat{y}_m - y_m \\big )\n",
    "$$\n",
    "\n",
    "Wait a second, notice that if $ \\hat{y} < y$ the \"distance\" will be negative. If we sum negative values, we can potentially cancel out the positive distances. How can we avoid this?"
   ]
  },
  {
   "cell_type": "markdown",
   "metadata": {},
   "source": [
    "#### Sum of Squared Error (SSE) and Mean Squared Error (MSE)\n",
    "\n",
    "It turns out the solution to preventing negative distances is easy, just square the values. We typically do this instead of taking the absolute value for three reasons:\n",
    "\n",
    "1. Squaring the values means our error function is differentiable. Meaning, we can compute the derivative of this function. This will be important later on when we want to use gradient descent!\n",
    "2. Squaring the errors has an additional effect, sometimes good and sometimes bad, of emphasizing larger errors. This means when we have a large error, the squared error will be even larger.\n",
    "    1. Additionally, this has a potential negative effect where outliers greatly influence the model!\n",
    "3. Doing so creates a convex function, which will be useful when using optimization theory later on.\n",
    "\n",
    "Given this idea, we can define our first *cost or loss function*: the sum of squared error $SSE$. The $SSE$ function can then be written as follows: \n",
    "$$\n",
    "SSE = \\sum_{m=1}^M \\Big(\\hat{y}_m - y_m \\Big)^2.  \\tag{1}\n",
    "$$\n",
    "\n",
    "\n",
    "However, one issue with computing the sum of squared errors is that as we add more data samples the $SSE$ will grow larger, simply because we have more samples. Thus, most ML practitioners use the Mean Squared Error (MSE) function instead. MSE scales the cost value so that the number of samples does not matter. MSE is computed by simply taking the mean of the sum of squared error.\n",
    "\n",
    "$$\n",
    "MSE = \\frac{1}{M}\\sum_{m=1}^M \\Big(\\hat{y}_m- y_m \\Big)^2.  \\tag{1}\n",
    "$$\n",
    "\n",
    "**Our goal is then to *minimize* a single error function, we will also refer to this minimized error function as the objective function**. In this case we can minimize either MSE or SSE as they produce the same results. This is because the MSE is just a scaled version of SSE! Note that any error function we don't minimize we can still use as a performance measure to assess how well the model is fitting the data (more on this in the lab)!"
   ]
  },
  {
   "cell_type": "markdown",
   "metadata": {},
   "source": [
    "**See if you can't select better values by changing `m` and `b` in the below code.**\n",
    "\n",
    "**Select the best line based on the error of said line!**"
   ]
  },
  {
   "cell_type": "code",
   "execution_count": 7,
   "metadata": {},
   "outputs": [
    {
     "data": {
      "image/png": "[encoded data removed]",
      "text/plain": [
       "<Figure size 640x480 with 1 Axes>"
      ]
     },
     "metadata": {},
     "output_type": "display_data"
    },
    {
     "name": "stdout",
     "output_type": "stream",
     "text": [
      "Line 4.5 * X + 3 has the following costs:\n",
      "SSE: 89.88363112511234 MSE: 0.8988363112511234\n"
     ]
    }
   ],
   "source": [
    "# m is the slope or w_1\n",
    "# this changes the steppness of the slope\n",
    "m = 4.5\n",
    "# b is the bias or w_0 \n",
    "# (this changes the y-intercept values)\n",
    "b = 3\n",
    "\n",
    "# Here we can compute our line equation using simulated data X\n",
    "y_hat = m * X + b\n",
    "\n",
    "sse = np.sum((y_hat - y)**2)\n",
    "mse = sse / len(X)\n",
    "\n",
    "# Plotting\n",
    "for i in range(len(y)):\n",
    "    plt.plot([X[i], X[i]], [y[i], y_hat[i]], 'black')\n",
    "plt.plot(X, y, 'b.')\n",
    "plt.plot(X, y_hat, 'r')\n",
    "\n",
    "# Plotting settings\n",
    "plt.ylabel('y')\n",
    "plt.xlabel('x')\n",
    "plt.title(f\"SSE: {sse} MSE: {mse}\")\n",
    "plt.ylim(0, 14)\n",
    "plt.xlim(0, 2)\n",
    "plt.show()\n",
    "\n",
    "print(f\"Line {m} * X + {b} has the following costs:\\nSSE: {sse} MSE: {mse}\")"
   ]
  },
  {
   "cell_type": "markdown",
   "metadata": {},
   "source": [
    "As you adjust the values of `m` and `b` think about how this is to do manually! So how do we learn good parameters automatically? The answer is found in optimization theory!"
   ]
  },
  {
   "cell_type": "markdown",
   "metadata": {},
   "source": [
    "### Optimizing: finding the minima \n",
    "\n",
    "By minimizing the error function (i.e., objective function) we can find the weights/parameter that give produce the smallest total error. In particular, let us minimize the MSE error function. Thus, mathematically, we write this as follows:\n",
    "\n",
    "$$\n",
    "\\wv^* = \\min_\\wv \\frac{1}{M} \\sum_{m=1}^{M} \\Big( f(\\xv_m; \\wv) - y_m \\Big)^2 \n",
    "$$\n",
    "\n",
    "where in this equation\n",
    "\n",
    "- $\\wv^*$ represents the weights which will produce the best model to fit our data (i.e., the smallest total error).\n",
    "\n",
    "- $\\min_\\wv$ indicates we want to minimize our function with respect to our weights $\\wv$.\n",
    "\n",
    "Notice that the SSE function is quadratic, this means we can directly compute the best weights by simply setting the derivative with respect to $\\wv$ equal to zero. Recall from calculus that we can find a function's minimum or maximum by setting the derivative of an equation equal to 0. This is the idea we want to apply here as well. We want to set the derivative of our MSE error function with respect to $\\wv$ equal to 0 so we can solve for the best weights!\n",
    "\n",
    "> Note, however, things aren't this simple as finding the weights that cause our training data to produce an $MSE=0$. Recall that we can overfit to our data in machine learning, thus getting an error of or near zero might actually produce weights that are only work well on the training data!\n",
    "\n",
    "Recall, we want to *minimize* our error function $MSE(\\wv)$ because we want to find the smallest total error! If we wanted to find the worst model with the largest total error, we would *maximize* our total error.\n",
    "\n",
    "\n",
    "#### Options for minimizing MSE\n",
    "\n",
    "1. The first method is *ordinary least squares* which is a closed-form solution. Meaning, we can directly compute the best weights/parameters for our training data using a mathematical equation. Thus, a mathematical equation that gives us the results directly is referred to as a having a closed-form solution. \n",
    "2. The second method is *least mean squares (LMS)* which uses an iterative optimization approach called Gradient Descent (GD). GD works by gradually tweaking the model weights/parameters by iteratively minimize the squared error."
   ]
  },
  {
   "cell_type": "markdown",
   "metadata": {},
   "source": [
    "## Ordinary Least Squares\n",
    "\n",
    "The first method for finding our best weights $\\wv$ is Ordinary Least Squares (i.e., Normal Equation). The equation for finding the $\\wv$ is as follows:\n",
    "\n",
    "$$\n",
    "\\wv = \\big(\\Xm^\\top \\Xm\\big)^{-1} \\Xm^\\top \\yv \\tag{1} \n",
    "$$\n",
    "\n",
    "\n",
    "Our goal will be to derive the following equation by taking the derivative of Eq. 1. If you still feel shaky or anxiety about all the math you just saw don't worry! The important equation to remember is Eq. 1 as this is the closed form solution which we will need to covert to code! Meaning, Eq. 1 will directly solve for the weights $\\wv$ that give us the best fit for our data $\\Xm$ (but maybe not for our unseen data)!\n",
    "\n",
    "\n",
    "### Derivation\n",
    "Recall, the MSE equation is as given below. Let us first expand it and then take the derivative. Note we drop $\\frac{1}{M}$ for convenience (so you could say we are just minimizing the SSE) and $\\sum_{m=1}^M$ goes away as we are working in matrix notation.\n",
    "\n",
    "$$\n",
    "\\begin{align}\n",
    "MSE(\\wv) &= \\frac{1}{M} \\sum_{m=1}^M \\Big(f(\\xv_m; \\wv) - y_m \\Big)^2  \\tag{2}\\\\\n",
    "            \\\\\n",
    "            &= (\\Xm \\wv - \\yv)^\\top (\\Xm \\wv - \\yv)  \\tag{2a}\\\\ \n",
    "            \\\\\n",
    "            &= \\wv^\\top \\Xm^\\top \\Xm \\wv -\\wv^\\top \\Xm^\\top \\yv - \\yv^\\top \\Xm \\wv - \\yv^\\top \\yv  \\tag{2b}\\\\\n",
    "            \\\\\n",
    "            &= \\wv^\\top \\Xm^\\top \\Xm \\wv - 2 \\wv^\\top \\Xm^\\top \\yv + \\yv^\\top \\yv  \\tag{2c} \n",
    "\\end{align}\n",
    "$$\n",
    "\n",
    "For Eq. 2c, we get $2 \\wv^\\top \\Xm^\\top \\yv$ because $\\wv^\\top \\Xm^\\top \\yv$ is just a scalar. Recall, that the transpose of a scalar is just itself, therefore $(\\yv^\\top \\Xm \\wv)^\\top = \\wv^\\top \\Xm^\\top \\yv$ holds true!\n",
    "\n",
    "Now, let us compute the partial derivative. For those of you that are like me that recall very little  matrix derivative or manipulation rules, check out this basic [cheat sheet pdf](www.gatsby.ucl.ac.uk/teaching/courses/sntn/sntn-2017/resources/Matrix_derivatives_cribsheet.pdf). Having this for reference will hopefully make some of the jumps in equations easier to follow.\n",
    "\n",
    "$$\n",
    "\\begin{align}\n",
    "        \\frac{\\partial MSE(\\wv)}{\\partial \\wv} &= \\frac{\\partial (\\Xm \\wv - \\yv)^\\top (\\Xm \\wv - \\yv)}{\\partial \\wv} \\tag{3}\\\\\n",
    "                \\\\\n",
    "                &= \\frac{\\partial (\\wv^\\top \\Xm^\\top \\Xm \\wv - 2 \\wv^\\top \\Xm^\\top \\yv + \\yv^\\top \\yv )}{\\partial \\wv} \\tag{3a}  \\\\\n",
    "                \\\\\n",
    "                &= \\frac{\\partial (\\wv^\\top \\Xm^\\top \\Xm \\wv)}{\\partial \\wv} - 2 \\Xm^\\top \\yv \\tag{3b} \\\\\n",
    "                \\\\\n",
    "                &= 2 \\Xm^\\top \\Xm \\wv - 2 \\Xm^\\top \\yv \\tag{3c}\n",
    "\\end{align}\n",
    "$$\n",
    "\n",
    "For Eq. 3a, when taking the derivative of $\\frac{\\partial ( 2 \\wv^\\top \\Xm^\\top \\yv )}{\\partial \\wv}$ think of $ 2 \\wv^\\top \\Xm^\\top \\yv$ as constant multiplied by $\\wv$ so we are just left with $2 \\Xm^\\top \\yv$ after taking the derivative with respect to $\\wv$. Likewise, as $\\frac{\\partial (\\yv^\\top \\yv)}{\\partial \\wv}$ does not depend on $\\wv$ it goes to zero just like we are used to seeing with typical scalar derivatives.\n",
    "\n",
    "For Eq. 3b, $\\frac{\\partial (\\wv^\\top \\Xm^\\top \\Xm \\wv)}{\\partial \\wv}$ is quadratic so it reduces to $2 \\Xm^\\top \\Xm \\wv$. This matrix derivative rule is similar to the power rule, where $w^2 = 2w$. Thus, anytime you see a quadratic  $\\wv^\\top \\wv$ think of the power rule from calculus 1 where the matrices $\\Xm^T$ and $\\Xm$ are treated as constants!\n",
    "\n",
    "<!-- $$\\begin{align}\n",
    "                 &= \\Xm^\\top \\Xm \\wv + (\\Xm^\\top \\Xm)^\\top \\wv - 2 \\Xm^\\top \\yv \\tag{3d}\\\\\n",
    "                 &= 2 \\Xm^\\top \\Xm \\wv - 2 \\Xm^\\top \\yv \\tag{3e} \\\\\n",
    "              \n",
    "\\end{align}$$\n",
    " -->\n",
    "\n",
    "\n",
    "Setting Eq. 3c to zero, we can derive the closed form solution for ordinary least squares, \n",
    "$$\n",
    "\\begin{align}\n",
    "    0 &= 2 \\Xm^\\top \\Xm \\wv - 2 \\Xm^\\top \\yv   \\tag{4} \\\\\n",
    "\\\\\n",
    "\\Xm^\\top \\Xm \\wv &= \\Xm^\\top \\yv \\tag{4a} \\\\\n",
    "\\\\\n",
    "\\wv &= \\big(\\Xm^\\top \\Xm\\big)^{-1} \\Xm^\\top \\yv \\tag{4b}\n",
    "\\end{align}\n",
    "$$\n",
    "\n",
    "\n"
   ]
  },
  {
   "cell_type": "markdown",
   "metadata": {},
   "source": [
    "### Converting to code\n",
    "\n",
    "Below, we implement the least squares model and apply to the simulated data `X` and `y` defined in the *Defining Linear Models* section. To compute the inverse, we use the `np.linalg.inv()` function or `np.linalg.pinv()` to find the pseudo-inverse (approximate inverse) if our matrix is non-invertible.\n",
    "\n",
    "#### Bias Term (y-intercept)\n",
    "Recall, our data is missing a feature which corresponds to the bias term (recall $w_0$ is our bias term). We need to account for the bias term in our data matrix by adding a column of 1's to the first column of the data $\\Xm$. We set the bias term equal to 1 so that the learned weight will directly correspond to the y-intercept value ($w_0 * 1 = w_0$). Thus, our first weight $w_0$ corresponds to the exact value of the y-intercept! \n",
    "\n",
    "Further, recall that the bias term allows us to shift our line-of-best fit up and down the y-axis! Without this term, our linear model losses some much-needed flexibility as it **must** pass through the origin.\n",
    "\n",
    "\n",
    "<center><img src=\"https://qph.fs.quoracdn.net/main-qimg-c0bb76e8e57e9a33170c45265eadb213\"></center>"
   ]
  },
  {
   "cell_type": "code",
   "execution_count": 8,
   "metadata": {},
   "outputs": [],
   "source": [
    "m_samples = len(X)\n",
    "bias = np.ones((m_samples, 1))\n",
    "# add bias term to our input data\n",
    "X1 = np.hstack([bias, X])\n",
    "\n",
    "# Compute the best weights\n",
    "w = np.linalg.inv(X1.T @ X1) @ X1.T @ y"
   ]
  },
  {
   "cell_type": "code",
   "execution_count": 9,
   "metadata": {
    "scrolled": true
   },
   "outputs": [
    {
     "data": {
      "text/plain": [
       "array([[1.        , 0.74908024],\n",
       "       [1.        , 1.90142861],\n",
       "       [1.        , 1.46398788],\n",
       "       [1.        , 1.19731697],\n",
       "       [1.        , 0.31203728],\n",
       "       [1.        , 0.31198904],\n",
       "       [1.        , 0.11616722],\n",
       "       [1.        , 1.73235229],\n",
       "       [1.        , 1.20223002],\n",
       "       [1.        , 1.41614516],\n",
       "       [1.        , 0.04116899],\n",
       "       [1.        , 1.9398197 ],\n",
       "       [1.        , 1.66488528],\n",
       "       [1.        , 0.42467822],\n",
       "       [1.        , 0.36364993],\n",
       "       [1.        , 0.36680902],\n",
       "       [1.        , 0.60848449],\n",
       "       [1.        , 1.04951286],\n",
       "       [1.        , 0.86389004],\n",
       "       [1.        , 0.58245828],\n",
       "       [1.        , 1.22370579],\n",
       "       [1.        , 0.27898772],\n",
       "       [1.        , 0.5842893 ],\n",
       "       [1.        , 0.73272369],\n",
       "       [1.        , 0.91213997],\n",
       "       [1.        , 1.57035192],\n",
       "       [1.        , 0.39934756],\n",
       "       [1.        , 1.02846888],\n",
       "       [1.        , 1.18482914],\n",
       "       [1.        , 0.09290083],\n",
       "       [1.        , 1.2150897 ],\n",
       "       [1.        , 0.34104825],\n",
       "       [1.        , 0.13010319],\n",
       "       [1.        , 1.89777107],\n",
       "       [1.        , 1.93126407],\n",
       "       [1.        , 1.6167947 ],\n",
       "       [1.        , 0.60922754],\n",
       "       [1.        , 0.19534423],\n",
       "       [1.        , 1.36846605],\n",
       "       [1.        , 0.88030499],\n",
       "       [1.        , 0.24407647],\n",
       "       [1.        , 0.99035382],\n",
       "       [1.        , 0.06877704],\n",
       "       [1.        , 1.8186408 ],\n",
       "       [1.        , 0.51755996],\n",
       "       [1.        , 1.32504457],\n",
       "       [1.        , 0.62342215],\n",
       "       [1.        , 1.04013604],\n",
       "       [1.        , 1.09342056],\n",
       "       [1.        , 0.36970891],\n",
       "       [1.        , 1.93916926],\n",
       "       [1.        , 1.55026565],\n",
       "       [1.        , 1.87899788],\n",
       "       [1.        , 1.7896547 ],\n",
       "       [1.        , 1.19579996],\n",
       "       [1.        , 1.84374847],\n",
       "       [1.        , 0.176985  ],\n",
       "       [1.        , 0.39196572],\n",
       "       [1.        , 0.09045458],\n",
       "       [1.        , 0.65066066],\n",
       "       [1.        , 0.77735458],\n",
       "       [1.        , 0.54269806],\n",
       "       [1.        , 1.65747502],\n",
       "       [1.        , 0.71350665],\n",
       "       [1.        , 0.56186902],\n",
       "       [1.        , 1.08539217],\n",
       "       [1.        , 0.28184845],\n",
       "       [1.        , 1.60439396],\n",
       "       [1.        , 0.14910129],\n",
       "       [1.        , 1.97377387],\n",
       "       [1.        , 1.54448954],\n",
       "       [1.        , 0.39743136],\n",
       "       [1.        , 0.01104423],\n",
       "       [1.        , 1.63092286],\n",
       "       [1.        , 1.41371469],\n",
       "       [1.        , 1.45801434],\n",
       "       [1.        , 1.54254069],\n",
       "       [1.        , 0.1480893 ],\n",
       "       [1.        , 0.71693146],\n",
       "       [1.        , 0.23173812],\n",
       "       [1.        , 1.72620685],\n",
       "       [1.        , 1.24659625],\n",
       "       [1.        , 0.66179605],\n",
       "       [1.        , 0.1271167 ],\n",
       "       [1.        , 0.62196464],\n",
       "       [1.        , 0.65036664],\n",
       "       [1.        , 1.45921236],\n",
       "       [1.        , 1.27511494],\n",
       "       [1.        , 1.77442549],\n",
       "       [1.        , 0.94442985],\n",
       "       [1.        , 0.23918849],\n",
       "       [1.        , 1.42648957],\n",
       "       [1.        , 1.5215701 ],\n",
       "       [1.        , 1.1225544 ],\n",
       "       [1.        , 1.54193436],\n",
       "       [1.        , 0.98759119],\n",
       "       [1.        , 1.04546566],\n",
       "       [1.        , 0.85508204],\n",
       "       [1.        , 0.05083825],\n",
       "       [1.        , 0.21578285]])"
      ]
     },
     "execution_count": 9,
     "metadata": {},
     "output_type": "execute_result"
    }
   ],
   "source": [
    "X1"
   ]
  },
  {
   "cell_type": "markdown",
   "metadata": {},
   "source": [
    "If you look at our learned weights `w` can see we have leaned a bias of $4.51359766$ and a slope of $2.98323418$."
   ]
  },
  {
   "cell_type": "code",
   "execution_count": 10,
   "metadata": {},
   "outputs": [
    {
     "data": {
      "text/plain": [
       "array([[4.51359766],\n",
       "       [2.98323418]])"
      ]
     },
     "execution_count": 10,
     "metadata": {},
     "output_type": "execute_result"
    }
   ],
   "source": [
    "w"
   ]
  },
  {
   "cell_type": "markdown",
   "metadata": {},
   "source": [
    "After getting the parameter `w` we can make our predictions by computing $\\hat{\\yv} = \\Xm \\wv$"
   ]
  },
  {
   "cell_type": "code",
   "execution_count": 11,
   "metadata": {},
   "outputs": [
    {
     "data": {
      "image/png": "[encoded data removed]",
      "text/plain": [
       "<Figure size 640x480 with 1 Axes>"
      ]
     },
     "metadata": {},
     "output_type": "display_data"
    },
    {
     "name": "stdout",
     "output_type": "stream",
     "text": [
      "Line 4.5 * X + 3 SSE: 8.495655256593736 MSE: 0.08495655256593736\n"
     ]
    }
   ],
   "source": [
    "# Predictions\n",
    "y_hat = X1 @ w\n",
    "# Error fucntion SSE\n",
    "sse = np.sum((y_hat - y)**2)\n",
    "# Mean Error\n",
    "mse = sse / len(X)\n",
    "\n",
    "# Plotting\n",
    "for i in range(len(y)):\n",
    "    plt.plot([X[i], X[i]], [y[i], y_hat[i]], 'black')\n",
    "plt.plot(X, y, 'b.')\n",
    "plt.plot(X, y_hat, 'r')\n",
    "\n",
    "# Plotting settings\n",
    "plt.ylabel('y')\n",
    "plt.xlabel('x')\n",
    "plt.title(f\"SSE: {sse} MSE: {mse}\")\n",
    "plt.ylim(0, 14)\n",
    "plt.xlim(0, 2)\n",
    "plt.show()\n",
    "\n",
    "print(f\"Line {m} * X + {b} SSE: {sse} MSE: {mse}\")"
   ]
  },
  {
   "cell_type": "markdown",
   "metadata": {},
   "source": [
    "\n",
    "We did it! We found the line of best fit for our toy data. Note that what we just did is referred to as *single variable linear regression*. If we have more than one feature then we perform *multiple linear regression*."
   ]
  },
  {
   "cell_type": "markdown",
   "metadata": {},
   "source": [
    "### Issues\n",
    "\n",
    "While solving for the best weights is great, it is actually not typically plausible for practical large real-world datasets for two reasons:\n",
    "\n",
    "1. First, because taking the inverse of our entire dataset $\\Xm^T \\Xm$ is extremely computationally expensive as our number of features $n$ becomes large (i.e., greater than 10,000)! Computing this inverse typically takes $O(N^3)$ time. In regard to the data samples, ordinary least squares grows linearly in computation complexity, so $O(M)$.\n",
    "\n",
    "2. Second, because sometimes we are not able to fit our entire dataset into memory! When working with millions of data samples, fitting all of our data into memory is not typically possible.\n",
    "\n",
    "For these two reasons, the gradient descent iterative method can be used instead!"
   ]
  }
 ],
 "metadata": {
  "kernelspec": {
   "display_name": "Python 3 (ipykernel)",
   "language": "python",
   "name": "python3"
  },
  "language_info": {
   "codemirror_mode": {
    "name": "ipython",
    "version": 3
   },
   "file_extension": ".py",
   "mimetype": "text/x-python",
   "name": "python",
   "nbconvert_exporter": "python",
   "pygments_lexer": "ipython3",
   "version": "3.9.19"
  },
  "toc": {
   "base_numbering": 1,
   "nav_menu": {},
   "number_sections": true,
   "sideBar": true,
   "skip_h1_title": false,
   "title_cell": "Table of Contents",
   "title_sidebar": "Contents",
   "toc_cell": false,
   "toc_position": {
    "height": "calc(100% - 180px)",
    "left": "10px",
    "top": "150px",
    "width": "216px"
   },
   "toc_section_display": true,
   "toc_window_display": true
  }
 },
 "nbformat": 4,
 "nbformat_minor": 4
}
